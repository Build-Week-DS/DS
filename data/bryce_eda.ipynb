{
  "nbformat": 4,
  "nbformat_minor": 0,
  "metadata": {
    "colab": {
      "name": "bryce_eda.ipynb",
      "provenance": []
    },
    "kernelspec": {
      "name": "python3",
      "display_name": "Python 3"
    }
  },
  "cells": [
    {
      "cell_type": "code",
      "metadata": {
        "id": "Hw827tlzEYnG"
      },
      "source": [
        "import pandas as pd\n",
        "from pprint import pprint"
      ],
      "execution_count": 23,
      "outputs": []
    },
    {
      "cell_type": "code",
      "metadata": {
        "id": "B6quynaiFPoK"
      },
      "source": [
        ""
      ],
      "execution_count": 23,
      "outputs": []
    },
    {
      "cell_type": "markdown",
      "metadata": {
        "id": "r1dUSRnzEF_1"
      },
      "source": [
        "### Read in the data and take a look"
      ]
    },
    {
      "cell_type": "code",
      "metadata": {
        "id": "wuDc3XqDDfWm"
      },
      "source": [
        "# later I want to upload this to the git and read it in from there\n",
        "url = \"https://raw.githubusercontent.com/Build-Week-DS/DS/notebook_Exploratory/data/listings.csv\"\n",
        "\n",
        "sfbnb_df = pd.read_csv(url)"
      ],
      "execution_count": 24,
      "outputs": []
    },
    {
      "cell_type": "code",
      "metadata": {
        "id": "s_aaSVgIEVwb",
        "outputId": "5b466b09-a7df-4e07-ca16-4b973e597b78",
        "colab": {
          "base_uri": "https://localhost:8080/",
          "height": 649
        }
      },
      "source": [
        "sfbnb_df.head()"
      ],
      "execution_count": 25,
      "outputs": [
        {
          "output_type": "execute_result",
          "data": {
            "text/html": [
              "<div>\n",
              "<style scoped>\n",
              "    .dataframe tbody tr th:only-of-type {\n",
              "        vertical-align: middle;\n",
              "    }\n",
              "\n",
              "    .dataframe tbody tr th {\n",
              "        vertical-align: top;\n",
              "    }\n",
              "\n",
              "    .dataframe thead th {\n",
              "        text-align: right;\n",
              "    }\n",
              "</style>\n",
              "<table border=\"1\" class=\"dataframe\">\n",
              "  <thead>\n",
              "    <tr style=\"text-align: right;\">\n",
              "      <th></th>\n",
              "      <th>id</th>\n",
              "      <th>listing_url</th>\n",
              "      <th>scrape_id</th>\n",
              "      <th>last_scraped</th>\n",
              "      <th>name</th>\n",
              "      <th>summary</th>\n",
              "      <th>space</th>\n",
              "      <th>description</th>\n",
              "      <th>experiences_offered</th>\n",
              "      <th>neighborhood_overview</th>\n",
              "      <th>notes</th>\n",
              "      <th>transit</th>\n",
              "      <th>access</th>\n",
              "      <th>interaction</th>\n",
              "      <th>house_rules</th>\n",
              "      <th>thumbnail_url</th>\n",
              "      <th>medium_url</th>\n",
              "      <th>picture_url</th>\n",
              "      <th>xl_picture_url</th>\n",
              "      <th>host_id</th>\n",
              "      <th>host_url</th>\n",
              "      <th>host_name</th>\n",
              "      <th>host_since</th>\n",
              "      <th>host_location</th>\n",
              "      <th>host_about</th>\n",
              "      <th>host_response_time</th>\n",
              "      <th>host_response_rate</th>\n",
              "      <th>host_acceptance_rate</th>\n",
              "      <th>host_is_superhost</th>\n",
              "      <th>host_thumbnail_url</th>\n",
              "      <th>host_picture_url</th>\n",
              "      <th>host_neighbourhood</th>\n",
              "      <th>host_listings_count</th>\n",
              "      <th>host_total_listings_count</th>\n",
              "      <th>host_verifications</th>\n",
              "      <th>host_has_profile_pic</th>\n",
              "      <th>host_identity_verified</th>\n",
              "      <th>street</th>\n",
              "      <th>neighbourhood</th>\n",
              "      <th>neighbourhood_cleansed</th>\n",
              "      <th>neighbourhood_group_cleansed</th>\n",
              "      <th>city</th>\n",
              "      <th>state</th>\n",
              "      <th>zipcode</th>\n",
              "      <th>market</th>\n",
              "      <th>smart_location</th>\n",
              "      <th>country_code</th>\n",
              "      <th>country</th>\n",
              "      <th>latitude</th>\n",
              "      <th>longitude</th>\n",
              "      <th>is_location_exact</th>\n",
              "      <th>property_type</th>\n",
              "      <th>room_type</th>\n",
              "      <th>accommodates</th>\n",
              "      <th>bathrooms</th>\n",
              "      <th>bedrooms</th>\n",
              "      <th>beds</th>\n",
              "      <th>bed_type</th>\n",
              "      <th>amenities</th>\n",
              "      <th>square_feet</th>\n",
              "      <th>price</th>\n",
              "      <th>weekly_price</th>\n",
              "      <th>monthly_price</th>\n",
              "      <th>security_deposit</th>\n",
              "      <th>cleaning_fee</th>\n",
              "      <th>guests_included</th>\n",
              "      <th>extra_people</th>\n",
              "      <th>minimum_nights</th>\n",
              "      <th>maximum_nights</th>\n",
              "      <th>minimum_minimum_nights</th>\n",
              "      <th>maximum_minimum_nights</th>\n",
              "      <th>minimum_maximum_nights</th>\n",
              "      <th>maximum_maximum_nights</th>\n",
              "      <th>minimum_nights_avg_ntm</th>\n",
              "      <th>maximum_nights_avg_ntm</th>\n",
              "      <th>calendar_updated</th>\n",
              "      <th>has_availability</th>\n",
              "      <th>availability_30</th>\n",
              "      <th>availability_60</th>\n",
              "      <th>availability_90</th>\n",
              "      <th>availability_365</th>\n",
              "      <th>calendar_last_scraped</th>\n",
              "      <th>number_of_reviews</th>\n",
              "      <th>number_of_reviews_ltm</th>\n",
              "      <th>first_review</th>\n",
              "      <th>last_review</th>\n",
              "      <th>review_scores_rating</th>\n",
              "      <th>review_scores_accuracy</th>\n",
              "      <th>review_scores_cleanliness</th>\n",
              "      <th>review_scores_checkin</th>\n",
              "      <th>review_scores_communication</th>\n",
              "      <th>review_scores_location</th>\n",
              "      <th>review_scores_value</th>\n",
              "      <th>requires_license</th>\n",
              "      <th>license</th>\n",
              "      <th>jurisdiction_names</th>\n",
              "      <th>instant_bookable</th>\n",
              "      <th>is_business_travel_ready</th>\n",
              "      <th>cancellation_policy</th>\n",
              "      <th>require_guest_profile_picture</th>\n",
              "      <th>require_guest_phone_verification</th>\n",
              "      <th>calculated_host_listings_count</th>\n",
              "      <th>calculated_host_listings_count_entire_homes</th>\n",
              "      <th>calculated_host_listings_count_private_rooms</th>\n",
              "      <th>calculated_host_listings_count_shared_rooms</th>\n",
              "      <th>reviews_per_month</th>\n",
              "    </tr>\n",
              "  </thead>\n",
              "  <tbody>\n",
              "    <tr>\n",
              "      <th>0</th>\n",
              "      <td>958</td>\n",
              "      <td>https://www.airbnb.com/rooms/958</td>\n",
              "      <td>2.019100e+13</td>\n",
              "      <td>10/14/19</td>\n",
              "      <td>Bright, Modern Garden Unit - 1BR/1B</td>\n",
              "      <td>New update: the house next door is under const...</td>\n",
              "      <td>Newly remodeled, modern, and bright garden uni...</td>\n",
              "      <td>New update: the house next door is under const...</td>\n",
              "      <td>none</td>\n",
              "      <td>*Quiet cul de sac in friendly neighborhood *St...</td>\n",
              "      <td>Due to the fact that we have children and a do...</td>\n",
              "      <td>*Public Transportation is 1/2 block away.  *Ce...</td>\n",
              "      <td>*Full access to patio and backyard (shared wit...</td>\n",
              "      <td>A family of 4 lives upstairs with their dog. N...</td>\n",
              "      <td>* No Pets - even visiting guests for a short t...</td>\n",
              "      <td>NaN</td>\n",
              "      <td>NaN</td>\n",
              "      <td>https://a0.muscache.com/im/pictures/b7c2a199-4...</td>\n",
              "      <td>NaN</td>\n",
              "      <td>1169</td>\n",
              "      <td>https://www.airbnb.com/users/show/1169</td>\n",
              "      <td>Holly</td>\n",
              "      <td>7/31/08</td>\n",
              "      <td>San Francisco, California, United States</td>\n",
              "      <td>We are a family with 2 boys born in 2009 and 2...</td>\n",
              "      <td>within a day</td>\n",
              "      <td>100%</td>\n",
              "      <td>NaN</td>\n",
              "      <td>t</td>\n",
              "      <td>https://a0.muscache.com/im/pictures/efdad96a-3...</td>\n",
              "      <td>https://a0.muscache.com/im/pictures/efdad96a-3...</td>\n",
              "      <td>Duboce Triangle</td>\n",
              "      <td>1.0</td>\n",
              "      <td>1.0</td>\n",
              "      <td>['email', 'phone', 'facebook', 'reviews', 'kba']</td>\n",
              "      <td>t</td>\n",
              "      <td>t</td>\n",
              "      <td>San Francisco, CA, United States</td>\n",
              "      <td>Duboce Triangle</td>\n",
              "      <td>Western Addition</td>\n",
              "      <td>NaN</td>\n",
              "      <td>San Francisco</td>\n",
              "      <td>CA</td>\n",
              "      <td>94117</td>\n",
              "      <td>San Francisco</td>\n",
              "      <td>San Francisco, CA</td>\n",
              "      <td>US</td>\n",
              "      <td>United States</td>\n",
              "      <td>37.76931</td>\n",
              "      <td>-122.43386</td>\n",
              "      <td>t</td>\n",
              "      <td>Apartment</td>\n",
              "      <td>Entire home/apt</td>\n",
              "      <td>3</td>\n",
              "      <td>1.0</td>\n",
              "      <td>1.0</td>\n",
              "      <td>2.0</td>\n",
              "      <td>Real Bed</td>\n",
              "      <td>{TV,\"Cable TV\",Internet,Wifi,Kitchen,\"Pets liv...</td>\n",
              "      <td>NaN</td>\n",
              "      <td>$170.00</td>\n",
              "      <td>$1,120.00</td>\n",
              "      <td>$4,200.00</td>\n",
              "      <td>$100.00</td>\n",
              "      <td>$100.00</td>\n",
              "      <td>2</td>\n",
              "      <td>$25.00</td>\n",
              "      <td>1</td>\n",
              "      <td>30</td>\n",
              "      <td>1</td>\n",
              "      <td>1</td>\n",
              "      <td>30</td>\n",
              "      <td>30</td>\n",
              "      <td>1.0</td>\n",
              "      <td>30.0</td>\n",
              "      <td>2 months ago</td>\n",
              "      <td>t</td>\n",
              "      <td>3</td>\n",
              "      <td>8</td>\n",
              "      <td>16</td>\n",
              "      <td>85</td>\n",
              "      <td>10/14/19</td>\n",
              "      <td>217</td>\n",
              "      <td>52</td>\n",
              "      <td>7/23/09</td>\n",
              "      <td>9/21/19</td>\n",
              "      <td>97.0</td>\n",
              "      <td>10.0</td>\n",
              "      <td>10.0</td>\n",
              "      <td>10.0</td>\n",
              "      <td>10.0</td>\n",
              "      <td>10.0</td>\n",
              "      <td>9.0</td>\n",
              "      <td>t</td>\n",
              "      <td>STR-0001256</td>\n",
              "      <td>{\"SAN FRANCISCO\"}</td>\n",
              "      <td>f</td>\n",
              "      <td>f</td>\n",
              "      <td>moderate</td>\n",
              "      <td>f</td>\n",
              "      <td>f</td>\n",
              "      <td>1</td>\n",
              "      <td>1</td>\n",
              "      <td>0</td>\n",
              "      <td>0</td>\n",
              "      <td>1.74</td>\n",
              "    </tr>\n",
              "    <tr>\n",
              "      <th>1</th>\n",
              "      <td>3850</td>\n",
              "      <td>https://www.airbnb.com/rooms/3850</td>\n",
              "      <td>2.019100e+13</td>\n",
              "      <td>10/14/19</td>\n",
              "      <td>Charming room for two</td>\n",
              "      <td>Your own private room plus access to a shared ...</td>\n",
              "      <td>This room can fit two people. Nobody else will...</td>\n",
              "      <td>Your own private room plus access to a shared ...</td>\n",
              "      <td>none</td>\n",
              "      <td>This is a quiet, safe neighborhood on a substa...</td>\n",
              "      <td>House Rule footnotes: 1.\\tI don’t allow check ...</td>\n",
              "      <td>Public transit service to my house is outstand...</td>\n",
              "      <td>During the hours of 7:00 to 22:00, your access...</td>\n",
              "      <td>I live at the house in my own bedroom, and I w...</td>\n",
              "      <td>Airbnb has no default house rules that hosts c...</td>\n",
              "      <td>NaN</td>\n",
              "      <td>NaN</td>\n",
              "      <td>https://a0.muscache.com/im/pictures/b6e97d2a-1...</td>\n",
              "      <td>NaN</td>\n",
              "      <td>4921</td>\n",
              "      <td>https://www.airbnb.com/users/show/4921</td>\n",
              "      <td>Kevin</td>\n",
              "      <td>12/8/08</td>\n",
              "      <td>San Francisco, California, United States</td>\n",
              "      <td>I am a retired software developer now raising ...</td>\n",
              "      <td>within an hour</td>\n",
              "      <td>100%</td>\n",
              "      <td>NaN</td>\n",
              "      <td>t</td>\n",
              "      <td>https://a0.muscache.com/im/pictures/97d29791-d...</td>\n",
              "      <td>https://a0.muscache.com/im/pictures/97d29791-d...</td>\n",
              "      <td>Inner Sunset</td>\n",
              "      <td>2.0</td>\n",
              "      <td>2.0</td>\n",
              "      <td>['email', 'phone', 'reviews', 'jumio', 'govern...</td>\n",
              "      <td>t</td>\n",
              "      <td>t</td>\n",
              "      <td>San Francisco, CA, United States</td>\n",
              "      <td>Inner Sunset</td>\n",
              "      <td>Inner Sunset</td>\n",
              "      <td>NaN</td>\n",
              "      <td>San Francisco</td>\n",
              "      <td>CA</td>\n",
              "      <td>94131</td>\n",
              "      <td>San Francisco</td>\n",
              "      <td>San Francisco, CA</td>\n",
              "      <td>US</td>\n",
              "      <td>United States</td>\n",
              "      <td>37.75402</td>\n",
              "      <td>-122.45805</td>\n",
              "      <td>t</td>\n",
              "      <td>House</td>\n",
              "      <td>Private room</td>\n",
              "      <td>2</td>\n",
              "      <td>1.0</td>\n",
              "      <td>1.0</td>\n",
              "      <td>1.0</td>\n",
              "      <td>Real Bed</td>\n",
              "      <td>{Internet,Wifi,Kitchen,Breakfast,\"Free street ...</td>\n",
              "      <td>NaN</td>\n",
              "      <td>$99.00</td>\n",
              "      <td>NaN</td>\n",
              "      <td>NaN</td>\n",
              "      <td>$0.00</td>\n",
              "      <td>$10.00</td>\n",
              "      <td>2</td>\n",
              "      <td>$20.00</td>\n",
              "      <td>1</td>\n",
              "      <td>5</td>\n",
              "      <td>1</td>\n",
              "      <td>1</td>\n",
              "      <td>5</td>\n",
              "      <td>5</td>\n",
              "      <td>1.0</td>\n",
              "      <td>5.0</td>\n",
              "      <td>3 days ago</td>\n",
              "      <td>t</td>\n",
              "      <td>5</td>\n",
              "      <td>32</td>\n",
              "      <td>62</td>\n",
              "      <td>62</td>\n",
              "      <td>10/14/19</td>\n",
              "      <td>160</td>\n",
              "      <td>36</td>\n",
              "      <td>7/16/09</td>\n",
              "      <td>9/30/19</td>\n",
              "      <td>94.0</td>\n",
              "      <td>10.0</td>\n",
              "      <td>10.0</td>\n",
              "      <td>10.0</td>\n",
              "      <td>10.0</td>\n",
              "      <td>10.0</td>\n",
              "      <td>10.0</td>\n",
              "      <td>t</td>\n",
              "      <td>STR-0000346</td>\n",
              "      <td>{\"SAN FRANCISCO\"}</td>\n",
              "      <td>f</td>\n",
              "      <td>f</td>\n",
              "      <td>strict_14_with_grace_period</td>\n",
              "      <td>f</td>\n",
              "      <td>f</td>\n",
              "      <td>3</td>\n",
              "      <td>0</td>\n",
              "      <td>3</td>\n",
              "      <td>0</td>\n",
              "      <td>1.28</td>\n",
              "    </tr>\n",
              "    <tr>\n",
              "      <th>2</th>\n",
              "      <td>5858</td>\n",
              "      <td>https://www.airbnb.com/rooms/5858</td>\n",
              "      <td>2.019100e+13</td>\n",
              "      <td>10/14/19</td>\n",
              "      <td>Creative Sanctuary</td>\n",
              "      <td>NaN</td>\n",
              "      <td>We live in a large Victorian house on a quiet ...</td>\n",
              "      <td>We live in a large Victorian house on a quiet ...</td>\n",
              "      <td>none</td>\n",
              "      <td>I love how our neighborhood feels quiet but is...</td>\n",
              "      <td>All the furniture in the house was handmade so...</td>\n",
              "      <td>The train is two blocks away and you can stop ...</td>\n",
              "      <td>Our deck, garden, gourmet kitchen and extensiv...</td>\n",
              "      <td>NaN</td>\n",
              "      <td>Please respect the house, the art work, the fu...</td>\n",
              "      <td>NaN</td>\n",
              "      <td>NaN</td>\n",
              "      <td>https://a0.muscache.com/im/pictures/17714/3a7a...</td>\n",
              "      <td>NaN</td>\n",
              "      <td>8904</td>\n",
              "      <td>https://www.airbnb.com/users/show/8904</td>\n",
              "      <td>Philip And Tania</td>\n",
              "      <td>3/2/09</td>\n",
              "      <td>San Francisco, California, United States</td>\n",
              "      <td>Philip: English transplant to the Bay Area and...</td>\n",
              "      <td>within a day</td>\n",
              "      <td>80%</td>\n",
              "      <td>NaN</td>\n",
              "      <td>f</td>\n",
              "      <td>https://a0.muscache.com/im/users/8904/profile_...</td>\n",
              "      <td>https://a0.muscache.com/im/users/8904/profile_...</td>\n",
              "      <td>Bernal Heights</td>\n",
              "      <td>2.0</td>\n",
              "      <td>2.0</td>\n",
              "      <td>['email', 'phone', 'reviews', 'kba', 'work_ema...</td>\n",
              "      <td>t</td>\n",
              "      <td>t</td>\n",
              "      <td>San Francisco, CA, United States</td>\n",
              "      <td>Bernal Heights</td>\n",
              "      <td>Bernal Heights</td>\n",
              "      <td>NaN</td>\n",
              "      <td>San Francisco</td>\n",
              "      <td>CA</td>\n",
              "      <td>94110</td>\n",
              "      <td>San Francisco</td>\n",
              "      <td>San Francisco, CA</td>\n",
              "      <td>US</td>\n",
              "      <td>United States</td>\n",
              "      <td>37.74511</td>\n",
              "      <td>-122.42102</td>\n",
              "      <td>t</td>\n",
              "      <td>Apartment</td>\n",
              "      <td>Entire home/apt</td>\n",
              "      <td>5</td>\n",
              "      <td>1.0</td>\n",
              "      <td>2.0</td>\n",
              "      <td>3.0</td>\n",
              "      <td>Real Bed</td>\n",
              "      <td>{Internet,Wifi,Kitchen,Heating,\"Family/kid fri...</td>\n",
              "      <td>NaN</td>\n",
              "      <td>$235.00</td>\n",
              "      <td>$1,600.00</td>\n",
              "      <td>$5,500.00</td>\n",
              "      <td>NaN</td>\n",
              "      <td>$100.00</td>\n",
              "      <td>2</td>\n",
              "      <td>$0.00</td>\n",
              "      <td>30</td>\n",
              "      <td>60</td>\n",
              "      <td>30</td>\n",
              "      <td>30</td>\n",
              "      <td>60</td>\n",
              "      <td>60</td>\n",
              "      <td>30.0</td>\n",
              "      <td>60.0</td>\n",
              "      <td>3 weeks ago</td>\n",
              "      <td>t</td>\n",
              "      <td>0</td>\n",
              "      <td>0</td>\n",
              "      <td>0</td>\n",
              "      <td>0</td>\n",
              "      <td>10/14/19</td>\n",
              "      <td>111</td>\n",
              "      <td>0</td>\n",
              "      <td>5/3/09</td>\n",
              "      <td>8/6/17</td>\n",
              "      <td>98.0</td>\n",
              "      <td>10.0</td>\n",
              "      <td>10.0</td>\n",
              "      <td>10.0</td>\n",
              "      <td>10.0</td>\n",
              "      <td>10.0</td>\n",
              "      <td>9.0</td>\n",
              "      <td>t</td>\n",
              "      <td>NaN</td>\n",
              "      <td>{\"SAN FRANCISCO\"}</td>\n",
              "      <td>f</td>\n",
              "      <td>f</td>\n",
              "      <td>strict_14_with_grace_period</td>\n",
              "      <td>f</td>\n",
              "      <td>f</td>\n",
              "      <td>1</td>\n",
              "      <td>1</td>\n",
              "      <td>0</td>\n",
              "      <td>0</td>\n",
              "      <td>0.87</td>\n",
              "    </tr>\n",
              "    <tr>\n",
              "      <th>3</th>\n",
              "      <td>7918</td>\n",
              "      <td>https://www.airbnb.com/rooms/7918</td>\n",
              "      <td>2.019100e+13</td>\n",
              "      <td>10/14/19</td>\n",
              "      <td>A Friendly Room - UCSF/USF - San Francisco</td>\n",
              "      <td>Nice and good public transportation.  7 minute...</td>\n",
              "      <td>Settle down, S.F. resident, student, hospital,...</td>\n",
              "      <td>Nice and good public transportation.  7 minute...</td>\n",
              "      <td>none</td>\n",
              "      <td>Shopping old town, restaurants, McDonald, Whol...</td>\n",
              "      <td>Wi-Fi signal in common areas.   Large eat in k...</td>\n",
              "      <td>N Juda Muni and bus stop.  Street parking.</td>\n",
              "      <td>NaN</td>\n",
              "      <td>NaN</td>\n",
              "      <td>No party, No smoking, not for any kinds of smo...</td>\n",
              "      <td>NaN</td>\n",
              "      <td>NaN</td>\n",
              "      <td>https://a0.muscache.com/im/pictures/26356/8030...</td>\n",
              "      <td>NaN</td>\n",
              "      <td>21994</td>\n",
              "      <td>https://www.airbnb.com/users/show/21994</td>\n",
              "      <td>Aaron</td>\n",
              "      <td>6/17/09</td>\n",
              "      <td>San Francisco, California, United States</td>\n",
              "      <td>7 minutes walk to UCSF hospital &amp; school campu...</td>\n",
              "      <td>within an hour</td>\n",
              "      <td>86%</td>\n",
              "      <td>NaN</td>\n",
              "      <td>t</td>\n",
              "      <td>https://a0.muscache.com/im/users/21994/profile...</td>\n",
              "      <td>https://a0.muscache.com/im/users/21994/profile...</td>\n",
              "      <td>Cole Valley</td>\n",
              "      <td>10.0</td>\n",
              "      <td>10.0</td>\n",
              "      <td>['email', 'phone', 'reviews', 'jumio', 'govern...</td>\n",
              "      <td>t</td>\n",
              "      <td>t</td>\n",
              "      <td>San Francisco, CA, United States</td>\n",
              "      <td>Cole Valley</td>\n",
              "      <td>Haight Ashbury</td>\n",
              "      <td>NaN</td>\n",
              "      <td>San Francisco</td>\n",
              "      <td>CA</td>\n",
              "      <td>94117</td>\n",
              "      <td>San Francisco</td>\n",
              "      <td>San Francisco, CA</td>\n",
              "      <td>US</td>\n",
              "      <td>United States</td>\n",
              "      <td>37.76669</td>\n",
              "      <td>-122.45250</td>\n",
              "      <td>t</td>\n",
              "      <td>Apartment</td>\n",
              "      <td>Private room</td>\n",
              "      <td>2</td>\n",
              "      <td>4.0</td>\n",
              "      <td>1.0</td>\n",
              "      <td>1.0</td>\n",
              "      <td>Real Bed</td>\n",
              "      <td>{TV,Internet,Wifi,Kitchen,\"Free street parking...</td>\n",
              "      <td>NaN</td>\n",
              "      <td>$65.00</td>\n",
              "      <td>$485.00</td>\n",
              "      <td>$1,685.00</td>\n",
              "      <td>$200.00</td>\n",
              "      <td>$50.00</td>\n",
              "      <td>1</td>\n",
              "      <td>$12.00</td>\n",
              "      <td>32</td>\n",
              "      <td>60</td>\n",
              "      <td>32</td>\n",
              "      <td>32</td>\n",
              "      <td>60</td>\n",
              "      <td>60</td>\n",
              "      <td>32.0</td>\n",
              "      <td>60.0</td>\n",
              "      <td>3 months ago</td>\n",
              "      <td>t</td>\n",
              "      <td>30</td>\n",
              "      <td>60</td>\n",
              "      <td>90</td>\n",
              "      <td>365</td>\n",
              "      <td>10/14/19</td>\n",
              "      <td>18</td>\n",
              "      <td>1</td>\n",
              "      <td>8/31/09</td>\n",
              "      <td>9/10/19</td>\n",
              "      <td>86.0</td>\n",
              "      <td>8.0</td>\n",
              "      <td>8.0</td>\n",
              "      <td>9.0</td>\n",
              "      <td>9.0</td>\n",
              "      <td>9.0</td>\n",
              "      <td>8.0</td>\n",
              "      <td>t</td>\n",
              "      <td>NaN</td>\n",
              "      <td>{\"SAN FRANCISCO\"}</td>\n",
              "      <td>f</td>\n",
              "      <td>f</td>\n",
              "      <td>strict_14_with_grace_period</td>\n",
              "      <td>f</td>\n",
              "      <td>f</td>\n",
              "      <td>9</td>\n",
              "      <td>0</td>\n",
              "      <td>9</td>\n",
              "      <td>0</td>\n",
              "      <td>0.15</td>\n",
              "    </tr>\n",
              "    <tr>\n",
              "      <th>4</th>\n",
              "      <td>8142</td>\n",
              "      <td>https://www.airbnb.com/rooms/8142</td>\n",
              "      <td>2.019100e+13</td>\n",
              "      <td>10/14/19</td>\n",
              "      <td>Friendly Room Apt. Style -UCSF/USF - San Franc...</td>\n",
              "      <td>Nice and good public transportation.  7 minute...</td>\n",
              "      <td>Settle down, S.F. resident, student, hospital,...</td>\n",
              "      <td>Nice and good public transportation.  7 minute...</td>\n",
              "      <td>none</td>\n",
              "      <td>NaN</td>\n",
              "      <td>Wi-Fi signal in common areas.   Large eat in k...</td>\n",
              "      <td>N Juda Muni, Bus and UCSF Shuttle. small shopp...</td>\n",
              "      <td>NaN</td>\n",
              "      <td>NaN</td>\n",
              "      <td>no pet no smoke no party inside the building</td>\n",
              "      <td>NaN</td>\n",
              "      <td>NaN</td>\n",
              "      <td>https://a0.muscache.com/im/pictures/27832/3b1f...</td>\n",
              "      <td>NaN</td>\n",
              "      <td>21994</td>\n",
              "      <td>https://www.airbnb.com/users/show/21994</td>\n",
              "      <td>Aaron</td>\n",
              "      <td>6/17/09</td>\n",
              "      <td>San Francisco, California, United States</td>\n",
              "      <td>7 minutes walk to UCSF hospital &amp; school campu...</td>\n",
              "      <td>within an hour</td>\n",
              "      <td>86%</td>\n",
              "      <td>NaN</td>\n",
              "      <td>t</td>\n",
              "      <td>https://a0.muscache.com/im/users/21994/profile...</td>\n",
              "      <td>https://a0.muscache.com/im/users/21994/profile...</td>\n",
              "      <td>Cole Valley</td>\n",
              "      <td>10.0</td>\n",
              "      <td>10.0</td>\n",
              "      <td>['email', 'phone', 'reviews', 'jumio', 'govern...</td>\n",
              "      <td>t</td>\n",
              "      <td>t</td>\n",
              "      <td>San Francisco, CA, United States</td>\n",
              "      <td>Cole Valley</td>\n",
              "      <td>Haight Ashbury</td>\n",
              "      <td>NaN</td>\n",
              "      <td>San Francisco</td>\n",
              "      <td>CA</td>\n",
              "      <td>94117</td>\n",
              "      <td>San Francisco</td>\n",
              "      <td>San Francisco, CA</td>\n",
              "      <td>US</td>\n",
              "      <td>United States</td>\n",
              "      <td>37.76487</td>\n",
              "      <td>-122.45183</td>\n",
              "      <td>t</td>\n",
              "      <td>Apartment</td>\n",
              "      <td>Private room</td>\n",
              "      <td>2</td>\n",
              "      <td>4.0</td>\n",
              "      <td>1.0</td>\n",
              "      <td>1.0</td>\n",
              "      <td>Real Bed</td>\n",
              "      <td>{TV,Internet,Wifi,Kitchen,\"Free street parking...</td>\n",
              "      <td>NaN</td>\n",
              "      <td>$65.00</td>\n",
              "      <td>$490.00</td>\n",
              "      <td>$1,685.00</td>\n",
              "      <td>$200.00</td>\n",
              "      <td>$50.00</td>\n",
              "      <td>1</td>\n",
              "      <td>$12.00</td>\n",
              "      <td>32</td>\n",
              "      <td>90</td>\n",
              "      <td>32</td>\n",
              "      <td>32</td>\n",
              "      <td>90</td>\n",
              "      <td>90</td>\n",
              "      <td>32.0</td>\n",
              "      <td>90.0</td>\n",
              "      <td>3 months ago</td>\n",
              "      <td>t</td>\n",
              "      <td>30</td>\n",
              "      <td>60</td>\n",
              "      <td>90</td>\n",
              "      <td>365</td>\n",
              "      <td>10/14/19</td>\n",
              "      <td>8</td>\n",
              "      <td>0</td>\n",
              "      <td>9/8/14</td>\n",
              "      <td>9/12/18</td>\n",
              "      <td>93.0</td>\n",
              "      <td>9.0</td>\n",
              "      <td>9.0</td>\n",
              "      <td>10.0</td>\n",
              "      <td>10.0</td>\n",
              "      <td>9.0</td>\n",
              "      <td>9.0</td>\n",
              "      <td>t</td>\n",
              "      <td>NaN</td>\n",
              "      <td>{\"SAN FRANCISCO\"}</td>\n",
              "      <td>f</td>\n",
              "      <td>f</td>\n",
              "      <td>strict_14_with_grace_period</td>\n",
              "      <td>f</td>\n",
              "      <td>f</td>\n",
              "      <td>9</td>\n",
              "      <td>0</td>\n",
              "      <td>9</td>\n",
              "      <td>0</td>\n",
              "      <td>0.13</td>\n",
              "    </tr>\n",
              "  </tbody>\n",
              "</table>\n",
              "</div>"
            ],
            "text/plain": [
              "     id                        listing_url     scrape_id last_scraped  \\\n",
              "0   958   https://www.airbnb.com/rooms/958  2.019100e+13     10/14/19   \n",
              "1  3850  https://www.airbnb.com/rooms/3850  2.019100e+13     10/14/19   \n",
              "2  5858  https://www.airbnb.com/rooms/5858  2.019100e+13     10/14/19   \n",
              "3  7918  https://www.airbnb.com/rooms/7918  2.019100e+13     10/14/19   \n",
              "4  8142  https://www.airbnb.com/rooms/8142  2.019100e+13     10/14/19   \n",
              "\n",
              "                                                name  \\\n",
              "0                Bright, Modern Garden Unit - 1BR/1B   \n",
              "1                              Charming room for two   \n",
              "2                                 Creative Sanctuary   \n",
              "3         A Friendly Room - UCSF/USF - San Francisco   \n",
              "4  Friendly Room Apt. Style -UCSF/USF - San Franc...   \n",
              "\n",
              "                                             summary  \\\n",
              "0  New update: the house next door is under const...   \n",
              "1  Your own private room plus access to a shared ...   \n",
              "2                                                NaN   \n",
              "3  Nice and good public transportation.  7 minute...   \n",
              "4  Nice and good public transportation.  7 minute...   \n",
              "\n",
              "                                               space  \\\n",
              "0  Newly remodeled, modern, and bright garden uni...   \n",
              "1  This room can fit two people. Nobody else will...   \n",
              "2  We live in a large Victorian house on a quiet ...   \n",
              "3  Settle down, S.F. resident, student, hospital,...   \n",
              "4  Settle down, S.F. resident, student, hospital,...   \n",
              "\n",
              "                                         description experiences_offered  \\\n",
              "0  New update: the house next door is under const...                none   \n",
              "1  Your own private room plus access to a shared ...                none   \n",
              "2  We live in a large Victorian house on a quiet ...                none   \n",
              "3  Nice and good public transportation.  7 minute...                none   \n",
              "4  Nice and good public transportation.  7 minute...                none   \n",
              "\n",
              "                               neighborhood_overview  \\\n",
              "0  *Quiet cul de sac in friendly neighborhood *St...   \n",
              "1  This is a quiet, safe neighborhood on a substa...   \n",
              "2  I love how our neighborhood feels quiet but is...   \n",
              "3  Shopping old town, restaurants, McDonald, Whol...   \n",
              "4                                                NaN   \n",
              "\n",
              "                                               notes  \\\n",
              "0  Due to the fact that we have children and a do...   \n",
              "1  House Rule footnotes: 1.\\tI don’t allow check ...   \n",
              "2  All the furniture in the house was handmade so...   \n",
              "3  Wi-Fi signal in common areas.   Large eat in k...   \n",
              "4  Wi-Fi signal in common areas.   Large eat in k...   \n",
              "\n",
              "                                             transit  \\\n",
              "0  *Public Transportation is 1/2 block away.  *Ce...   \n",
              "1  Public transit service to my house is outstand...   \n",
              "2  The train is two blocks away and you can stop ...   \n",
              "3         N Juda Muni and bus stop.  Street parking.   \n",
              "4  N Juda Muni, Bus and UCSF Shuttle. small shopp...   \n",
              "\n",
              "                                              access  \\\n",
              "0  *Full access to patio and backyard (shared wit...   \n",
              "1  During the hours of 7:00 to 22:00, your access...   \n",
              "2  Our deck, garden, gourmet kitchen and extensiv...   \n",
              "3                                                NaN   \n",
              "4                                                NaN   \n",
              "\n",
              "                                         interaction  \\\n",
              "0  A family of 4 lives upstairs with their dog. N...   \n",
              "1  I live at the house in my own bedroom, and I w...   \n",
              "2                                                NaN   \n",
              "3                                                NaN   \n",
              "4                                                NaN   \n",
              "\n",
              "                                         house_rules  thumbnail_url  \\\n",
              "0  * No Pets - even visiting guests for a short t...            NaN   \n",
              "1  Airbnb has no default house rules that hosts c...            NaN   \n",
              "2  Please respect the house, the art work, the fu...            NaN   \n",
              "3  No party, No smoking, not for any kinds of smo...            NaN   \n",
              "4       no pet no smoke no party inside the building            NaN   \n",
              "\n",
              "   medium_url                                        picture_url  \\\n",
              "0         NaN  https://a0.muscache.com/im/pictures/b7c2a199-4...   \n",
              "1         NaN  https://a0.muscache.com/im/pictures/b6e97d2a-1...   \n",
              "2         NaN  https://a0.muscache.com/im/pictures/17714/3a7a...   \n",
              "3         NaN  https://a0.muscache.com/im/pictures/26356/8030...   \n",
              "4         NaN  https://a0.muscache.com/im/pictures/27832/3b1f...   \n",
              "\n",
              "   xl_picture_url  host_id                                 host_url  \\\n",
              "0             NaN     1169   https://www.airbnb.com/users/show/1169   \n",
              "1             NaN     4921   https://www.airbnb.com/users/show/4921   \n",
              "2             NaN     8904   https://www.airbnb.com/users/show/8904   \n",
              "3             NaN    21994  https://www.airbnb.com/users/show/21994   \n",
              "4             NaN    21994  https://www.airbnb.com/users/show/21994   \n",
              "\n",
              "          host_name host_since                             host_location  \\\n",
              "0             Holly    7/31/08  San Francisco, California, United States   \n",
              "1             Kevin    12/8/08  San Francisco, California, United States   \n",
              "2  Philip And Tania     3/2/09  San Francisco, California, United States   \n",
              "3             Aaron    6/17/09  San Francisco, California, United States   \n",
              "4             Aaron    6/17/09  San Francisco, California, United States   \n",
              "\n",
              "                                          host_about host_response_time  \\\n",
              "0  We are a family with 2 boys born in 2009 and 2...       within a day   \n",
              "1  I am a retired software developer now raising ...     within an hour   \n",
              "2  Philip: English transplant to the Bay Area and...       within a day   \n",
              "3  7 minutes walk to UCSF hospital & school campu...     within an hour   \n",
              "4  7 minutes walk to UCSF hospital & school campu...     within an hour   \n",
              "\n",
              "  host_response_rate  host_acceptance_rate host_is_superhost  \\\n",
              "0               100%                   NaN                 t   \n",
              "1               100%                   NaN                 t   \n",
              "2                80%                   NaN                 f   \n",
              "3                86%                   NaN                 t   \n",
              "4                86%                   NaN                 t   \n",
              "\n",
              "                                  host_thumbnail_url  \\\n",
              "0  https://a0.muscache.com/im/pictures/efdad96a-3...   \n",
              "1  https://a0.muscache.com/im/pictures/97d29791-d...   \n",
              "2  https://a0.muscache.com/im/users/8904/profile_...   \n",
              "3  https://a0.muscache.com/im/users/21994/profile...   \n",
              "4  https://a0.muscache.com/im/users/21994/profile...   \n",
              "\n",
              "                                    host_picture_url host_neighbourhood  \\\n",
              "0  https://a0.muscache.com/im/pictures/efdad96a-3...    Duboce Triangle   \n",
              "1  https://a0.muscache.com/im/pictures/97d29791-d...       Inner Sunset   \n",
              "2  https://a0.muscache.com/im/users/8904/profile_...     Bernal Heights   \n",
              "3  https://a0.muscache.com/im/users/21994/profile...        Cole Valley   \n",
              "4  https://a0.muscache.com/im/users/21994/profile...        Cole Valley   \n",
              "\n",
              "   host_listings_count  host_total_listings_count  \\\n",
              "0                  1.0                        1.0   \n",
              "1                  2.0                        2.0   \n",
              "2                  2.0                        2.0   \n",
              "3                 10.0                       10.0   \n",
              "4                 10.0                       10.0   \n",
              "\n",
              "                                  host_verifications host_has_profile_pic  \\\n",
              "0   ['email', 'phone', 'facebook', 'reviews', 'kba']                    t   \n",
              "1  ['email', 'phone', 'reviews', 'jumio', 'govern...                    t   \n",
              "2  ['email', 'phone', 'reviews', 'kba', 'work_ema...                    t   \n",
              "3  ['email', 'phone', 'reviews', 'jumio', 'govern...                    t   \n",
              "4  ['email', 'phone', 'reviews', 'jumio', 'govern...                    t   \n",
              "\n",
              "  host_identity_verified                            street    neighbourhood  \\\n",
              "0                      t  San Francisco, CA, United States  Duboce Triangle   \n",
              "1                      t  San Francisco, CA, United States     Inner Sunset   \n",
              "2                      t  San Francisco, CA, United States   Bernal Heights   \n",
              "3                      t  San Francisco, CA, United States      Cole Valley   \n",
              "4                      t  San Francisco, CA, United States      Cole Valley   \n",
              "\n",
              "  neighbourhood_cleansed  neighbourhood_group_cleansed           city state  \\\n",
              "0       Western Addition                           NaN  San Francisco    CA   \n",
              "1           Inner Sunset                           NaN  San Francisco    CA   \n",
              "2         Bernal Heights                           NaN  San Francisco    CA   \n",
              "3         Haight Ashbury                           NaN  San Francisco    CA   \n",
              "4         Haight Ashbury                           NaN  San Francisco    CA   \n",
              "\n",
              "  zipcode         market     smart_location country_code        country  \\\n",
              "0   94117  San Francisco  San Francisco, CA           US  United States   \n",
              "1   94131  San Francisco  San Francisco, CA           US  United States   \n",
              "2   94110  San Francisco  San Francisco, CA           US  United States   \n",
              "3   94117  San Francisco  San Francisco, CA           US  United States   \n",
              "4   94117  San Francisco  San Francisco, CA           US  United States   \n",
              "\n",
              "   latitude  longitude is_location_exact property_type        room_type  \\\n",
              "0  37.76931 -122.43386                 t     Apartment  Entire home/apt   \n",
              "1  37.75402 -122.45805                 t         House     Private room   \n",
              "2  37.74511 -122.42102                 t     Apartment  Entire home/apt   \n",
              "3  37.76669 -122.45250                 t     Apartment     Private room   \n",
              "4  37.76487 -122.45183                 t     Apartment     Private room   \n",
              "\n",
              "   accommodates  bathrooms  bedrooms  beds  bed_type  \\\n",
              "0             3        1.0       1.0   2.0  Real Bed   \n",
              "1             2        1.0       1.0   1.0  Real Bed   \n",
              "2             5        1.0       2.0   3.0  Real Bed   \n",
              "3             2        4.0       1.0   1.0  Real Bed   \n",
              "4             2        4.0       1.0   1.0  Real Bed   \n",
              "\n",
              "                                           amenities  square_feet     price  \\\n",
              "0  {TV,\"Cable TV\",Internet,Wifi,Kitchen,\"Pets liv...          NaN  $170.00    \n",
              "1  {Internet,Wifi,Kitchen,Breakfast,\"Free street ...          NaN   $99.00    \n",
              "2  {Internet,Wifi,Kitchen,Heating,\"Family/kid fri...          NaN  $235.00    \n",
              "3  {TV,Internet,Wifi,Kitchen,\"Free street parking...          NaN   $65.00    \n",
              "4  {TV,Internet,Wifi,Kitchen,\"Free street parking...          NaN   $65.00    \n",
              "\n",
              "  weekly_price monthly_price security_deposit cleaning_fee  guests_included  \\\n",
              "0   $1,120.00     $4,200.00          $100.00      $100.00                 2   \n",
              "1          NaN           NaN           $0.00       $10.00                 2   \n",
              "2   $1,600.00     $5,500.00               NaN     $100.00                 2   \n",
              "3     $485.00     $1,685.00          $200.00       $50.00                 1   \n",
              "4     $490.00     $1,685.00          $200.00       $50.00                 1   \n",
              "\n",
              "  extra_people  minimum_nights  maximum_nights  minimum_minimum_nights  \\\n",
              "0      $25.00                1              30                       1   \n",
              "1      $20.00                1               5                       1   \n",
              "2       $0.00               30              60                      30   \n",
              "3      $12.00               32              60                      32   \n",
              "4      $12.00               32              90                      32   \n",
              "\n",
              "   maximum_minimum_nights  minimum_maximum_nights  maximum_maximum_nights  \\\n",
              "0                       1                      30                      30   \n",
              "1                       1                       5                       5   \n",
              "2                      30                      60                      60   \n",
              "3                      32                      60                      60   \n",
              "4                      32                      90                      90   \n",
              "\n",
              "   minimum_nights_avg_ntm  maximum_nights_avg_ntm calendar_updated  \\\n",
              "0                     1.0                    30.0     2 months ago   \n",
              "1                     1.0                     5.0       3 days ago   \n",
              "2                    30.0                    60.0      3 weeks ago   \n",
              "3                    32.0                    60.0     3 months ago   \n",
              "4                    32.0                    90.0     3 months ago   \n",
              "\n",
              "  has_availability  availability_30  availability_60  availability_90  \\\n",
              "0                t                3                8               16   \n",
              "1                t                5               32               62   \n",
              "2                t                0                0                0   \n",
              "3                t               30               60               90   \n",
              "4                t               30               60               90   \n",
              "\n",
              "   availability_365 calendar_last_scraped  number_of_reviews  \\\n",
              "0                85              10/14/19                217   \n",
              "1                62              10/14/19                160   \n",
              "2                 0              10/14/19                111   \n",
              "3               365              10/14/19                 18   \n",
              "4               365              10/14/19                  8   \n",
              "\n",
              "   number_of_reviews_ltm first_review last_review  review_scores_rating  \\\n",
              "0                     52      7/23/09     9/21/19                  97.0   \n",
              "1                     36      7/16/09     9/30/19                  94.0   \n",
              "2                      0       5/3/09      8/6/17                  98.0   \n",
              "3                      1      8/31/09     9/10/19                  86.0   \n",
              "4                      0       9/8/14     9/12/18                  93.0   \n",
              "\n",
              "   review_scores_accuracy  review_scores_cleanliness  review_scores_checkin  \\\n",
              "0                    10.0                       10.0                   10.0   \n",
              "1                    10.0                       10.0                   10.0   \n",
              "2                    10.0                       10.0                   10.0   \n",
              "3                     8.0                        8.0                    9.0   \n",
              "4                     9.0                        9.0                   10.0   \n",
              "\n",
              "   review_scores_communication  review_scores_location  review_scores_value  \\\n",
              "0                         10.0                    10.0                  9.0   \n",
              "1                         10.0                    10.0                 10.0   \n",
              "2                         10.0                    10.0                  9.0   \n",
              "3                          9.0                     9.0                  8.0   \n",
              "4                         10.0                     9.0                  9.0   \n",
              "\n",
              "  requires_license      license jurisdiction_names instant_bookable  \\\n",
              "0                t  STR-0001256  {\"SAN FRANCISCO\"}                f   \n",
              "1                t  STR-0000346  {\"SAN FRANCISCO\"}                f   \n",
              "2                t          NaN  {\"SAN FRANCISCO\"}                f   \n",
              "3                t          NaN  {\"SAN FRANCISCO\"}                f   \n",
              "4                t          NaN  {\"SAN FRANCISCO\"}                f   \n",
              "\n",
              "  is_business_travel_ready          cancellation_policy  \\\n",
              "0                        f                     moderate   \n",
              "1                        f  strict_14_with_grace_period   \n",
              "2                        f  strict_14_with_grace_period   \n",
              "3                        f  strict_14_with_grace_period   \n",
              "4                        f  strict_14_with_grace_period   \n",
              "\n",
              "  require_guest_profile_picture require_guest_phone_verification  \\\n",
              "0                             f                                f   \n",
              "1                             f                                f   \n",
              "2                             f                                f   \n",
              "3                             f                                f   \n",
              "4                             f                                f   \n",
              "\n",
              "   calculated_host_listings_count  \\\n",
              "0                               1   \n",
              "1                               3   \n",
              "2                               1   \n",
              "3                               9   \n",
              "4                               9   \n",
              "\n",
              "   calculated_host_listings_count_entire_homes  \\\n",
              "0                                            1   \n",
              "1                                            0   \n",
              "2                                            1   \n",
              "3                                            0   \n",
              "4                                            0   \n",
              "\n",
              "   calculated_host_listings_count_private_rooms  \\\n",
              "0                                             0   \n",
              "1                                             3   \n",
              "2                                             0   \n",
              "3                                             9   \n",
              "4                                             9   \n",
              "\n",
              "   calculated_host_listings_count_shared_rooms  reviews_per_month  \n",
              "0                                            0               1.74  \n",
              "1                                            0               1.28  \n",
              "2                                            0               0.87  \n",
              "3                                            0               0.15  \n",
              "4                                            0               0.13  "
            ]
          },
          "metadata": {
            "tags": []
          },
          "execution_count": 25
        }
      ]
    },
    {
      "cell_type": "code",
      "metadata": {
        "id": "5WT4gJfPEiOy",
        "outputId": "00001077-1da8-430c-81dd-c936943c4290",
        "colab": {
          "base_uri": "https://localhost:8080/",
          "height": 102
        }
      },
      "source": [
        "sfbnb_df.info()"
      ],
      "execution_count": 26,
      "outputs": [
        {
          "output_type": "stream",
          "text": [
            "<class 'pandas.core.frame.DataFrame'>\n",
            "RangeIndex: 8111 entries, 0 to 8110\n",
            "Columns: 106 entries, id to reviews_per_month\n",
            "dtypes: float64(24), int64(20), object(62)\n",
            "memory usage: 6.6+ MB\n"
          ],
          "name": "stdout"
        }
      ]
    },
    {
      "cell_type": "code",
      "metadata": {
        "id": "HwIfj_s3E2VP",
        "outputId": "f42898ee-4a72-4b71-d4ac-0231f0345f53",
        "colab": {
          "base_uri": "https://localhost:8080/",
          "height": 34
        }
      },
      "source": [
        "sfbnb_df.shape"
      ],
      "execution_count": 27,
      "outputs": [
        {
          "output_type": "execute_result",
          "data": {
            "text/plain": [
              "(8111, 106)"
            ]
          },
          "metadata": {
            "tags": []
          },
          "execution_count": 27
        }
      ]
    },
    {
      "cell_type": "code",
      "metadata": {
        "id": "CzOzUkVkE3_H",
        "outputId": "23e27afd-c515-4165-c888-6dfbd43c45b1",
        "colab": {
          "base_uri": "https://localhost:8080/",
          "height": 317
        }
      },
      "source": [
        "sfbnb_df.describe()"
      ],
      "execution_count": 28,
      "outputs": [
        {
          "output_type": "execute_result",
          "data": {
            "text/html": [
              "<div>\n",
              "<style scoped>\n",
              "    .dataframe tbody tr th:only-of-type {\n",
              "        vertical-align: middle;\n",
              "    }\n",
              "\n",
              "    .dataframe tbody tr th {\n",
              "        vertical-align: top;\n",
              "    }\n",
              "\n",
              "    .dataframe thead th {\n",
              "        text-align: right;\n",
              "    }\n",
              "</style>\n",
              "<table border=\"1\" class=\"dataframe\">\n",
              "  <thead>\n",
              "    <tr style=\"text-align: right;\">\n",
              "      <th></th>\n",
              "      <th>id</th>\n",
              "      <th>scrape_id</th>\n",
              "      <th>thumbnail_url</th>\n",
              "      <th>medium_url</th>\n",
              "      <th>xl_picture_url</th>\n",
              "      <th>host_id</th>\n",
              "      <th>host_acceptance_rate</th>\n",
              "      <th>host_listings_count</th>\n",
              "      <th>host_total_listings_count</th>\n",
              "      <th>neighbourhood_group_cleansed</th>\n",
              "      <th>latitude</th>\n",
              "      <th>longitude</th>\n",
              "      <th>accommodates</th>\n",
              "      <th>bathrooms</th>\n",
              "      <th>bedrooms</th>\n",
              "      <th>beds</th>\n",
              "      <th>square_feet</th>\n",
              "      <th>guests_included</th>\n",
              "      <th>minimum_nights</th>\n",
              "      <th>maximum_nights</th>\n",
              "      <th>minimum_minimum_nights</th>\n",
              "      <th>maximum_minimum_nights</th>\n",
              "      <th>minimum_maximum_nights</th>\n",
              "      <th>maximum_maximum_nights</th>\n",
              "      <th>minimum_nights_avg_ntm</th>\n",
              "      <th>maximum_nights_avg_ntm</th>\n",
              "      <th>availability_30</th>\n",
              "      <th>availability_60</th>\n",
              "      <th>availability_90</th>\n",
              "      <th>availability_365</th>\n",
              "      <th>number_of_reviews</th>\n",
              "      <th>number_of_reviews_ltm</th>\n",
              "      <th>review_scores_rating</th>\n",
              "      <th>review_scores_accuracy</th>\n",
              "      <th>review_scores_cleanliness</th>\n",
              "      <th>review_scores_checkin</th>\n",
              "      <th>review_scores_communication</th>\n",
              "      <th>review_scores_location</th>\n",
              "      <th>review_scores_value</th>\n",
              "      <th>calculated_host_listings_count</th>\n",
              "      <th>calculated_host_listings_count_entire_homes</th>\n",
              "      <th>calculated_host_listings_count_private_rooms</th>\n",
              "      <th>calculated_host_listings_count_shared_rooms</th>\n",
              "      <th>reviews_per_month</th>\n",
              "    </tr>\n",
              "  </thead>\n",
              "  <tbody>\n",
              "    <tr>\n",
              "      <th>count</th>\n",
              "      <td>8.111000e+03</td>\n",
              "      <td>8.111000e+03</td>\n",
              "      <td>0.0</td>\n",
              "      <td>0.0</td>\n",
              "      <td>0.0</td>\n",
              "      <td>8.111000e+03</td>\n",
              "      <td>0.0</td>\n",
              "      <td>8103.000000</td>\n",
              "      <td>8103.000000</td>\n",
              "      <td>0.0</td>\n",
              "      <td>8111.000000</td>\n",
              "      <td>8111.000000</td>\n",
              "      <td>8111.000000</td>\n",
              "      <td>8099.000000</td>\n",
              "      <td>8107.000000</td>\n",
              "      <td>8102.000000</td>\n",
              "      <td>124.000000</td>\n",
              "      <td>8111.000000</td>\n",
              "      <td>8.111000e+03</td>\n",
              "      <td>8.111000e+03</td>\n",
              "      <td>8.111000e+03</td>\n",
              "      <td>8.111000e+03</td>\n",
              "      <td>8.111000e+03</td>\n",
              "      <td>8.111000e+03</td>\n",
              "      <td>8.111000e+03</td>\n",
              "      <td>8.111000e+03</td>\n",
              "      <td>8111.000000</td>\n",
              "      <td>8111.000000</td>\n",
              "      <td>8111.000000</td>\n",
              "      <td>8111.000000</td>\n",
              "      <td>8111.000000</td>\n",
              "      <td>8111.000000</td>\n",
              "      <td>6460.000000</td>\n",
              "      <td>6457.000000</td>\n",
              "      <td>6457.000000</td>\n",
              "      <td>6456.000000</td>\n",
              "      <td>6458.000000</td>\n",
              "      <td>6456.000000</td>\n",
              "      <td>6456.000000</td>\n",
              "      <td>8111.000000</td>\n",
              "      <td>8111.000000</td>\n",
              "      <td>8111.000000</td>\n",
              "      <td>8111.000000</td>\n",
              "      <td>6506.000000</td>\n",
              "    </tr>\n",
              "    <tr>\n",
              "      <th>mean</th>\n",
              "      <td>2.024561e+07</td>\n",
              "      <td>2.019100e+13</td>\n",
              "      <td>NaN</td>\n",
              "      <td>NaN</td>\n",
              "      <td>NaN</td>\n",
              "      <td>6.159690e+07</td>\n",
              "      <td>NaN</td>\n",
              "      <td>90.421079</td>\n",
              "      <td>90.421079</td>\n",
              "      <td>NaN</td>\n",
              "      <td>37.766054</td>\n",
              "      <td>-122.430107</td>\n",
              "      <td>3.160769</td>\n",
              "      <td>1.395975</td>\n",
              "      <td>1.345874</td>\n",
              "      <td>1.744754</td>\n",
              "      <td>1046.177419</td>\n",
              "      <td>1.718407</td>\n",
              "      <td>1.234526e+04</td>\n",
              "      <td>1.284597e+04</td>\n",
              "      <td>1.234509e+04</td>\n",
              "      <td>1.235125e+04</td>\n",
              "      <td>2.775902e+05</td>\n",
              "      <td>2.775928e+05</td>\n",
              "      <td>1.235001e+04</td>\n",
              "      <td>2.775923e+05</td>\n",
              "      <td>9.255825</td>\n",
              "      <td>22.885341</td>\n",
              "      <td>39.619529</td>\n",
              "      <td>159.278881</td>\n",
              "      <td>45.203181</td>\n",
              "      <td>13.712736</td>\n",
              "      <td>95.421517</td>\n",
              "      <td>9.752207</td>\n",
              "      <td>9.603686</td>\n",
              "      <td>9.847584</td>\n",
              "      <td>9.817745</td>\n",
              "      <td>9.682776</td>\n",
              "      <td>9.375155</td>\n",
              "      <td>22.329799</td>\n",
              "      <td>18.201085</td>\n",
              "      <td>2.910985</td>\n",
              "      <td>0.496979</td>\n",
              "      <td>1.873298</td>\n",
              "    </tr>\n",
              "    <tr>\n",
              "      <th>std</th>\n",
              "      <td>1.228565e+07</td>\n",
              "      <td>0.000000e+00</td>\n",
              "      <td>NaN</td>\n",
              "      <td>NaN</td>\n",
              "      <td>NaN</td>\n",
              "      <td>8.017417e+07</td>\n",
              "      <td>NaN</td>\n",
              "      <td>324.526784</td>\n",
              "      <td>324.526784</td>\n",
              "      <td>NaN</td>\n",
              "      <td>0.022937</td>\n",
              "      <td>0.026967</td>\n",
              "      <td>1.896988</td>\n",
              "      <td>0.923213</td>\n",
              "      <td>0.925298</td>\n",
              "      <td>1.158799</td>\n",
              "      <td>827.297727</td>\n",
              "      <td>1.334492</td>\n",
              "      <td>1.110357e+06</td>\n",
              "      <td>1.110352e+06</td>\n",
              "      <td>1.110357e+06</td>\n",
              "      <td>1.110357e+06</td>\n",
              "      <td>2.387044e+07</td>\n",
              "      <td>2.387044e+07</td>\n",
              "      <td>1.110357e+06</td>\n",
              "      <td>2.387044e+07</td>\n",
              "      <td>10.586687</td>\n",
              "      <td>21.459500</td>\n",
              "      <td>32.125850</td>\n",
              "      <td>134.093744</td>\n",
              "      <td>78.437987</td>\n",
              "      <td>22.523539</td>\n",
              "      <td>7.571031</td>\n",
              "      <td>0.732872</td>\n",
              "      <td>0.839768</td>\n",
              "      <td>0.593539</td>\n",
              "      <td>0.659274</td>\n",
              "      <td>0.715906</td>\n",
              "      <td>0.879174</td>\n",
              "      <td>54.369225</td>\n",
              "      <td>53.333669</td>\n",
              "      <td>6.807334</td>\n",
              "      <td>2.669129</td>\n",
              "      <td>2.096730</td>\n",
              "    </tr>\n",
              "    <tr>\n",
              "      <th>min</th>\n",
              "      <td>9.580000e+02</td>\n",
              "      <td>2.019100e+13</td>\n",
              "      <td>NaN</td>\n",
              "      <td>NaN</td>\n",
              "      <td>NaN</td>\n",
              "      <td>2.800000e+01</td>\n",
              "      <td>NaN</td>\n",
              "      <td>0.000000</td>\n",
              "      <td>0.000000</td>\n",
              "      <td>NaN</td>\n",
              "      <td>37.704630</td>\n",
              "      <td>-122.513060</td>\n",
              "      <td>1.000000</td>\n",
              "      <td>0.000000</td>\n",
              "      <td>0.000000</td>\n",
              "      <td>0.000000</td>\n",
              "      <td>0.000000</td>\n",
              "      <td>1.000000</td>\n",
              "      <td>1.000000e+00</td>\n",
              "      <td>1.000000e+00</td>\n",
              "      <td>1.000000e+00</td>\n",
              "      <td>1.000000e+00</td>\n",
              "      <td>1.000000e+00</td>\n",
              "      <td>1.000000e+00</td>\n",
              "      <td>1.000000e+00</td>\n",
              "      <td>1.000000e+00</td>\n",
              "      <td>0.000000</td>\n",
              "      <td>0.000000</td>\n",
              "      <td>0.000000</td>\n",
              "      <td>0.000000</td>\n",
              "      <td>0.000000</td>\n",
              "      <td>0.000000</td>\n",
              "      <td>20.000000</td>\n",
              "      <td>2.000000</td>\n",
              "      <td>2.000000</td>\n",
              "      <td>2.000000</td>\n",
              "      <td>2.000000</td>\n",
              "      <td>2.000000</td>\n",
              "      <td>2.000000</td>\n",
              "      <td>1.000000</td>\n",
              "      <td>0.000000</td>\n",
              "      <td>0.000000</td>\n",
              "      <td>0.000000</td>\n",
              "      <td>0.010000</td>\n",
              "    </tr>\n",
              "    <tr>\n",
              "      <th>25%</th>\n",
              "      <td>8.905668e+06</td>\n",
              "      <td>2.019100e+13</td>\n",
              "      <td>NaN</td>\n",
              "      <td>NaN</td>\n",
              "      <td>NaN</td>\n",
              "      <td>4.386571e+06</td>\n",
              "      <td>NaN</td>\n",
              "      <td>1.000000</td>\n",
              "      <td>1.000000</td>\n",
              "      <td>NaN</td>\n",
              "      <td>37.751450</td>\n",
              "      <td>-122.442830</td>\n",
              "      <td>2.000000</td>\n",
              "      <td>1.000000</td>\n",
              "      <td>1.000000</td>\n",
              "      <td>1.000000</td>\n",
              "      <td>500.000000</td>\n",
              "      <td>1.000000</td>\n",
              "      <td>2.000000e+00</td>\n",
              "      <td>2.900000e+01</td>\n",
              "      <td>2.000000e+00</td>\n",
              "      <td>2.000000e+00</td>\n",
              "      <td>2.900000e+01</td>\n",
              "      <td>2.900000e+01</td>\n",
              "      <td>2.000000e+00</td>\n",
              "      <td>2.900000e+01</td>\n",
              "      <td>0.000000</td>\n",
              "      <td>0.000000</td>\n",
              "      <td>6.000000</td>\n",
              "      <td>28.000000</td>\n",
              "      <td>1.000000</td>\n",
              "      <td>0.000000</td>\n",
              "      <td>95.000000</td>\n",
              "      <td>10.000000</td>\n",
              "      <td>9.000000</td>\n",
              "      <td>10.000000</td>\n",
              "      <td>10.000000</td>\n",
              "      <td>10.000000</td>\n",
              "      <td>9.000000</td>\n",
              "      <td>1.000000</td>\n",
              "      <td>0.000000</td>\n",
              "      <td>0.000000</td>\n",
              "      <td>0.000000</td>\n",
              "      <td>0.300000</td>\n",
              "    </tr>\n",
              "    <tr>\n",
              "      <th>50%</th>\n",
              "      <td>2.161057e+07</td>\n",
              "      <td>2.019100e+13</td>\n",
              "      <td>NaN</td>\n",
              "      <td>NaN</td>\n",
              "      <td>NaN</td>\n",
              "      <td>2.178983e+07</td>\n",
              "      <td>NaN</td>\n",
              "      <td>2.000000</td>\n",
              "      <td>2.000000</td>\n",
              "      <td>NaN</td>\n",
              "      <td>37.769150</td>\n",
              "      <td>-122.424650</td>\n",
              "      <td>2.000000</td>\n",
              "      <td>1.000000</td>\n",
              "      <td>1.000000</td>\n",
              "      <td>1.000000</td>\n",
              "      <td>851.000000</td>\n",
              "      <td>1.000000</td>\n",
              "      <td>4.000000e+00</td>\n",
              "      <td>1.800000e+02</td>\n",
              "      <td>4.000000e+00</td>\n",
              "      <td>5.000000e+00</td>\n",
              "      <td>1.800000e+02</td>\n",
              "      <td>1.800000e+02</td>\n",
              "      <td>4.000000e+00</td>\n",
              "      <td>1.800000e+02</td>\n",
              "      <td>5.000000</td>\n",
              "      <td>19.000000</td>\n",
              "      <td>38.000000</td>\n",
              "      <td>133.000000</td>\n",
              "      <td>10.000000</td>\n",
              "      <td>2.000000</td>\n",
              "      <td>98.000000</td>\n",
              "      <td>10.000000</td>\n",
              "      <td>10.000000</td>\n",
              "      <td>10.000000</td>\n",
              "      <td>10.000000</td>\n",
              "      <td>10.000000</td>\n",
              "      <td>10.000000</td>\n",
              "      <td>2.000000</td>\n",
              "      <td>1.000000</td>\n",
              "      <td>0.000000</td>\n",
              "      <td>0.000000</td>\n",
              "      <td>1.010000</td>\n",
              "    </tr>\n",
              "    <tr>\n",
              "      <th>75%</th>\n",
              "      <td>3.120025e+07</td>\n",
              "      <td>2.019100e+13</td>\n",
              "      <td>NaN</td>\n",
              "      <td>NaN</td>\n",
              "      <td>NaN</td>\n",
              "      <td>1.000763e+08</td>\n",
              "      <td>NaN</td>\n",
              "      <td>12.000000</td>\n",
              "      <td>12.000000</td>\n",
              "      <td>NaN</td>\n",
              "      <td>37.785670</td>\n",
              "      <td>-122.410615</td>\n",
              "      <td>4.000000</td>\n",
              "      <td>1.500000</td>\n",
              "      <td>2.000000</td>\n",
              "      <td>2.000000</td>\n",
              "      <td>1492.500000</td>\n",
              "      <td>2.000000</td>\n",
              "      <td>3.000000e+01</td>\n",
              "      <td>1.125000e+03</td>\n",
              "      <td>3.000000e+01</td>\n",
              "      <td>3.000000e+01</td>\n",
              "      <td>1.125000e+03</td>\n",
              "      <td>1.125000e+03</td>\n",
              "      <td>3.000000e+01</td>\n",
              "      <td>1.125000e+03</td>\n",
              "      <td>17.000000</td>\n",
              "      <td>42.000000</td>\n",
              "      <td>69.500000</td>\n",
              "      <td>300.000000</td>\n",
              "      <td>54.000000</td>\n",
              "      <td>18.000000</td>\n",
              "      <td>100.000000</td>\n",
              "      <td>10.000000</td>\n",
              "      <td>10.000000</td>\n",
              "      <td>10.000000</td>\n",
              "      <td>10.000000</td>\n",
              "      <td>10.000000</td>\n",
              "      <td>10.000000</td>\n",
              "      <td>10.000000</td>\n",
              "      <td>2.000000</td>\n",
              "      <td>2.000000</td>\n",
              "      <td>0.000000</td>\n",
              "      <td>2.840000</td>\n",
              "    </tr>\n",
              "    <tr>\n",
              "      <th>max</th>\n",
              "      <td>3.935418e+07</td>\n",
              "      <td>2.019100e+13</td>\n",
              "      <td>NaN</td>\n",
              "      <td>NaN</td>\n",
              "      <td>NaN</td>\n",
              "      <td>3.016759e+08</td>\n",
              "      <td>NaN</td>\n",
              "      <td>1735.000000</td>\n",
              "      <td>1735.000000</td>\n",
              "      <td>NaN</td>\n",
              "      <td>37.828790</td>\n",
              "      <td>-122.368570</td>\n",
              "      <td>16.000000</td>\n",
              "      <td>14.000000</td>\n",
              "      <td>14.000000</td>\n",
              "      <td>14.000000</td>\n",
              "      <td>5500.000000</td>\n",
              "      <td>16.000000</td>\n",
              "      <td>1.000000e+08</td>\n",
              "      <td>1.000000e+08</td>\n",
              "      <td>1.000000e+08</td>\n",
              "      <td>1.000000e+08</td>\n",
              "      <td>2.147484e+09</td>\n",
              "      <td>2.147484e+09</td>\n",
              "      <td>1.000000e+08</td>\n",
              "      <td>2.147484e+09</td>\n",
              "      <td>30.000000</td>\n",
              "      <td>60.000000</td>\n",
              "      <td>90.000000</td>\n",
              "      <td>365.000000</td>\n",
              "      <td>757.000000</td>\n",
              "      <td>258.000000</td>\n",
              "      <td>100.000000</td>\n",
              "      <td>10.000000</td>\n",
              "      <td>10.000000</td>\n",
              "      <td>10.000000</td>\n",
              "      <td>10.000000</td>\n",
              "      <td>10.000000</td>\n",
              "      <td>10.000000</td>\n",
              "      <td>248.000000</td>\n",
              "      <td>248.000000</td>\n",
              "      <td>39.000000</td>\n",
              "      <td>26.000000</td>\n",
              "      <td>21.190000</td>\n",
              "    </tr>\n",
              "  </tbody>\n",
              "</table>\n",
              "</div>"
            ],
            "text/plain": [
              "                 id     scrape_id  thumbnail_url  medium_url  xl_picture_url  \\\n",
              "count  8.111000e+03  8.111000e+03            0.0         0.0             0.0   \n",
              "mean   2.024561e+07  2.019100e+13            NaN         NaN             NaN   \n",
              "std    1.228565e+07  0.000000e+00            NaN         NaN             NaN   \n",
              "min    9.580000e+02  2.019100e+13            NaN         NaN             NaN   \n",
              "25%    8.905668e+06  2.019100e+13            NaN         NaN             NaN   \n",
              "50%    2.161057e+07  2.019100e+13            NaN         NaN             NaN   \n",
              "75%    3.120025e+07  2.019100e+13            NaN         NaN             NaN   \n",
              "max    3.935418e+07  2.019100e+13            NaN         NaN             NaN   \n",
              "\n",
              "            host_id  host_acceptance_rate  host_listings_count  \\\n",
              "count  8.111000e+03                   0.0          8103.000000   \n",
              "mean   6.159690e+07                   NaN            90.421079   \n",
              "std    8.017417e+07                   NaN           324.526784   \n",
              "min    2.800000e+01                   NaN             0.000000   \n",
              "25%    4.386571e+06                   NaN             1.000000   \n",
              "50%    2.178983e+07                   NaN             2.000000   \n",
              "75%    1.000763e+08                   NaN            12.000000   \n",
              "max    3.016759e+08                   NaN          1735.000000   \n",
              "\n",
              "       host_total_listings_count  neighbourhood_group_cleansed     latitude  \\\n",
              "count                8103.000000                           0.0  8111.000000   \n",
              "mean                   90.421079                           NaN    37.766054   \n",
              "std                   324.526784                           NaN     0.022937   \n",
              "min                     0.000000                           NaN    37.704630   \n",
              "25%                     1.000000                           NaN    37.751450   \n",
              "50%                     2.000000                           NaN    37.769150   \n",
              "75%                    12.000000                           NaN    37.785670   \n",
              "max                  1735.000000                           NaN    37.828790   \n",
              "\n",
              "         longitude  accommodates    bathrooms     bedrooms         beds  \\\n",
              "count  8111.000000   8111.000000  8099.000000  8107.000000  8102.000000   \n",
              "mean   -122.430107      3.160769     1.395975     1.345874     1.744754   \n",
              "std       0.026967      1.896988     0.923213     0.925298     1.158799   \n",
              "min    -122.513060      1.000000     0.000000     0.000000     0.000000   \n",
              "25%    -122.442830      2.000000     1.000000     1.000000     1.000000   \n",
              "50%    -122.424650      2.000000     1.000000     1.000000     1.000000   \n",
              "75%    -122.410615      4.000000     1.500000     2.000000     2.000000   \n",
              "max    -122.368570     16.000000    14.000000    14.000000    14.000000   \n",
              "\n",
              "       square_feet  guests_included  minimum_nights  maximum_nights  \\\n",
              "count   124.000000      8111.000000    8.111000e+03    8.111000e+03   \n",
              "mean   1046.177419         1.718407    1.234526e+04    1.284597e+04   \n",
              "std     827.297727         1.334492    1.110357e+06    1.110352e+06   \n",
              "min       0.000000         1.000000    1.000000e+00    1.000000e+00   \n",
              "25%     500.000000         1.000000    2.000000e+00    2.900000e+01   \n",
              "50%     851.000000         1.000000    4.000000e+00    1.800000e+02   \n",
              "75%    1492.500000         2.000000    3.000000e+01    1.125000e+03   \n",
              "max    5500.000000        16.000000    1.000000e+08    1.000000e+08   \n",
              "\n",
              "       minimum_minimum_nights  maximum_minimum_nights  minimum_maximum_nights  \\\n",
              "count            8.111000e+03            8.111000e+03            8.111000e+03   \n",
              "mean             1.234509e+04            1.235125e+04            2.775902e+05   \n",
              "std              1.110357e+06            1.110357e+06            2.387044e+07   \n",
              "min              1.000000e+00            1.000000e+00            1.000000e+00   \n",
              "25%              2.000000e+00            2.000000e+00            2.900000e+01   \n",
              "50%              4.000000e+00            5.000000e+00            1.800000e+02   \n",
              "75%              3.000000e+01            3.000000e+01            1.125000e+03   \n",
              "max              1.000000e+08            1.000000e+08            2.147484e+09   \n",
              "\n",
              "       maximum_maximum_nights  minimum_nights_avg_ntm  maximum_nights_avg_ntm  \\\n",
              "count            8.111000e+03            8.111000e+03            8.111000e+03   \n",
              "mean             2.775928e+05            1.235001e+04            2.775923e+05   \n",
              "std              2.387044e+07            1.110357e+06            2.387044e+07   \n",
              "min              1.000000e+00            1.000000e+00            1.000000e+00   \n",
              "25%              2.900000e+01            2.000000e+00            2.900000e+01   \n",
              "50%              1.800000e+02            4.000000e+00            1.800000e+02   \n",
              "75%              1.125000e+03            3.000000e+01            1.125000e+03   \n",
              "max              2.147484e+09            1.000000e+08            2.147484e+09   \n",
              "\n",
              "       availability_30  availability_60  availability_90  availability_365  \\\n",
              "count      8111.000000      8111.000000      8111.000000       8111.000000   \n",
              "mean          9.255825        22.885341        39.619529        159.278881   \n",
              "std          10.586687        21.459500        32.125850        134.093744   \n",
              "min           0.000000         0.000000         0.000000          0.000000   \n",
              "25%           0.000000         0.000000         6.000000         28.000000   \n",
              "50%           5.000000        19.000000        38.000000        133.000000   \n",
              "75%          17.000000        42.000000        69.500000        300.000000   \n",
              "max          30.000000        60.000000        90.000000        365.000000   \n",
              "\n",
              "       number_of_reviews  number_of_reviews_ltm  review_scores_rating  \\\n",
              "count        8111.000000            8111.000000           6460.000000   \n",
              "mean           45.203181              13.712736             95.421517   \n",
              "std            78.437987              22.523539              7.571031   \n",
              "min             0.000000               0.000000             20.000000   \n",
              "25%             1.000000               0.000000             95.000000   \n",
              "50%            10.000000               2.000000             98.000000   \n",
              "75%            54.000000              18.000000            100.000000   \n",
              "max           757.000000             258.000000            100.000000   \n",
              "\n",
              "       review_scores_accuracy  review_scores_cleanliness  \\\n",
              "count             6457.000000                6457.000000   \n",
              "mean                 9.752207                   9.603686   \n",
              "std                  0.732872                   0.839768   \n",
              "min                  2.000000                   2.000000   \n",
              "25%                 10.000000                   9.000000   \n",
              "50%                 10.000000                  10.000000   \n",
              "75%                 10.000000                  10.000000   \n",
              "max                 10.000000                  10.000000   \n",
              "\n",
              "       review_scores_checkin  review_scores_communication  \\\n",
              "count            6456.000000                  6458.000000   \n",
              "mean                9.847584                     9.817745   \n",
              "std                 0.593539                     0.659274   \n",
              "min                 2.000000                     2.000000   \n",
              "25%                10.000000                    10.000000   \n",
              "50%                10.000000                    10.000000   \n",
              "75%                10.000000                    10.000000   \n",
              "max                10.000000                    10.000000   \n",
              "\n",
              "       review_scores_location  review_scores_value  \\\n",
              "count             6456.000000          6456.000000   \n",
              "mean                 9.682776             9.375155   \n",
              "std                  0.715906             0.879174   \n",
              "min                  2.000000             2.000000   \n",
              "25%                 10.000000             9.000000   \n",
              "50%                 10.000000            10.000000   \n",
              "75%                 10.000000            10.000000   \n",
              "max                 10.000000            10.000000   \n",
              "\n",
              "       calculated_host_listings_count  \\\n",
              "count                     8111.000000   \n",
              "mean                        22.329799   \n",
              "std                         54.369225   \n",
              "min                          1.000000   \n",
              "25%                          1.000000   \n",
              "50%                          2.000000   \n",
              "75%                         10.000000   \n",
              "max                        248.000000   \n",
              "\n",
              "       calculated_host_listings_count_entire_homes  \\\n",
              "count                                  8111.000000   \n",
              "mean                                     18.201085   \n",
              "std                                      53.333669   \n",
              "min                                       0.000000   \n",
              "25%                                       0.000000   \n",
              "50%                                       1.000000   \n",
              "75%                                       2.000000   \n",
              "max                                     248.000000   \n",
              "\n",
              "       calculated_host_listings_count_private_rooms  \\\n",
              "count                                   8111.000000   \n",
              "mean                                       2.910985   \n",
              "std                                        6.807334   \n",
              "min                                        0.000000   \n",
              "25%                                        0.000000   \n",
              "50%                                        0.000000   \n",
              "75%                                        2.000000   \n",
              "max                                       39.000000   \n",
              "\n",
              "       calculated_host_listings_count_shared_rooms  reviews_per_month  \n",
              "count                                  8111.000000        6506.000000  \n",
              "mean                                      0.496979           1.873298  \n",
              "std                                       2.669129           2.096730  \n",
              "min                                       0.000000           0.010000  \n",
              "25%                                       0.000000           0.300000  \n",
              "50%                                       0.000000           1.010000  \n",
              "75%                                       0.000000           2.840000  \n",
              "max                                      26.000000          21.190000  "
            ]
          },
          "metadata": {
            "tags": []
          },
          "execution_count": 28
        }
      ]
    },
    {
      "cell_type": "code",
      "metadata": {
        "id": "DL03c4szF6Ba"
      },
      "source": [
        "# get rid of normal col, row, list truncation\n",
        "\n",
        "pd.set_option('max_columns', None)\n",
        "pd.set_option(\"max_rows\", None)\n",
        "pd.set_option(\"max_seq_item\", None)"
      ],
      "execution_count": 29,
      "outputs": []
    },
    {
      "cell_type": "code",
      "metadata": {
        "id": "BXzfhr1XE-fF",
        "outputId": "4c666768-9832-4ac8-ae12-8fb6c598cfbf",
        "colab": {
          "base_uri": "https://localhost:8080/",
          "height": 595
        }
      },
      "source": [
        "sfbnb_df.columns"
      ],
      "execution_count": 30,
      "outputs": [
        {
          "output_type": "execute_result",
          "data": {
            "text/plain": [
              "Index(['id', 'listing_url', 'scrape_id', 'last_scraped', 'name', 'summary',\n",
              "       'space', 'description', 'experiences_offered', 'neighborhood_overview',\n",
              "       'notes', 'transit', 'access', 'interaction', 'house_rules',\n",
              "       'thumbnail_url', 'medium_url', 'picture_url', 'xl_picture_url',\n",
              "       'host_id', 'host_url', 'host_name', 'host_since', 'host_location',\n",
              "       'host_about', 'host_response_time', 'host_response_rate',\n",
              "       'host_acceptance_rate', 'host_is_superhost', 'host_thumbnail_url',\n",
              "       'host_picture_url', 'host_neighbourhood', 'host_listings_count',\n",
              "       'host_total_listings_count', 'host_verifications',\n",
              "       'host_has_profile_pic', 'host_identity_verified', 'street',\n",
              "       'neighbourhood', 'neighbourhood_cleansed',\n",
              "       'neighbourhood_group_cleansed', 'city', 'state', 'zipcode', 'market',\n",
              "       'smart_location', 'country_code', 'country', 'latitude', 'longitude',\n",
              "       'is_location_exact', 'property_type', 'room_type', 'accommodates',\n",
              "       'bathrooms', 'bedrooms', 'beds', 'bed_type', 'amenities', 'square_feet',\n",
              "       'price', 'weekly_price', 'monthly_price', 'security_deposit',\n",
              "       'cleaning_fee', 'guests_included', 'extra_people', 'minimum_nights',\n",
              "       'maximum_nights', 'minimum_minimum_nights', 'maximum_minimum_nights',\n",
              "       'minimum_maximum_nights', 'maximum_maximum_nights',\n",
              "       'minimum_nights_avg_ntm', 'maximum_nights_avg_ntm', 'calendar_updated',\n",
              "       'has_availability', 'availability_30', 'availability_60',\n",
              "       'availability_90', 'availability_365', 'calendar_last_scraped',\n",
              "       'number_of_reviews', 'number_of_reviews_ltm', 'first_review',\n",
              "       'last_review', 'review_scores_rating', 'review_scores_accuracy',\n",
              "       'review_scores_cleanliness', 'review_scores_checkin',\n",
              "       'review_scores_communication', 'review_scores_location',\n",
              "       'review_scores_value', 'requires_license', 'license',\n",
              "       'jurisdiction_names', 'instant_bookable', 'is_business_travel_ready',\n",
              "       'cancellation_policy', 'require_guest_profile_picture',\n",
              "       'require_guest_phone_verification', 'calculated_host_listings_count',\n",
              "       'calculated_host_listings_count_entire_homes',\n",
              "       'calculated_host_listings_count_private_rooms',\n",
              "       'calculated_host_listings_count_shared_rooms', 'reviews_per_month'],\n",
              "      dtype='object')"
            ]
          },
          "metadata": {
            "tags": []
          },
          "execution_count": 30
        }
      ]
    },
    {
      "cell_type": "markdown",
      "metadata": {
        "id": "jV4IdK5wG585"
      },
      "source": [
        " ### looks like Price stuff is: \n",
        " #### 'price', 'weekly_price', 'monthly_price'\n",
        "\n",
        " #### First Question:  Which to use as target?  \n",
        " #### Maybe check the amount of nulls.\n",
        " "
      ]
    },
    {
      "cell_type": "code",
      "metadata": {
        "id": "lJ0c3XHeJ7f-",
        "outputId": "30d2c0d7-7474-4e4c-d010-8abfd35f9b8d",
        "colab": {
          "base_uri": "https://localhost:8080/",
          "height": 34
        }
      },
      "source": [
        "# check to make sure each listing is unique\n",
        "sfbnb_df[\"id\"].nunique()"
      ],
      "execution_count": 31,
      "outputs": [
        {
          "output_type": "execute_result",
          "data": {
            "text/plain": [
              "8111"
            ]
          },
          "metadata": {
            "tags": []
          },
          "execution_count": 31
        }
      ]
    },
    {
      "cell_type": "code",
      "metadata": {
        "id": "JweDrK_WKHmJ"
      },
      "source": [
        ""
      ],
      "execution_count": 31,
      "outputs": []
    },
    {
      "cell_type": "code",
      "metadata": {
        "id": "eYICSjv0GAPr",
        "outputId": "9c5b6f86-0130-4890-837d-3e08b3ceb0a7",
        "colab": {
          "base_uri": "https://localhost:8080/",
          "height": 374
        }
      },
      "source": [
        "sfbnb_df[\"price\"].head(20)"
      ],
      "execution_count": 32,
      "outputs": [
        {
          "output_type": "execute_result",
          "data": {
            "text/plain": [
              "0     $170.00 \n",
              "1      $99.00 \n",
              "2     $235.00 \n",
              "3      $65.00 \n",
              "4      $65.00 \n",
              "5     $875.00 \n",
              "6     $139.00 \n",
              "7     $135.00 \n",
              "8     $225.00 \n",
              "9     $120.00 \n",
              "10    $177.00 \n",
              "11    $194.00 \n",
              "12    $139.00 \n",
              "13     $85.00 \n",
              "14     $85.00 \n",
              "15     $79.00 \n",
              "16    $122.00 \n",
              "17    $215.00 \n",
              "18    $450.00 \n",
              "19    $107.00 \n",
              "Name: price, dtype: object"
            ]
          },
          "metadata": {
            "tags": []
          },
          "execution_count": 32
        }
      ]
    },
    {
      "cell_type": "code",
      "metadata": {
        "id": "dLokmBT-H5ea",
        "outputId": "c6d29fa4-9a66-473c-dbbd-e7d5d2d8ba34",
        "colab": {
          "base_uri": "https://localhost:8080/",
          "height": 34
        }
      },
      "source": [
        "sfbnb_df[\"price\"].isnull().sum()"
      ],
      "execution_count": 33,
      "outputs": [
        {
          "output_type": "execute_result",
          "data": {
            "text/plain": [
              "0"
            ]
          },
          "metadata": {
            "tags": []
          },
          "execution_count": 33
        }
      ]
    },
    {
      "cell_type": "code",
      "metadata": {
        "id": "gcvVVor_H_Pa"
      },
      "source": [
        ""
      ],
      "execution_count": 33,
      "outputs": []
    },
    {
      "cell_type": "code",
      "metadata": {
        "id": "JJRYO0NnFVQJ",
        "outputId": "285bbe8e-59a7-479d-c0aa-c368aa7e2747",
        "colab": {
          "base_uri": "https://localhost:8080/",
          "height": 374
        }
      },
      "source": [
        "sfbnb_df['weekly_price'].head(20)"
      ],
      "execution_count": 34,
      "outputs": [
        {
          "output_type": "execute_result",
          "data": {
            "text/plain": [
              "0     $1,120.00 \n",
              "1            NaN\n",
              "2     $1,600.00 \n",
              "3       $485.00 \n",
              "4       $490.00 \n",
              "5            NaN\n",
              "6            NaN\n",
              "7     $1,000.00 \n",
              "8     $1,540.00 \n",
              "9     $1,150.00 \n",
              "10           NaN\n",
              "11           NaN\n",
              "12           NaN\n",
              "13      $630.00 \n",
              "14      $630.00 \n",
              "15           NaN\n",
              "16    $1,600.00 \n",
              "17           NaN\n",
              "18    $2,300.00 \n",
              "19           NaN\n",
              "Name: weekly_price, dtype: object"
            ]
          },
          "metadata": {
            "tags": []
          },
          "execution_count": 34
        }
      ]
    },
    {
      "cell_type": "code",
      "metadata": {
        "id": "Cec8AOZoIEr3",
        "outputId": "a751f593-513d-4b5d-b7c2-98180277955c",
        "colab": {
          "base_uri": "https://localhost:8080/",
          "height": 34
        }
      },
      "source": [
        "sfbnb_df['weekly_price'].isnull().sum()"
      ],
      "execution_count": 35,
      "outputs": [
        {
          "output_type": "execute_result",
          "data": {
            "text/plain": [
              "7042"
            ]
          },
          "metadata": {
            "tags": []
          },
          "execution_count": 35
        }
      ]
    },
    {
      "cell_type": "code",
      "metadata": {
        "id": "hjc55Pc6IHLp"
      },
      "source": [
        ""
      ],
      "execution_count": 35,
      "outputs": []
    },
    {
      "cell_type": "code",
      "metadata": {
        "id": "k9jPmhhTFT6x",
        "outputId": "fe4ddbcb-44e3-4eba-d4cd-f1017a7710c2",
        "colab": {
          "base_uri": "https://localhost:8080/",
          "height": 374
        }
      },
      "source": [
        "sfbnb_df['monthly_price'].head(20)"
      ],
      "execution_count": 36,
      "outputs": [
        {
          "output_type": "execute_result",
          "data": {
            "text/plain": [
              "0     $4,200.00 \n",
              "1            NaN\n",
              "2     $5,500.00 \n",
              "3     $1,685.00 \n",
              "4     $1,685.00 \n",
              "5            NaN\n",
              "6     $9,999.00 \n",
              "7     $4,000.00 \n",
              "8     $5,400.00 \n",
              "9     $2,875.00 \n",
              "10           NaN\n",
              "11           NaN\n",
              "12    $4,800.00 \n",
              "13    $1,995.00 \n",
              "14    $1,995.00 \n",
              "15           NaN\n",
              "16    $4,600.00 \n",
              "17    $5,500.00 \n",
              "18    $6,600.00 \n",
              "19    $3,200.00 \n",
              "Name: monthly_price, dtype: object"
            ]
          },
          "metadata": {
            "tags": []
          },
          "execution_count": 36
        }
      ]
    },
    {
      "cell_type": "code",
      "metadata": {
        "id": "M9_fD2lyFHPj",
        "outputId": "cc64e6d5-5758-466d-b2b5-e0547d266507",
        "colab": {
          "base_uri": "https://localhost:8080/",
          "height": 34
        }
      },
      "source": [
        "sfbnb_df['monthly_price'].isnull().sum()"
      ],
      "execution_count": 37,
      "outputs": [
        {
          "output_type": "execute_result",
          "data": {
            "text/plain": [
              "7067"
            ]
          },
          "metadata": {
            "tags": []
          },
          "execution_count": 37
        }
      ]
    },
    {
      "cell_type": "markdown",
      "metadata": {
        "id": "LPTY6w2SIS9k"
      },
      "source": [
        "### Ok based on the amount of nulls I can use the price and drop weekly and monthly.  They have too many nulls."
      ]
    },
    {
      "cell_type": "markdown",
      "metadata": {
        "id": "hPwhkAWFIeY3"
      },
      "source": [
        "### Next Question:  Model!\n",
        "#### 1. NLP Bad of Words type\n",
        "#### 2. Vanilla Linear Regression\n",
        "#### 3. Some kinda fancy Regression Model\n",
        "#### 4. ANN?? (only if we turn it into a classification problem which doesn't see to fit the requirements.)\n"
      ]
    },
    {
      "cell_type": "code",
      "metadata": {
        "id": "GBJcymNBmrEp",
        "outputId": "06b3a50e-301e-4b1d-a9f0-631433d8e2da",
        "colab": {
          "base_uri": "https://localhost:8080/",
          "height": 335
        }
      },
      "source": [
        "sfbnb_df.head(2)"
      ],
      "execution_count": 38,
      "outputs": [
        {
          "output_type": "execute_result",
          "data": {
            "text/html": [
              "<div>\n",
              "<style scoped>\n",
              "    .dataframe tbody tr th:only-of-type {\n",
              "        vertical-align: middle;\n",
              "    }\n",
              "\n",
              "    .dataframe tbody tr th {\n",
              "        vertical-align: top;\n",
              "    }\n",
              "\n",
              "    .dataframe thead th {\n",
              "        text-align: right;\n",
              "    }\n",
              "</style>\n",
              "<table border=\"1\" class=\"dataframe\">\n",
              "  <thead>\n",
              "    <tr style=\"text-align: right;\">\n",
              "      <th></th>\n",
              "      <th>id</th>\n",
              "      <th>listing_url</th>\n",
              "      <th>scrape_id</th>\n",
              "      <th>last_scraped</th>\n",
              "      <th>name</th>\n",
              "      <th>summary</th>\n",
              "      <th>space</th>\n",
              "      <th>description</th>\n",
              "      <th>experiences_offered</th>\n",
              "      <th>neighborhood_overview</th>\n",
              "      <th>notes</th>\n",
              "      <th>transit</th>\n",
              "      <th>access</th>\n",
              "      <th>interaction</th>\n",
              "      <th>house_rules</th>\n",
              "      <th>thumbnail_url</th>\n",
              "      <th>medium_url</th>\n",
              "      <th>picture_url</th>\n",
              "      <th>xl_picture_url</th>\n",
              "      <th>host_id</th>\n",
              "      <th>host_url</th>\n",
              "      <th>host_name</th>\n",
              "      <th>host_since</th>\n",
              "      <th>host_location</th>\n",
              "      <th>host_about</th>\n",
              "      <th>host_response_time</th>\n",
              "      <th>host_response_rate</th>\n",
              "      <th>host_acceptance_rate</th>\n",
              "      <th>host_is_superhost</th>\n",
              "      <th>host_thumbnail_url</th>\n",
              "      <th>host_picture_url</th>\n",
              "      <th>host_neighbourhood</th>\n",
              "      <th>host_listings_count</th>\n",
              "      <th>host_total_listings_count</th>\n",
              "      <th>host_verifications</th>\n",
              "      <th>host_has_profile_pic</th>\n",
              "      <th>host_identity_verified</th>\n",
              "      <th>street</th>\n",
              "      <th>neighbourhood</th>\n",
              "      <th>neighbourhood_cleansed</th>\n",
              "      <th>neighbourhood_group_cleansed</th>\n",
              "      <th>city</th>\n",
              "      <th>state</th>\n",
              "      <th>zipcode</th>\n",
              "      <th>market</th>\n",
              "      <th>smart_location</th>\n",
              "      <th>country_code</th>\n",
              "      <th>country</th>\n",
              "      <th>latitude</th>\n",
              "      <th>longitude</th>\n",
              "      <th>is_location_exact</th>\n",
              "      <th>property_type</th>\n",
              "      <th>room_type</th>\n",
              "      <th>accommodates</th>\n",
              "      <th>bathrooms</th>\n",
              "      <th>bedrooms</th>\n",
              "      <th>beds</th>\n",
              "      <th>bed_type</th>\n",
              "      <th>amenities</th>\n",
              "      <th>square_feet</th>\n",
              "      <th>price</th>\n",
              "      <th>weekly_price</th>\n",
              "      <th>monthly_price</th>\n",
              "      <th>security_deposit</th>\n",
              "      <th>cleaning_fee</th>\n",
              "      <th>guests_included</th>\n",
              "      <th>extra_people</th>\n",
              "      <th>minimum_nights</th>\n",
              "      <th>maximum_nights</th>\n",
              "      <th>minimum_minimum_nights</th>\n",
              "      <th>maximum_minimum_nights</th>\n",
              "      <th>minimum_maximum_nights</th>\n",
              "      <th>maximum_maximum_nights</th>\n",
              "      <th>minimum_nights_avg_ntm</th>\n",
              "      <th>maximum_nights_avg_ntm</th>\n",
              "      <th>calendar_updated</th>\n",
              "      <th>has_availability</th>\n",
              "      <th>availability_30</th>\n",
              "      <th>availability_60</th>\n",
              "      <th>availability_90</th>\n",
              "      <th>availability_365</th>\n",
              "      <th>calendar_last_scraped</th>\n",
              "      <th>number_of_reviews</th>\n",
              "      <th>number_of_reviews_ltm</th>\n",
              "      <th>first_review</th>\n",
              "      <th>last_review</th>\n",
              "      <th>review_scores_rating</th>\n",
              "      <th>review_scores_accuracy</th>\n",
              "      <th>review_scores_cleanliness</th>\n",
              "      <th>review_scores_checkin</th>\n",
              "      <th>review_scores_communication</th>\n",
              "      <th>review_scores_location</th>\n",
              "      <th>review_scores_value</th>\n",
              "      <th>requires_license</th>\n",
              "      <th>license</th>\n",
              "      <th>jurisdiction_names</th>\n",
              "      <th>instant_bookable</th>\n",
              "      <th>is_business_travel_ready</th>\n",
              "      <th>cancellation_policy</th>\n",
              "      <th>require_guest_profile_picture</th>\n",
              "      <th>require_guest_phone_verification</th>\n",
              "      <th>calculated_host_listings_count</th>\n",
              "      <th>calculated_host_listings_count_entire_homes</th>\n",
              "      <th>calculated_host_listings_count_private_rooms</th>\n",
              "      <th>calculated_host_listings_count_shared_rooms</th>\n",
              "      <th>reviews_per_month</th>\n",
              "    </tr>\n",
              "  </thead>\n",
              "  <tbody>\n",
              "    <tr>\n",
              "      <th>0</th>\n",
              "      <td>958</td>\n",
              "      <td>https://www.airbnb.com/rooms/958</td>\n",
              "      <td>2.019100e+13</td>\n",
              "      <td>10/14/19</td>\n",
              "      <td>Bright, Modern Garden Unit - 1BR/1B</td>\n",
              "      <td>New update: the house next door is under const...</td>\n",
              "      <td>Newly remodeled, modern, and bright garden uni...</td>\n",
              "      <td>New update: the house next door is under const...</td>\n",
              "      <td>none</td>\n",
              "      <td>*Quiet cul de sac in friendly neighborhood *St...</td>\n",
              "      <td>Due to the fact that we have children and a do...</td>\n",
              "      <td>*Public Transportation is 1/2 block away.  *Ce...</td>\n",
              "      <td>*Full access to patio and backyard (shared wit...</td>\n",
              "      <td>A family of 4 lives upstairs with their dog. N...</td>\n",
              "      <td>* No Pets - even visiting guests for a short t...</td>\n",
              "      <td>NaN</td>\n",
              "      <td>NaN</td>\n",
              "      <td>https://a0.muscache.com/im/pictures/b7c2a199-4...</td>\n",
              "      <td>NaN</td>\n",
              "      <td>1169</td>\n",
              "      <td>https://www.airbnb.com/users/show/1169</td>\n",
              "      <td>Holly</td>\n",
              "      <td>7/31/08</td>\n",
              "      <td>San Francisco, California, United States</td>\n",
              "      <td>We are a family with 2 boys born in 2009 and 2...</td>\n",
              "      <td>within a day</td>\n",
              "      <td>100%</td>\n",
              "      <td>NaN</td>\n",
              "      <td>t</td>\n",
              "      <td>https://a0.muscache.com/im/pictures/efdad96a-3...</td>\n",
              "      <td>https://a0.muscache.com/im/pictures/efdad96a-3...</td>\n",
              "      <td>Duboce Triangle</td>\n",
              "      <td>1.0</td>\n",
              "      <td>1.0</td>\n",
              "      <td>['email', 'phone', 'facebook', 'reviews', 'kba']</td>\n",
              "      <td>t</td>\n",
              "      <td>t</td>\n",
              "      <td>San Francisco, CA, United States</td>\n",
              "      <td>Duboce Triangle</td>\n",
              "      <td>Western Addition</td>\n",
              "      <td>NaN</td>\n",
              "      <td>San Francisco</td>\n",
              "      <td>CA</td>\n",
              "      <td>94117</td>\n",
              "      <td>San Francisco</td>\n",
              "      <td>San Francisco, CA</td>\n",
              "      <td>US</td>\n",
              "      <td>United States</td>\n",
              "      <td>37.76931</td>\n",
              "      <td>-122.43386</td>\n",
              "      <td>t</td>\n",
              "      <td>Apartment</td>\n",
              "      <td>Entire home/apt</td>\n",
              "      <td>3</td>\n",
              "      <td>1.0</td>\n",
              "      <td>1.0</td>\n",
              "      <td>2.0</td>\n",
              "      <td>Real Bed</td>\n",
              "      <td>{TV,\"Cable TV\",Internet,Wifi,Kitchen,\"Pets liv...</td>\n",
              "      <td>NaN</td>\n",
              "      <td>$170.00</td>\n",
              "      <td>$1,120.00</td>\n",
              "      <td>$4,200.00</td>\n",
              "      <td>$100.00</td>\n",
              "      <td>$100.00</td>\n",
              "      <td>2</td>\n",
              "      <td>$25.00</td>\n",
              "      <td>1</td>\n",
              "      <td>30</td>\n",
              "      <td>1</td>\n",
              "      <td>1</td>\n",
              "      <td>30</td>\n",
              "      <td>30</td>\n",
              "      <td>1.0</td>\n",
              "      <td>30.0</td>\n",
              "      <td>2 months ago</td>\n",
              "      <td>t</td>\n",
              "      <td>3</td>\n",
              "      <td>8</td>\n",
              "      <td>16</td>\n",
              "      <td>85</td>\n",
              "      <td>10/14/19</td>\n",
              "      <td>217</td>\n",
              "      <td>52</td>\n",
              "      <td>7/23/09</td>\n",
              "      <td>9/21/19</td>\n",
              "      <td>97.0</td>\n",
              "      <td>10.0</td>\n",
              "      <td>10.0</td>\n",
              "      <td>10.0</td>\n",
              "      <td>10.0</td>\n",
              "      <td>10.0</td>\n",
              "      <td>9.0</td>\n",
              "      <td>t</td>\n",
              "      <td>STR-0001256</td>\n",
              "      <td>{\"SAN FRANCISCO\"}</td>\n",
              "      <td>f</td>\n",
              "      <td>f</td>\n",
              "      <td>moderate</td>\n",
              "      <td>f</td>\n",
              "      <td>f</td>\n",
              "      <td>1</td>\n",
              "      <td>1</td>\n",
              "      <td>0</td>\n",
              "      <td>0</td>\n",
              "      <td>1.74</td>\n",
              "    </tr>\n",
              "    <tr>\n",
              "      <th>1</th>\n",
              "      <td>3850</td>\n",
              "      <td>https://www.airbnb.com/rooms/3850</td>\n",
              "      <td>2.019100e+13</td>\n",
              "      <td>10/14/19</td>\n",
              "      <td>Charming room for two</td>\n",
              "      <td>Your own private room plus access to a shared ...</td>\n",
              "      <td>This room can fit two people. Nobody else will...</td>\n",
              "      <td>Your own private room plus access to a shared ...</td>\n",
              "      <td>none</td>\n",
              "      <td>This is a quiet, safe neighborhood on a substa...</td>\n",
              "      <td>House Rule footnotes: 1.\\tI don’t allow check ...</td>\n",
              "      <td>Public transit service to my house is outstand...</td>\n",
              "      <td>During the hours of 7:00 to 22:00, your access...</td>\n",
              "      <td>I live at the house in my own bedroom, and I w...</td>\n",
              "      <td>Airbnb has no default house rules that hosts c...</td>\n",
              "      <td>NaN</td>\n",
              "      <td>NaN</td>\n",
              "      <td>https://a0.muscache.com/im/pictures/b6e97d2a-1...</td>\n",
              "      <td>NaN</td>\n",
              "      <td>4921</td>\n",
              "      <td>https://www.airbnb.com/users/show/4921</td>\n",
              "      <td>Kevin</td>\n",
              "      <td>12/8/08</td>\n",
              "      <td>San Francisco, California, United States</td>\n",
              "      <td>I am a retired software developer now raising ...</td>\n",
              "      <td>within an hour</td>\n",
              "      <td>100%</td>\n",
              "      <td>NaN</td>\n",
              "      <td>t</td>\n",
              "      <td>https://a0.muscache.com/im/pictures/97d29791-d...</td>\n",
              "      <td>https://a0.muscache.com/im/pictures/97d29791-d...</td>\n",
              "      <td>Inner Sunset</td>\n",
              "      <td>2.0</td>\n",
              "      <td>2.0</td>\n",
              "      <td>['email', 'phone', 'reviews', 'jumio', 'govern...</td>\n",
              "      <td>t</td>\n",
              "      <td>t</td>\n",
              "      <td>San Francisco, CA, United States</td>\n",
              "      <td>Inner Sunset</td>\n",
              "      <td>Inner Sunset</td>\n",
              "      <td>NaN</td>\n",
              "      <td>San Francisco</td>\n",
              "      <td>CA</td>\n",
              "      <td>94131</td>\n",
              "      <td>San Francisco</td>\n",
              "      <td>San Francisco, CA</td>\n",
              "      <td>US</td>\n",
              "      <td>United States</td>\n",
              "      <td>37.75402</td>\n",
              "      <td>-122.45805</td>\n",
              "      <td>t</td>\n",
              "      <td>House</td>\n",
              "      <td>Private room</td>\n",
              "      <td>2</td>\n",
              "      <td>1.0</td>\n",
              "      <td>1.0</td>\n",
              "      <td>1.0</td>\n",
              "      <td>Real Bed</td>\n",
              "      <td>{Internet,Wifi,Kitchen,Breakfast,\"Free street ...</td>\n",
              "      <td>NaN</td>\n",
              "      <td>$99.00</td>\n",
              "      <td>NaN</td>\n",
              "      <td>NaN</td>\n",
              "      <td>$0.00</td>\n",
              "      <td>$10.00</td>\n",
              "      <td>2</td>\n",
              "      <td>$20.00</td>\n",
              "      <td>1</td>\n",
              "      <td>5</td>\n",
              "      <td>1</td>\n",
              "      <td>1</td>\n",
              "      <td>5</td>\n",
              "      <td>5</td>\n",
              "      <td>1.0</td>\n",
              "      <td>5.0</td>\n",
              "      <td>3 days ago</td>\n",
              "      <td>t</td>\n",
              "      <td>5</td>\n",
              "      <td>32</td>\n",
              "      <td>62</td>\n",
              "      <td>62</td>\n",
              "      <td>10/14/19</td>\n",
              "      <td>160</td>\n",
              "      <td>36</td>\n",
              "      <td>7/16/09</td>\n",
              "      <td>9/30/19</td>\n",
              "      <td>94.0</td>\n",
              "      <td>10.0</td>\n",
              "      <td>10.0</td>\n",
              "      <td>10.0</td>\n",
              "      <td>10.0</td>\n",
              "      <td>10.0</td>\n",
              "      <td>10.0</td>\n",
              "      <td>t</td>\n",
              "      <td>STR-0000346</td>\n",
              "      <td>{\"SAN FRANCISCO\"}</td>\n",
              "      <td>f</td>\n",
              "      <td>f</td>\n",
              "      <td>strict_14_with_grace_period</td>\n",
              "      <td>f</td>\n",
              "      <td>f</td>\n",
              "      <td>3</td>\n",
              "      <td>0</td>\n",
              "      <td>3</td>\n",
              "      <td>0</td>\n",
              "      <td>1.28</td>\n",
              "    </tr>\n",
              "  </tbody>\n",
              "</table>\n",
              "</div>"
            ],
            "text/plain": [
              "     id                        listing_url     scrape_id last_scraped  \\\n",
              "0   958   https://www.airbnb.com/rooms/958  2.019100e+13     10/14/19   \n",
              "1  3850  https://www.airbnb.com/rooms/3850  2.019100e+13     10/14/19   \n",
              "\n",
              "                                  name  \\\n",
              "0  Bright, Modern Garden Unit - 1BR/1B   \n",
              "1                Charming room for two   \n",
              "\n",
              "                                             summary  \\\n",
              "0  New update: the house next door is under const...   \n",
              "1  Your own private room plus access to a shared ...   \n",
              "\n",
              "                                               space  \\\n",
              "0  Newly remodeled, modern, and bright garden uni...   \n",
              "1  This room can fit two people. Nobody else will...   \n",
              "\n",
              "                                         description experiences_offered  \\\n",
              "0  New update: the house next door is under const...                none   \n",
              "1  Your own private room plus access to a shared ...                none   \n",
              "\n",
              "                               neighborhood_overview  \\\n",
              "0  *Quiet cul de sac in friendly neighborhood *St...   \n",
              "1  This is a quiet, safe neighborhood on a substa...   \n",
              "\n",
              "                                               notes  \\\n",
              "0  Due to the fact that we have children and a do...   \n",
              "1  House Rule footnotes: 1.\\tI don’t allow check ...   \n",
              "\n",
              "                                             transit  \\\n",
              "0  *Public Transportation is 1/2 block away.  *Ce...   \n",
              "1  Public transit service to my house is outstand...   \n",
              "\n",
              "                                              access  \\\n",
              "0  *Full access to patio and backyard (shared wit...   \n",
              "1  During the hours of 7:00 to 22:00, your access...   \n",
              "\n",
              "                                         interaction  \\\n",
              "0  A family of 4 lives upstairs with their dog. N...   \n",
              "1  I live at the house in my own bedroom, and I w...   \n",
              "\n",
              "                                         house_rules  thumbnail_url  \\\n",
              "0  * No Pets - even visiting guests for a short t...            NaN   \n",
              "1  Airbnb has no default house rules that hosts c...            NaN   \n",
              "\n",
              "   medium_url                                        picture_url  \\\n",
              "0         NaN  https://a0.muscache.com/im/pictures/b7c2a199-4...   \n",
              "1         NaN  https://a0.muscache.com/im/pictures/b6e97d2a-1...   \n",
              "\n",
              "   xl_picture_url  host_id                                host_url host_name  \\\n",
              "0             NaN     1169  https://www.airbnb.com/users/show/1169     Holly   \n",
              "1             NaN     4921  https://www.airbnb.com/users/show/4921     Kevin   \n",
              "\n",
              "  host_since                             host_location  \\\n",
              "0    7/31/08  San Francisco, California, United States   \n",
              "1    12/8/08  San Francisco, California, United States   \n",
              "\n",
              "                                          host_about host_response_time  \\\n",
              "0  We are a family with 2 boys born in 2009 and 2...       within a day   \n",
              "1  I am a retired software developer now raising ...     within an hour   \n",
              "\n",
              "  host_response_rate  host_acceptance_rate host_is_superhost  \\\n",
              "0               100%                   NaN                 t   \n",
              "1               100%                   NaN                 t   \n",
              "\n",
              "                                  host_thumbnail_url  \\\n",
              "0  https://a0.muscache.com/im/pictures/efdad96a-3...   \n",
              "1  https://a0.muscache.com/im/pictures/97d29791-d...   \n",
              "\n",
              "                                    host_picture_url host_neighbourhood  \\\n",
              "0  https://a0.muscache.com/im/pictures/efdad96a-3...    Duboce Triangle   \n",
              "1  https://a0.muscache.com/im/pictures/97d29791-d...       Inner Sunset   \n",
              "\n",
              "   host_listings_count  host_total_listings_count  \\\n",
              "0                  1.0                        1.0   \n",
              "1                  2.0                        2.0   \n",
              "\n",
              "                                  host_verifications host_has_profile_pic  \\\n",
              "0   ['email', 'phone', 'facebook', 'reviews', 'kba']                    t   \n",
              "1  ['email', 'phone', 'reviews', 'jumio', 'govern...                    t   \n",
              "\n",
              "  host_identity_verified                            street    neighbourhood  \\\n",
              "0                      t  San Francisco, CA, United States  Duboce Triangle   \n",
              "1                      t  San Francisco, CA, United States     Inner Sunset   \n",
              "\n",
              "  neighbourhood_cleansed  neighbourhood_group_cleansed           city state  \\\n",
              "0       Western Addition                           NaN  San Francisco    CA   \n",
              "1           Inner Sunset                           NaN  San Francisco    CA   \n",
              "\n",
              "  zipcode         market     smart_location country_code        country  \\\n",
              "0   94117  San Francisco  San Francisco, CA           US  United States   \n",
              "1   94131  San Francisco  San Francisco, CA           US  United States   \n",
              "\n",
              "   latitude  longitude is_location_exact property_type        room_type  \\\n",
              "0  37.76931 -122.43386                 t     Apartment  Entire home/apt   \n",
              "1  37.75402 -122.45805                 t         House     Private room   \n",
              "\n",
              "   accommodates  bathrooms  bedrooms  beds  bed_type  \\\n",
              "0             3        1.0       1.0   2.0  Real Bed   \n",
              "1             2        1.0       1.0   1.0  Real Bed   \n",
              "\n",
              "                                           amenities  square_feet     price  \\\n",
              "0  {TV,\"Cable TV\",Internet,Wifi,Kitchen,\"Pets liv...          NaN  $170.00    \n",
              "1  {Internet,Wifi,Kitchen,Breakfast,\"Free street ...          NaN   $99.00    \n",
              "\n",
              "  weekly_price monthly_price security_deposit cleaning_fee  guests_included  \\\n",
              "0   $1,120.00     $4,200.00          $100.00      $100.00                 2   \n",
              "1          NaN           NaN           $0.00       $10.00                 2   \n",
              "\n",
              "  extra_people  minimum_nights  maximum_nights  minimum_minimum_nights  \\\n",
              "0      $25.00                1              30                       1   \n",
              "1      $20.00                1               5                       1   \n",
              "\n",
              "   maximum_minimum_nights  minimum_maximum_nights  maximum_maximum_nights  \\\n",
              "0                       1                      30                      30   \n",
              "1                       1                       5                       5   \n",
              "\n",
              "   minimum_nights_avg_ntm  maximum_nights_avg_ntm calendar_updated  \\\n",
              "0                     1.0                    30.0     2 months ago   \n",
              "1                     1.0                     5.0       3 days ago   \n",
              "\n",
              "  has_availability  availability_30  availability_60  availability_90  \\\n",
              "0                t                3                8               16   \n",
              "1                t                5               32               62   \n",
              "\n",
              "   availability_365 calendar_last_scraped  number_of_reviews  \\\n",
              "0                85              10/14/19                217   \n",
              "1                62              10/14/19                160   \n",
              "\n",
              "   number_of_reviews_ltm first_review last_review  review_scores_rating  \\\n",
              "0                     52      7/23/09     9/21/19                  97.0   \n",
              "1                     36      7/16/09     9/30/19                  94.0   \n",
              "\n",
              "   review_scores_accuracy  review_scores_cleanliness  review_scores_checkin  \\\n",
              "0                    10.0                       10.0                   10.0   \n",
              "1                    10.0                       10.0                   10.0   \n",
              "\n",
              "   review_scores_communication  review_scores_location  review_scores_value  \\\n",
              "0                         10.0                    10.0                  9.0   \n",
              "1                         10.0                    10.0                 10.0   \n",
              "\n",
              "  requires_license      license jurisdiction_names instant_bookable  \\\n",
              "0                t  STR-0001256  {\"SAN FRANCISCO\"}                f   \n",
              "1                t  STR-0000346  {\"SAN FRANCISCO\"}                f   \n",
              "\n",
              "  is_business_travel_ready          cancellation_policy  \\\n",
              "0                        f                     moderate   \n",
              "1                        f  strict_14_with_grace_period   \n",
              "\n",
              "  require_guest_profile_picture require_guest_phone_verification  \\\n",
              "0                             f                                f   \n",
              "1                             f                                f   \n",
              "\n",
              "   calculated_host_listings_count  \\\n",
              "0                               1   \n",
              "1                               3   \n",
              "\n",
              "   calculated_host_listings_count_entire_homes  \\\n",
              "0                                            1   \n",
              "1                                            0   \n",
              "\n",
              "   calculated_host_listings_count_private_rooms  \\\n",
              "0                                             0   \n",
              "1                                             3   \n",
              "\n",
              "   calculated_host_listings_count_shared_rooms  reviews_per_month  \n",
              "0                                            0               1.74  \n",
              "1                                            0               1.28  "
            ]
          },
          "metadata": {
            "tags": []
          },
          "execution_count": 38
        }
      ]
    },
    {
      "cell_type": "code",
      "metadata": {
        "id": "kTtYuyyCsO5O",
        "outputId": "d115568e-0eb4-4000-fd3c-7944a262df20",
        "colab": {
          "base_uri": "https://localhost:8080/",
          "height": 136
        }
      },
      "source": [
        "sfbnb_df['cancellation_policy'].value_counts()"
      ],
      "execution_count": 39,
      "outputs": [
        {
          "output_type": "execute_result",
          "data": {
            "text/plain": [
              "strict_14_with_grace_period    3601\n",
              "moderate                       2605\n",
              "flexible                       1735\n",
              "strict                          106\n",
              "super_strict_30                  45\n",
              "super_strict_60                  19\n",
              "Name: cancellation_policy, dtype: int64"
            ]
          },
          "metadata": {
            "tags": []
          },
          "execution_count": 39
        }
      ]
    },
    {
      "cell_type": "code",
      "metadata": {
        "id": "FyEI6OpTsd6Q"
      },
      "source": [
        ""
      ],
      "execution_count": 39,
      "outputs": []
    },
    {
      "cell_type": "code",
      "metadata": {
        "id": "VE88Barhmufy",
        "outputId": "d6a7f4f6-17ab-4b06-b6c8-04574c1e12a2",
        "colab": {
          "base_uri": "https://localhost:8080/",
          "height": 34
        }
      },
      "source": [
        "# check the experiences feature\n",
        "print(sfbnb_df['experiences_offered'][0])"
      ],
      "execution_count": 40,
      "outputs": [
        {
          "output_type": "stream",
          "text": [
            "none\n"
          ],
          "name": "stdout"
        }
      ]
    },
    {
      "cell_type": "code",
      "metadata": {
        "id": "_shdhJmQnbmm"
      },
      "source": [
        "cond_exper = sfbnb_df['experiences_offered'] != \"none\"\n",
        "no_exper = sfbnb_df[cond_exper]"
      ],
      "execution_count": 41,
      "outputs": []
    },
    {
      "cell_type": "code",
      "metadata": {
        "id": "dL1e23efn8q5",
        "outputId": "927ead90-e084-4f1e-bf6b-02b91eea76dc",
        "colab": {
          "base_uri": "https://localhost:8080/",
          "height": 34
        }
      },
      "source": [
        "no_exper.shape"
      ],
      "execution_count": 42,
      "outputs": [
        {
          "output_type": "execute_result",
          "data": {
            "text/plain": [
              "(0, 106)"
            ]
          },
          "metadata": {
            "tags": []
          },
          "execution_count": 42
        }
      ]
    },
    {
      "cell_type": "code",
      "metadata": {
        "id": "JfvU_PJkoEHG"
      },
      "source": [
        "# drop the experiences column for sure.  They are all none.  "
      ],
      "execution_count": 43,
      "outputs": []
    },
    {
      "cell_type": "code",
      "metadata": {
        "id": "MrFlnFTdrM2y",
        "outputId": "b94ed025-7dce-4221-bce4-36876162125c",
        "colab": {
          "base_uri": "https://localhost:8080/",
          "height": 663
        }
      },
      "source": [
        "sfbnb_df['neighbourhood_cleansed'].value_counts()"
      ],
      "execution_count": 44,
      "outputs": [
        {
          "output_type": "execute_result",
          "data": {
            "text/plain": [
              "Mission                  756\n",
              "Downtown/Civic Center    686\n",
              "South of Market          680\n",
              "Western Addition         632\n",
              "Castro/Upper Market      434\n",
              "Haight Ashbury           398\n",
              "Bernal Heights           390\n",
              "Noe Valley               334\n",
              "Nob Hill                 315\n",
              "Outer Sunset             298\n",
              "Potrero Hill             248\n",
              "Inner Richmond           213\n",
              "Bayview                  205\n",
              "Marina                   198\n",
              "Outer Richmond           184\n",
              "Financial District       183\n",
              "Outer Mission            182\n",
              "Excelsior                179\n",
              "Russian Hill             177\n",
              "Inner Sunset             173\n",
              "North Beach              173\n",
              "Pacific Heights          157\n",
              "West of Twin Peaks       136\n",
              "Ocean View               135\n",
              "Parkside                 132\n",
              "Chinatown                119\n",
              "Visitacion Valley         79\n",
              "Twin Peaks                68\n",
              "Lakeshore                 66\n",
              "Glen Park                 65\n",
              "Crocker Amazon            50\n",
              "Seacliff                  22\n",
              "Presidio Heights          21\n",
              "Diamond Heights           17\n",
              "Golden Gate Park           4\n",
              "Treasure Island/YBI        1\n",
              "Presidio                   1\n",
              "Name: neighbourhood_cleansed, dtype: int64"
            ]
          },
          "metadata": {
            "tags": []
          },
          "execution_count": 44
        }
      ]
    },
    {
      "cell_type": "code",
      "metadata": {
        "id": "P6GX88ETrbJD",
        "outputId": "37177a50-12af-44fa-8e5d-b754f8d53773",
        "colab": {
          "base_uri": "https://localhost:8080/",
          "height": 54
        }
      },
      "source": [
        "print(sfbnb_df['amenities'][0]) # amentities is crazy, but text hero might take care of it."
      ],
      "execution_count": 45,
      "outputs": [
        {
          "output_type": "stream",
          "text": [
            "{TV,\"Cable TV\",Internet,Wifi,Kitchen,\"Pets live on this property\",Dog(s),Heating,\"Family/kid friendly\",Washer,Dryer,\"Smoke detector\",\"Carbon monoxide detector\",\"First aid kit\",Essentials,Shampoo,\"24-hour check-in\",Hangers,\"Hair dryer\",Iron,\"Laptop friendly workspace\",\"Self check-in\",Keypad,\"Private entrance\",\"Pack ’n Play/travel crib\",\"Room-darkening shades\",\"Hot water\",Microwave,\"Coffee maker\",Refrigerator,\"Dishes and silverware\",Oven}\n"
          ],
          "name": "stdout"
        }
      ]
    },
    {
      "cell_type": "code",
      "metadata": {
        "id": "hPpwrr1UIRN_"
      },
      "source": [
        "# For a bag of words model I would need to: \n",
        "# let's list all the features with words\n",
        "\n",
        "words_features = ['name', 'summary',\n",
        "       'space', 'description', 'neighborhood_overview',\n",
        "       'notes', 'transit', 'access', 'interaction', 'house_rules',\n",
        "       'neighbourhood_cleansed', 'cancellation_policy']"
      ],
      "execution_count": 46,
      "outputs": []
    },
    {
      "cell_type": "markdown",
      "metadata": {
        "id": "U4pyVDK3q6tD"
      },
      "source": [
        "#### What to do with amenities?  It seems strange to dump into bag of words..."
      ]
    },
    {
      "cell_type": "markdown",
      "metadata": {
        "id": "2EDqc9yOzwdt"
      },
      "source": [
        "### Looks like I have have to eliminate the NaN's before I add all these text features.  What I could do is run them through Text Hero first...."
      ]
    },
    {
      "cell_type": "code",
      "metadata": {
        "id": "OkH31cGyEl1x",
        "outputId": "23126a0d-31dc-4a21-f5ff-1962580a6c92",
        "colab": {
          "base_uri": "https://localhost:8080/",
          "height": 119
        }
      },
      "source": [
        "sfbnb_df[\"test\"] = sfbnb_df[\"name\"]+ \" \" + sfbnb_df[\"summary\"]\n",
        "sfbnb_df[\"test\"].iloc[:5]"
      ],
      "execution_count": 47,
      "outputs": [
        {
          "output_type": "execute_result",
          "data": {
            "text/plain": [
              "0    Bright, Modern Garden Unit - 1BR/1B New update...\n",
              "1    Charming room for two Your own private room pl...\n",
              "2                                                  NaN\n",
              "3    A Friendly Room - UCSF/USF - San Francisco Nic...\n",
              "4    Friendly Room Apt. Style -UCSF/USF - San Franc...\n",
              "Name: test, dtype: object"
            ]
          },
          "metadata": {
            "tags": []
          },
          "execution_count": 47
        }
      ]
    },
    {
      "cell_type": "code",
      "metadata": {
        "id": "0W3Jy-kbzaOF",
        "outputId": "eeef94b6-b416-472f-9c30-9087a3ed5718",
        "colab": {
          "base_uri": "https://localhost:8080/",
          "height": 51
        }
      },
      "source": [
        "print(sfbnb_df[\"name\"][2])\n",
        "print(sfbnb_df[\"summary\"][2])"
      ],
      "execution_count": 48,
      "outputs": [
        {
          "output_type": "stream",
          "text": [
            "Creative Sanctuary\n",
            "nan\n"
          ],
          "name": "stdout"
        }
      ]
    },
    {
      "cell_type": "code",
      "metadata": {
        "id": "QahE5SPMzhqr"
      },
      "source": [
        "# print(sfbnb_df[\"name\"][2]+ \" \" + sfbnb_df[\"summary\"][2])\n",
        "# produces error - TypeError: must be str, not float"
      ],
      "execution_count": 49,
      "outputs": []
    },
    {
      "cell_type": "code",
      "metadata": {
        "id": "24XPP5YlzNkU"
      },
      "source": [
        "# each row goes through hero.clean(df[\"feature\"])\n",
        "# then add all the cleaned rows.\n",
        "# then I have the option to tf-idf them..."
      ],
      "execution_count": 50,
      "outputs": []
    },
    {
      "cell_type": "code",
      "metadata": {
        "id": "HrO5VzfV2cEI",
        "outputId": "894da8b4-adb8-4552-98fe-0634a31f76a9",
        "colab": {
          "base_uri": "https://localhost:8080/",
          "height": 1000
        }
      },
      "source": [
        "!pip install texthero"
      ],
      "execution_count": 51,
      "outputs": [
        {
          "output_type": "stream",
          "text": [
            "Collecting texthero\n",
            "  Downloading https://files.pythonhosted.org/packages/1f/5a/a9d33b799fe53011de79d140ad6d86c440a2da1ae8a7b24e851ee2f8bde8/texthero-1.0.9-py3-none-any.whl\n",
            "Requirement already satisfied: tqdm>=4.3 in /usr/local/lib/python3.6/dist-packages (from texthero) (4.41.1)\n",
            "Requirement already satisfied: numpy>=1.17 in /usr/local/lib/python3.6/dist-packages (from texthero) (1.18.5)\n",
            "Requirement already satisfied: gensim>=3.6.0 in /usr/local/lib/python3.6/dist-packages (from texthero) (3.6.0)\n",
            "Requirement already satisfied: scikit-learn>=0.22 in /usr/local/lib/python3.6/dist-packages (from texthero) (0.22.2.post1)\n",
            "Requirement already satisfied: matplotlib>=3.1.0 in /usr/local/lib/python3.6/dist-packages (from texthero) (3.2.2)\n",
            "Requirement already satisfied: spacy>=2.2.2 in /usr/local/lib/python3.6/dist-packages (from texthero) (2.2.4)\n",
            "Requirement already satisfied: wordcloud>=1.5.0 in /usr/local/lib/python3.6/dist-packages (from texthero) (1.5.0)\n",
            "Requirement already satisfied: pandas>=1.0.2 in /usr/local/lib/python3.6/dist-packages (from texthero) (1.1.2)\n",
            "Requirement already satisfied: plotly>=4.2.0 in /usr/local/lib/python3.6/dist-packages (from texthero) (4.4.1)\n",
            "Collecting unidecode>=1.1.1\n",
            "\u001b[?25l  Downloading https://files.pythonhosted.org/packages/d0/42/d9edfed04228bacea2d824904cae367ee9efd05e6cce7ceaaedd0b0ad964/Unidecode-1.1.1-py2.py3-none-any.whl (238kB)\n",
            "\u001b[K     |████████████████████████████████| 245kB 3.7MB/s \n",
            "\u001b[?25hCollecting nltk>=3.3\n",
            "\u001b[?25l  Downloading https://files.pythonhosted.org/packages/92/75/ce35194d8e3022203cca0d2f896dbb88689f9b3fce8e9f9cff942913519d/nltk-3.5.zip (1.4MB)\n",
            "\u001b[K     |████████████████████████████████| 1.4MB 5.9MB/s \n",
            "\u001b[?25hRequirement already satisfied: smart-open>=1.2.1 in /usr/local/lib/python3.6/dist-packages (from gensim>=3.6.0->texthero) (2.2.0)\n",
            "Requirement already satisfied: six>=1.5.0 in /usr/local/lib/python3.6/dist-packages (from gensim>=3.6.0->texthero) (1.15.0)\n",
            "Requirement already satisfied: scipy>=0.18.1 in /usr/local/lib/python3.6/dist-packages (from gensim>=3.6.0->texthero) (1.4.1)\n",
            "Requirement already satisfied: joblib>=0.11 in /usr/local/lib/python3.6/dist-packages (from scikit-learn>=0.22->texthero) (0.16.0)\n",
            "Requirement already satisfied: cycler>=0.10 in /usr/local/lib/python3.6/dist-packages (from matplotlib>=3.1.0->texthero) (0.10.0)\n",
            "Requirement already satisfied: pyparsing!=2.0.4,!=2.1.2,!=2.1.6,>=2.0.1 in /usr/local/lib/python3.6/dist-packages (from matplotlib>=3.1.0->texthero) (2.4.7)\n",
            "Requirement already satisfied: python-dateutil>=2.1 in /usr/local/lib/python3.6/dist-packages (from matplotlib>=3.1.0->texthero) (2.8.1)\n",
            "Requirement already satisfied: kiwisolver>=1.0.1 in /usr/local/lib/python3.6/dist-packages (from matplotlib>=3.1.0->texthero) (1.2.0)\n",
            "Requirement already satisfied: blis<0.5.0,>=0.4.0 in /usr/local/lib/python3.6/dist-packages (from spacy>=2.2.2->texthero) (0.4.1)\n",
            "Requirement already satisfied: thinc==7.4.0 in /usr/local/lib/python3.6/dist-packages (from spacy>=2.2.2->texthero) (7.4.0)\n",
            "Requirement already satisfied: setuptools in /usr/local/lib/python3.6/dist-packages (from spacy>=2.2.2->texthero) (50.3.0)\n",
            "Requirement already satisfied: plac<1.2.0,>=0.9.6 in /usr/local/lib/python3.6/dist-packages (from spacy>=2.2.2->texthero) (1.1.3)\n",
            "Requirement already satisfied: catalogue<1.1.0,>=0.0.7 in /usr/local/lib/python3.6/dist-packages (from spacy>=2.2.2->texthero) (1.0.0)\n",
            "Requirement already satisfied: murmurhash<1.1.0,>=0.28.0 in /usr/local/lib/python3.6/dist-packages (from spacy>=2.2.2->texthero) (1.0.2)\n",
            "Requirement already satisfied: preshed<3.1.0,>=3.0.2 in /usr/local/lib/python3.6/dist-packages (from spacy>=2.2.2->texthero) (3.0.2)\n",
            "Requirement already satisfied: wasabi<1.1.0,>=0.4.0 in /usr/local/lib/python3.6/dist-packages (from spacy>=2.2.2->texthero) (0.8.0)\n",
            "Requirement already satisfied: cymem<2.1.0,>=2.0.2 in /usr/local/lib/python3.6/dist-packages (from spacy>=2.2.2->texthero) (2.0.3)\n",
            "Requirement already satisfied: srsly<1.1.0,>=1.0.2 in /usr/local/lib/python3.6/dist-packages (from spacy>=2.2.2->texthero) (1.0.2)\n",
            "Requirement already satisfied: requests<3.0.0,>=2.13.0 in /usr/local/lib/python3.6/dist-packages (from spacy>=2.2.2->texthero) (2.23.0)\n",
            "Requirement already satisfied: pillow in /usr/local/lib/python3.6/dist-packages (from wordcloud>=1.5.0->texthero) (7.0.0)\n",
            "Requirement already satisfied: pytz>=2017.2 in /usr/local/lib/python3.6/dist-packages (from pandas>=1.0.2->texthero) (2018.9)\n",
            "Requirement already satisfied: retrying>=1.3.3 in /usr/local/lib/python3.6/dist-packages (from plotly>=4.2.0->texthero) (1.3.3)\n",
            "Requirement already satisfied: click in /usr/local/lib/python3.6/dist-packages (from nltk>=3.3->texthero) (7.1.2)\n",
            "Requirement already satisfied: regex in /usr/local/lib/python3.6/dist-packages (from nltk>=3.3->texthero) (2019.12.20)\n",
            "Requirement already satisfied: importlib-metadata>=0.20; python_version < \"3.8\" in /usr/local/lib/python3.6/dist-packages (from catalogue<1.1.0,>=0.0.7->spacy>=2.2.2->texthero) (2.0.0)\n",
            "Requirement already satisfied: chardet<4,>=3.0.2 in /usr/local/lib/python3.6/dist-packages (from requests<3.0.0,>=2.13.0->spacy>=2.2.2->texthero) (3.0.4)\n",
            "Requirement already satisfied: idna<3,>=2.5 in /usr/local/lib/python3.6/dist-packages (from requests<3.0.0,>=2.13.0->spacy>=2.2.2->texthero) (2.10)\n",
            "Requirement already satisfied: urllib3!=1.25.0,!=1.25.1,<1.26,>=1.21.1 in /usr/local/lib/python3.6/dist-packages (from requests<3.0.0,>=2.13.0->spacy>=2.2.2->texthero) (1.24.3)\n",
            "Requirement already satisfied: certifi>=2017.4.17 in /usr/local/lib/python3.6/dist-packages (from requests<3.0.0,>=2.13.0->spacy>=2.2.2->texthero) (2020.6.20)\n",
            "Requirement already satisfied: zipp>=0.5 in /usr/local/lib/python3.6/dist-packages (from importlib-metadata>=0.20; python_version < \"3.8\"->catalogue<1.1.0,>=0.0.7->spacy>=2.2.2->texthero) (3.2.0)\n",
            "Building wheels for collected packages: nltk\n",
            "  Building wheel for nltk (setup.py) ... \u001b[?25l\u001b[?25hdone\n",
            "  Created wheel for nltk: filename=nltk-3.5-cp36-none-any.whl size=1434675 sha256=ba46856b9c67e983d9f791355ae20695bd08822d366d3931995181aba24ed2f9\n",
            "  Stored in directory: /root/.cache/pip/wheels/ae/8c/3f/b1fe0ba04555b08b57ab52ab7f86023639a526d8bc8d384306\n",
            "Successfully built nltk\n",
            "Installing collected packages: unidecode, nltk, texthero\n",
            "  Found existing installation: nltk 3.2.5\n",
            "    Uninstalling nltk-3.2.5:\n",
            "      Successfully uninstalled nltk-3.2.5\n",
            "Successfully installed nltk-3.5 texthero-1.0.9 unidecode-1.1.1\n"
          ],
          "name": "stdout"
        }
      ]
    },
    {
      "cell_type": "code",
      "metadata": {
        "id": "AdQo1ujJ50qj",
        "outputId": "d621d9a9-ffad-4fad-c002-89803bd6aa5f",
        "colab": {
          "base_uri": "https://localhost:8080/",
          "height": 51
        }
      },
      "source": [
        "import texthero as hero"
      ],
      "execution_count": 52,
      "outputs": [
        {
          "output_type": "stream",
          "text": [
            "[nltk_data] Downloading package stopwords to /root/nltk_data...\n",
            "[nltk_data]   Unzipping corpora/stopwords.zip.\n"
          ],
          "name": "stderr"
        }
      ]
    },
    {
      "cell_type": "code",
      "metadata": {
        "id": "vEkGaPoO5Qyy",
        "outputId": "8f372c84-08d2-4285-f078-6ff4d4e5de7b",
        "colab": {
          "base_uri": "https://localhost:8080/",
          "height": 119
        }
      },
      "source": [
        "# test the cleaning for one feature\n",
        "# df['text'] = hero.clean(df['text'])\n",
        "\n",
        "sfbnb_df[\"test\"] = hero.clean(sfbnb_df[\"name\"])\n",
        "sfbnb_df[\"test\"].head()"
      ],
      "execution_count": 53,
      "outputs": [
        {
          "output_type": "execute_result",
          "data": {
            "text/plain": [
              "0                  bright modern garden unit 1br 1b\n",
              "1                                 charming room two\n",
              "2                                creative sanctuary\n",
              "3              friendly room ucsf usf san francisco\n",
              "4    friendly room apt style ucsf usf san francisco\n",
              "Name: test, dtype: object"
            ]
          },
          "metadata": {
            "tags": []
          },
          "execution_count": 53
        }
      ]
    },
    {
      "cell_type": "code",
      "metadata": {
        "id": "RKouGfS06Clv"
      },
      "source": [
        "# then clean summary and add it to name"
      ],
      "execution_count": 54,
      "outputs": []
    },
    {
      "cell_type": "code",
      "metadata": {
        "id": "KD33RJhq5wQg",
        "outputId": "171e3b33-9609-48fe-a005-30da419ee054",
        "colab": {
          "base_uri": "https://localhost:8080/",
          "height": 119
        }
      },
      "source": [
        "temp = []\n",
        "temp = hero.clean(sfbnb_df[\"summary\"])\n",
        "sfbnb_df[\"test\"] = sfbnb_df[\"test\"] + \" \" + temp\n",
        "sfbnb_df[\"test\"].head()"
      ],
      "execution_count": 55,
      "outputs": [
        {
          "output_type": "execute_result",
          "data": {
            "text/plain": [
              "0    bright modern garden unit 1br 1b new update ho...\n",
              "1    charming room two private room plus access sha...\n",
              "2                                  creative sanctuary \n",
              "3    friendly room ucsf usf san francisco nice good...\n",
              "4    friendly room apt style ucsf usf san francisco...\n",
              "Name: test, dtype: object"
            ]
          },
          "metadata": {
            "tags": []
          },
          "execution_count": 55
        }
      ]
    },
    {
      "cell_type": "code",
      "metadata": {
        "id": "ye8ZLTkaEwqN",
        "outputId": "9284488d-514c-4842-af92-a18a248019d8",
        "colab": {
          "base_uri": "https://localhost:8080/",
          "height": 34
        }
      },
      "source": [
        "type(list(sfbnb_df[\"summary\"]))"
      ],
      "execution_count": 56,
      "outputs": [
        {
          "output_type": "execute_result",
          "data": {
            "text/plain": [
              "list"
            ]
          },
          "metadata": {
            "tags": []
          },
          "execution_count": 56
        }
      ]
    },
    {
      "cell_type": "markdown",
      "metadata": {
        "id": "HRWpSrpvJpJz"
      },
      "source": [
        "## Cleans the text and creates a combined feature ready for vectorizing.  "
      ]
    },
    {
      "cell_type": "code",
      "metadata": {
        "id": "qnJNkCO66n2y"
      },
      "source": [
        "# it worked so write a function to do it. \n",
        "temp = sfbnb_df[\"name\"]\n",
        "for feature in words_features:\n",
        "  sfbnb_df[feature+\"_clean\"] = hero.clean(sfbnb_df[feature])\n",
        "    # df['period'] = df[['Year', 'quarter', ...]].agg('-'.join, axis=1)\n",
        "    \n",
        "sfbnb_df[\"text_combined\"] = sfbnb_df[['name_clean', 'summary_clean', 'space_clean', 'description_clean',\n",
        "       'neighborhood_overview_clean', 'notes_clean', 'transit_clean',\n",
        "       'access_clean', 'interaction_clean', 'house_rules_clean',\n",
        "       'neighbourhood_cleansed_clean', 'cancellation_policy_clean']].agg(' '.join, axis=1)\n"
      ],
      "execution_count": 57,
      "outputs": []
    },
    {
      "cell_type": "code",
      "metadata": {
        "id": "lQdxlMOUHtmw",
        "outputId": "164586e4-8582-4749-a8c9-8de87f909c43",
        "colab": {
          "base_uri": "https://localhost:8080/",
          "height": 680
        }
      },
      "source": [
        "sfbnb_df.columns"
      ],
      "execution_count": 58,
      "outputs": [
        {
          "output_type": "execute_result",
          "data": {
            "text/plain": [
              "Index(['id', 'listing_url', 'scrape_id', 'last_scraped', 'name', 'summary',\n",
              "       'space', 'description', 'experiences_offered', 'neighborhood_overview',\n",
              "       'notes', 'transit', 'access', 'interaction', 'house_rules',\n",
              "       'thumbnail_url', 'medium_url', 'picture_url', 'xl_picture_url',\n",
              "       'host_id', 'host_url', 'host_name', 'host_since', 'host_location',\n",
              "       'host_about', 'host_response_time', 'host_response_rate',\n",
              "       'host_acceptance_rate', 'host_is_superhost', 'host_thumbnail_url',\n",
              "       'host_picture_url', 'host_neighbourhood', 'host_listings_count',\n",
              "       'host_total_listings_count', 'host_verifications',\n",
              "       'host_has_profile_pic', 'host_identity_verified', 'street',\n",
              "       'neighbourhood', 'neighbourhood_cleansed',\n",
              "       'neighbourhood_group_cleansed', 'city', 'state', 'zipcode', 'market',\n",
              "       'smart_location', 'country_code', 'country', 'latitude', 'longitude',\n",
              "       'is_location_exact', 'property_type', 'room_type', 'accommodates',\n",
              "       'bathrooms', 'bedrooms', 'beds', 'bed_type', 'amenities', 'square_feet',\n",
              "       'price', 'weekly_price', 'monthly_price', 'security_deposit',\n",
              "       'cleaning_fee', 'guests_included', 'extra_people', 'minimum_nights',\n",
              "       'maximum_nights', 'minimum_minimum_nights', 'maximum_minimum_nights',\n",
              "       'minimum_maximum_nights', 'maximum_maximum_nights',\n",
              "       'minimum_nights_avg_ntm', 'maximum_nights_avg_ntm', 'calendar_updated',\n",
              "       'has_availability', 'availability_30', 'availability_60',\n",
              "       'availability_90', 'availability_365', 'calendar_last_scraped',\n",
              "       'number_of_reviews', 'number_of_reviews_ltm', 'first_review',\n",
              "       'last_review', 'review_scores_rating', 'review_scores_accuracy',\n",
              "       'review_scores_cleanliness', 'review_scores_checkin',\n",
              "       'review_scores_communication', 'review_scores_location',\n",
              "       'review_scores_value', 'requires_license', 'license',\n",
              "       'jurisdiction_names', 'instant_bookable', 'is_business_travel_ready',\n",
              "       'cancellation_policy', 'require_guest_profile_picture',\n",
              "       'require_guest_phone_verification', 'calculated_host_listings_count',\n",
              "       'calculated_host_listings_count_entire_homes',\n",
              "       'calculated_host_listings_count_private_rooms',\n",
              "       'calculated_host_listings_count_shared_rooms', 'reviews_per_month',\n",
              "       'test', 'name_clean', 'summary_clean', 'space_clean',\n",
              "       'description_clean', 'neighborhood_overview_clean', 'notes_clean',\n",
              "       'transit_clean', 'access_clean', 'interaction_clean',\n",
              "       'house_rules_clean', 'neighbourhood_cleansed_clean',\n",
              "       'cancellation_policy_clean', 'text_combined'],\n",
              "      dtype='object')"
            ]
          },
          "metadata": {
            "tags": []
          },
          "execution_count": 58
        }
      ]
    },
    {
      "cell_type": "code",
      "metadata": {
        "id": "boLcI7RBHvuf",
        "outputId": "25db1502-af71-499a-bf30-2248a15bba8d",
        "colab": {
          "base_uri": "https://localhost:8080/",
          "height": 119
        }
      },
      "source": [
        "sfbnb_df[\"text_combined\"].head()"
      ],
      "execution_count": 59,
      "outputs": [
        {
          "output_type": "execute_result",
          "data": {
            "text/plain": [
              "0    bright modern garden unit 1br 1b new update ho...\n",
              "1    charming room two private room plus access sha...\n",
              "2    creative sanctuary  live large victorian house...\n",
              "3    friendly room ucsf usf san francisco nice good...\n",
              "4    friendly room apt style ucsf usf san francisco...\n",
              "Name: text_combined, dtype: object"
            ]
          },
          "metadata": {
            "tags": []
          },
          "execution_count": 59
        }
      ]
    },
    {
      "cell_type": "code",
      "metadata": {
        "id": "SeMaeJFRI8CV",
        "outputId": "903aba33-90df-49f4-becf-5882392955c7",
        "colab": {
          "base_uri": "https://localhost:8080/",
          "height": 171
        }
      },
      "source": [
        "sfbnb_df[\"text_combined\"][0]"
      ],
      "execution_count": 60,
      "outputs": [
        {
          "output_type": "execute_result",
          "data": {
            "application/vnd.google.colaboratory.intrinsic+json": {
              "type": "string"
            },
            "text/plain": [
              "'bright modern garden unit 1br 1b new update house next door construction possibility noise 7am 5pm rates discounted time period bright garden unit overlooks grassy backyard area fruit trees native plants oasis big city apartment comfortably fits couple small family located cul de sac street ends lovely duboce park newly remodeled modern bright garden unit historic victorian home new fixtures finishes organic cotton sheets towels zero voc non toxic yolo paint organic fair trade teas fresh local ground coffee local art walls sofa bed queen bed room petite apartment separate room dining kitchen new update house next door construction possibility noise 7am 5pm rates discounted time period bright garden unit overlooks grassy backyard area fruit trees native plants oasis big city apartment comfortably fits couple small family located cul de sac street ends lovely duboce park newly remodeled modern bright garden unit historic victorian home new fixtures finishes organic cotton sheets towels zero voc non toxic yolo paint organic fair trade teas fresh local ground coffee local art walls sofa bed queen bed room petite apartment separate room dining kitchen full access patio backyard shared us dog live upstairs beautiful garden fruit trees native plants lawn washer dryer children toys charcoal grill family lives upstairs quiet cul de sac friendly neighborhood steps away grassy park playgrounds recreational center family friendly neighborhood quaint shops grocery stores restaurants within minute walk due fact children dog early 8am footsteps paws heard apartment place ideal early risers hard sleepers appreciate quiet evenings late mornings public transportation block away centrally located easy access major lines public transportation n judah haight j church fillmore bart parking offered street parking unmetered 9am 8pm restricted two hours per space case residential street parking city wide overnight weekend parking street unrestricted street cleaning happens least times week streets taxis suggested airport trips full access patio backyard shared us dog live upstairs beautiful garden fruit trees native plants lawn washer dryer children toys charcoal grill family lives upstairs dog normally able meet guests like give people privacy mostly leave alone always available anything needed questions need answered pets even visiting guests short time period smokers allowed even smoking premises western addition moderate'"
            ]
          },
          "metadata": {
            "tags": []
          },
          "execution_count": 60
        }
      ]
    },
    {
      "cell_type": "code",
      "metadata": {
        "id": "1QjtUQT0JkXZ"
      },
      "source": [
        "sfbnb_df.head()"
      ],
      "execution_count": 60,
      "outputs": []
    },
    {
      "cell_type": "code",
      "metadata": {
        "id": "tR6Vxp5t7d1B"
      },
      "source": [
        ""
      ],
      "execution_count": 60,
      "outputs": []
    },
    {
      "cell_type": "markdown",
      "metadata": {
        "id": "Q_5JkV6qLBpO"
      },
      "source": [
        "#### Model 2 - stuff we need; user variables.  "
      ]
    },
    {
      "cell_type": "code",
      "metadata": {
        "id": "xv9nPudwLOy5",
        "outputId": "40c79636-cd6f-4357-accd-1f5782b7bd3e",
        "colab": {
          "base_uri": "https://localhost:8080/",
          "height": 680
        }
      },
      "source": [
        "sfbnb_df.columns\n"
      ],
      "execution_count": 61,
      "outputs": [
        {
          "output_type": "execute_result",
          "data": {
            "text/plain": [
              "Index(['id', 'listing_url', 'scrape_id', 'last_scraped', 'name', 'summary',\n",
              "       'space', 'description', 'experiences_offered', 'neighborhood_overview',\n",
              "       'notes', 'transit', 'access', 'interaction', 'house_rules',\n",
              "       'thumbnail_url', 'medium_url', 'picture_url', 'xl_picture_url',\n",
              "       'host_id', 'host_url', 'host_name', 'host_since', 'host_location',\n",
              "       'host_about', 'host_response_time', 'host_response_rate',\n",
              "       'host_acceptance_rate', 'host_is_superhost', 'host_thumbnail_url',\n",
              "       'host_picture_url', 'host_neighbourhood', 'host_listings_count',\n",
              "       'host_total_listings_count', 'host_verifications',\n",
              "       'host_has_profile_pic', 'host_identity_verified', 'street',\n",
              "       'neighbourhood', 'neighbourhood_cleansed',\n",
              "       'neighbourhood_group_cleansed', 'city', 'state', 'zipcode', 'market',\n",
              "       'smart_location', 'country_code', 'country', 'latitude', 'longitude',\n",
              "       'is_location_exact', 'property_type', 'room_type', 'accommodates',\n",
              "       'bathrooms', 'bedrooms', 'beds', 'bed_type', 'amenities', 'square_feet',\n",
              "       'price', 'weekly_price', 'monthly_price', 'security_deposit',\n",
              "       'cleaning_fee', 'guests_included', 'extra_people', 'minimum_nights',\n",
              "       'maximum_nights', 'minimum_minimum_nights', 'maximum_minimum_nights',\n",
              "       'minimum_maximum_nights', 'maximum_maximum_nights',\n",
              "       'minimum_nights_avg_ntm', 'maximum_nights_avg_ntm', 'calendar_updated',\n",
              "       'has_availability', 'availability_30', 'availability_60',\n",
              "       'availability_90', 'availability_365', 'calendar_last_scraped',\n",
              "       'number_of_reviews', 'number_of_reviews_ltm', 'first_review',\n",
              "       'last_review', 'review_scores_rating', 'review_scores_accuracy',\n",
              "       'review_scores_cleanliness', 'review_scores_checkin',\n",
              "       'review_scores_communication', 'review_scores_location',\n",
              "       'review_scores_value', 'requires_license', 'license',\n",
              "       'jurisdiction_names', 'instant_bookable', 'is_business_travel_ready',\n",
              "       'cancellation_policy', 'require_guest_profile_picture',\n",
              "       'require_guest_phone_verification', 'calculated_host_listings_count',\n",
              "       'calculated_host_listings_count_entire_homes',\n",
              "       'calculated_host_listings_count_private_rooms',\n",
              "       'calculated_host_listings_count_shared_rooms', 'reviews_per_month',\n",
              "       'test', 'name_clean', 'summary_clean', 'space_clean',\n",
              "       'description_clean', 'neighborhood_overview_clean', 'notes_clean',\n",
              "       'transit_clean', 'access_clean', 'interaction_clean',\n",
              "       'house_rules_clean', 'neighbourhood_cleansed_clean',\n",
              "       'cancellation_policy_clean', 'text_combined'],\n",
              "      dtype='object')"
            ]
          },
          "metadata": {
            "tags": []
          },
          "execution_count": 61
        }
      ]
    },
    {
      "cell_type": "code",
      "metadata": {
        "id": "yFYx6VrRLZCs",
        "outputId": "f555463f-6576-4b70-e2b7-5718b4354651",
        "colab": {
          "base_uri": "https://localhost:8080/",
          "height": 119
        }
      },
      "source": [
        "sfbnb_df['experiences_offered'].head()"
      ],
      "execution_count": 62,
      "outputs": [
        {
          "output_type": "execute_result",
          "data": {
            "text/plain": [
              "0    none\n",
              "1    none\n",
              "2    none\n",
              "3    none\n",
              "4    none\n",
              "Name: experiences_offered, dtype: object"
            ]
          },
          "metadata": {
            "tags": []
          },
          "execution_count": 62
        }
      ]
    },
    {
      "cell_type": "code",
      "metadata": {
        "id": "2UAEkiSfLfY0",
        "outputId": "c12a7958-7dfa-42be-fea5-14ee645c5f91",
        "colab": {
          "base_uri": "https://localhost:8080/",
          "height": 34
        }
      },
      "source": [
        "sfbnb_df.shape"
      ],
      "execution_count": 63,
      "outputs": [
        {
          "output_type": "execute_result",
          "data": {
            "text/plain": [
              "(8111, 120)"
            ]
          },
          "metadata": {
            "tags": []
          },
          "execution_count": 63
        }
      ]
    },
    {
      "cell_type": "code",
      "metadata": {
        "id": "DMkutksg7e8n"
      },
      "source": [
        "X_train = sfbnb_df[\"text_combined\"][:6000]\n",
        "y_train = sfbnb_df[\"price\"][:6000]\n",
        "\n",
        "X_test = sfbnb_df[\"text_combined\"][6000:]\n",
        "y_test = sfbnb_df[\"price\"][6000:]\n",
        "\n"
      ],
      "execution_count": 72,
      "outputs": []
    },
    {
      "cell_type": "code",
      "metadata": {
        "id": "ir-x1MXGHCyf"
      },
      "source": [
        "sfbnb_df[\"price\"] = sfbnb_df[\"price\"].str.replace('$', '')\n"
      ],
      "execution_count": 84,
      "outputs": []
    },
    {
      "cell_type": "code",
      "metadata": {
        "id": "e61i60fkI3rZ"
      },
      "source": [
        "sfbnb_df[\"price\"] = sfbnb_df[\"price\"].str.replace(',', '')"
      ],
      "execution_count": 89,
      "outputs": []
    },
    {
      "cell_type": "code",
      "metadata": {
        "id": "ZHwYjCTZIWbn"
      },
      "source": [
        "sfbnb_df[\"price\"] = sfbnb_df[\"price\"].astype(\"float\")"
      ],
      "execution_count": 90,
      "outputs": []
    },
    {
      "cell_type": "code",
      "metadata": {
        "id": "iY206H1GFBm-",
        "outputId": "34affa14-3c09-4998-d94e-5badf7a11df5",
        "colab": {
          "base_uri": "https://localhost:8080/",
          "height": 34
        }
      },
      "source": [
        "X_train.shape"
      ],
      "execution_count": 67,
      "outputs": [
        {
          "output_type": "execute_result",
          "data": {
            "text/plain": [
              "(6000,)"
            ]
          },
          "metadata": {
            "tags": []
          },
          "execution_count": 67
        }
      ]
    },
    {
      "cell_type": "code",
      "metadata": {
        "id": "tOAtwcqdCIcx"
      },
      "source": [
        "from sklearn.pipeline import Pipeline\n",
        "from sklearn.pipeline import make_pipeline\n",
        "\n",
        "from sklearn.ensemble import RandomForestClassifier\n",
        "from sklearn.model_selection import GridSearchCV\n",
        "from sklearn.feature_extraction.text import TfidfVectorizer\n",
        "\n",
        "from sklearn.feature_extraction.text import CountVectorizer\n",
        "from sklearn.naive_bayes import MultinomialNB"
      ],
      "execution_count": 65,
      "outputs": []
    }
  ]
}