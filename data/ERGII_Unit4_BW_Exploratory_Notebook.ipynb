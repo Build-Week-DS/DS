{
  "nbformat": 4,
  "nbformat_minor": 0,
  "metadata": {
    "colab": {
      "name": "ERGII_Unit4_BW_Exploratory_Notebook.ipynb",
      "provenance": []
    },
    "kernelspec": {
      "name": "python3",
      "display_name": "Python 3"
    }
  },
  "cells": [
    {
      "cell_type": "code",
      "metadata": {
        "id": "Hw827tlzEYnG"
      },
      "source": [
        "import pandas as pd\n",
        "from pprint import pprint"
      ],
      "execution_count": 1,
      "outputs": []
    },
    {
      "cell_type": "code",
      "metadata": {
        "id": "B6quynaiFPoK"
      },
      "source": [
        ""
      ],
      "execution_count": 1,
      "outputs": []
    },
    {
      "cell_type": "markdown",
      "metadata": {
        "id": "r1dUSRnzEF_1"
      },
      "source": [
        "### Read in the data and take a look"
      ]
    },
    {
      "cell_type": "code",
      "metadata": {
        "id": "wuDc3XqDDfWm"
      },
      "source": [
        "# later I want to upload this to the git and read it in from there\n",
        "url = \"https://raw.githubusercontent.com/Build-Week-DS/DS/notebook_Exploratory/data/listings.csv\"\n",
        "\n",
        "sfbnb_df = pd.read_csv(url)"
      ],
      "execution_count": 2,
      "outputs": []
    },
    {
      "cell_type": "code",
      "metadata": {
        "id": "s_aaSVgIEVwb",
        "outputId": "751f0bd0-3e38-46e2-a189-2eb3b729be26",
        "colab": {
          "base_uri": "https://localhost:8080/",
          "height": 664
        }
      },
      "source": [
        "sfbnb_df.head()"
      ],
      "execution_count": 3,
      "outputs": [
        {
          "output_type": "execute_result",
          "data": {
            "text/html": [
              "<div>\n",
              "<style scoped>\n",
              "    .dataframe tbody tr th:only-of-type {\n",
              "        vertical-align: middle;\n",
              "    }\n",
              "\n",
              "    .dataframe tbody tr th {\n",
              "        vertical-align: top;\n",
              "    }\n",
              "\n",
              "    .dataframe thead th {\n",
              "        text-align: right;\n",
              "    }\n",
              "</style>\n",
              "<table border=\"1\" class=\"dataframe\">\n",
              "  <thead>\n",
              "    <tr style=\"text-align: right;\">\n",
              "      <th></th>\n",
              "      <th>id</th>\n",
              "      <th>listing_url</th>\n",
              "      <th>scrape_id</th>\n",
              "      <th>last_scraped</th>\n",
              "      <th>name</th>\n",
              "      <th>summary</th>\n",
              "      <th>space</th>\n",
              "      <th>description</th>\n",
              "      <th>experiences_offered</th>\n",
              "      <th>neighborhood_overview</th>\n",
              "      <th>notes</th>\n",
              "      <th>transit</th>\n",
              "      <th>access</th>\n",
              "      <th>interaction</th>\n",
              "      <th>house_rules</th>\n",
              "      <th>thumbnail_url</th>\n",
              "      <th>medium_url</th>\n",
              "      <th>picture_url</th>\n",
              "      <th>xl_picture_url</th>\n",
              "      <th>host_id</th>\n",
              "      <th>host_url</th>\n",
              "      <th>host_name</th>\n",
              "      <th>host_since</th>\n",
              "      <th>host_location</th>\n",
              "      <th>host_about</th>\n",
              "      <th>host_response_time</th>\n",
              "      <th>host_response_rate</th>\n",
              "      <th>host_acceptance_rate</th>\n",
              "      <th>host_is_superhost</th>\n",
              "      <th>host_thumbnail_url</th>\n",
              "      <th>host_picture_url</th>\n",
              "      <th>host_neighbourhood</th>\n",
              "      <th>host_listings_count</th>\n",
              "      <th>host_total_listings_count</th>\n",
              "      <th>host_verifications</th>\n",
              "      <th>host_has_profile_pic</th>\n",
              "      <th>host_identity_verified</th>\n",
              "      <th>street</th>\n",
              "      <th>neighbourhood</th>\n",
              "      <th>neighbourhood_cleansed</th>\n",
              "      <th>...</th>\n",
              "      <th>extra_people</th>\n",
              "      <th>minimum_nights</th>\n",
              "      <th>maximum_nights</th>\n",
              "      <th>minimum_minimum_nights</th>\n",
              "      <th>maximum_minimum_nights</th>\n",
              "      <th>minimum_maximum_nights</th>\n",
              "      <th>maximum_maximum_nights</th>\n",
              "      <th>minimum_nights_avg_ntm</th>\n",
              "      <th>maximum_nights_avg_ntm</th>\n",
              "      <th>calendar_updated</th>\n",
              "      <th>has_availability</th>\n",
              "      <th>availability_30</th>\n",
              "      <th>availability_60</th>\n",
              "      <th>availability_90</th>\n",
              "      <th>availability_365</th>\n",
              "      <th>calendar_last_scraped</th>\n",
              "      <th>number_of_reviews</th>\n",
              "      <th>number_of_reviews_ltm</th>\n",
              "      <th>first_review</th>\n",
              "      <th>last_review</th>\n",
              "      <th>review_scores_rating</th>\n",
              "      <th>review_scores_accuracy</th>\n",
              "      <th>review_scores_cleanliness</th>\n",
              "      <th>review_scores_checkin</th>\n",
              "      <th>review_scores_communication</th>\n",
              "      <th>review_scores_location</th>\n",
              "      <th>review_scores_value</th>\n",
              "      <th>requires_license</th>\n",
              "      <th>license</th>\n",
              "      <th>jurisdiction_names</th>\n",
              "      <th>instant_bookable</th>\n",
              "      <th>is_business_travel_ready</th>\n",
              "      <th>cancellation_policy</th>\n",
              "      <th>require_guest_profile_picture</th>\n",
              "      <th>require_guest_phone_verification</th>\n",
              "      <th>calculated_host_listings_count</th>\n",
              "      <th>calculated_host_listings_count_entire_homes</th>\n",
              "      <th>calculated_host_listings_count_private_rooms</th>\n",
              "      <th>calculated_host_listings_count_shared_rooms</th>\n",
              "      <th>reviews_per_month</th>\n",
              "    </tr>\n",
              "  </thead>\n",
              "  <tbody>\n",
              "    <tr>\n",
              "      <th>0</th>\n",
              "      <td>958</td>\n",
              "      <td>https://www.airbnb.com/rooms/958</td>\n",
              "      <td>2.019100e+13</td>\n",
              "      <td>10/14/19</td>\n",
              "      <td>Bright, Modern Garden Unit - 1BR/1B</td>\n",
              "      <td>New update: the house next door is under const...</td>\n",
              "      <td>Newly remodeled, modern, and bright garden uni...</td>\n",
              "      <td>New update: the house next door is under const...</td>\n",
              "      <td>none</td>\n",
              "      <td>*Quiet cul de sac in friendly neighborhood *St...</td>\n",
              "      <td>Due to the fact that we have children and a do...</td>\n",
              "      <td>*Public Transportation is 1/2 block away.  *Ce...</td>\n",
              "      <td>*Full access to patio and backyard (shared wit...</td>\n",
              "      <td>A family of 4 lives upstairs with their dog. N...</td>\n",
              "      <td>* No Pets - even visiting guests for a short t...</td>\n",
              "      <td>NaN</td>\n",
              "      <td>NaN</td>\n",
              "      <td>https://a0.muscache.com/im/pictures/b7c2a199-4...</td>\n",
              "      <td>NaN</td>\n",
              "      <td>1169</td>\n",
              "      <td>https://www.airbnb.com/users/show/1169</td>\n",
              "      <td>Holly</td>\n",
              "      <td>7/31/08</td>\n",
              "      <td>San Francisco, California, United States</td>\n",
              "      <td>We are a family with 2 boys born in 2009 and 2...</td>\n",
              "      <td>within a day</td>\n",
              "      <td>100%</td>\n",
              "      <td>NaN</td>\n",
              "      <td>t</td>\n",
              "      <td>https://a0.muscache.com/im/pictures/efdad96a-3...</td>\n",
              "      <td>https://a0.muscache.com/im/pictures/efdad96a-3...</td>\n",
              "      <td>Duboce Triangle</td>\n",
              "      <td>1.0</td>\n",
              "      <td>1.0</td>\n",
              "      <td>['email', 'phone', 'facebook', 'reviews', 'kba']</td>\n",
              "      <td>t</td>\n",
              "      <td>t</td>\n",
              "      <td>San Francisco, CA, United States</td>\n",
              "      <td>Duboce Triangle</td>\n",
              "      <td>Western Addition</td>\n",
              "      <td>...</td>\n",
              "      <td>$25.00</td>\n",
              "      <td>1</td>\n",
              "      <td>30</td>\n",
              "      <td>1</td>\n",
              "      <td>1</td>\n",
              "      <td>30</td>\n",
              "      <td>30</td>\n",
              "      <td>1.0</td>\n",
              "      <td>30.0</td>\n",
              "      <td>2 months ago</td>\n",
              "      <td>t</td>\n",
              "      <td>3</td>\n",
              "      <td>8</td>\n",
              "      <td>16</td>\n",
              "      <td>85</td>\n",
              "      <td>10/14/19</td>\n",
              "      <td>217</td>\n",
              "      <td>52</td>\n",
              "      <td>7/23/09</td>\n",
              "      <td>9/21/19</td>\n",
              "      <td>97.0</td>\n",
              "      <td>10.0</td>\n",
              "      <td>10.0</td>\n",
              "      <td>10.0</td>\n",
              "      <td>10.0</td>\n",
              "      <td>10.0</td>\n",
              "      <td>9.0</td>\n",
              "      <td>t</td>\n",
              "      <td>STR-0001256</td>\n",
              "      <td>{\"SAN FRANCISCO\"}</td>\n",
              "      <td>f</td>\n",
              "      <td>f</td>\n",
              "      <td>moderate</td>\n",
              "      <td>f</td>\n",
              "      <td>f</td>\n",
              "      <td>1</td>\n",
              "      <td>1</td>\n",
              "      <td>0</td>\n",
              "      <td>0</td>\n",
              "      <td>1.74</td>\n",
              "    </tr>\n",
              "    <tr>\n",
              "      <th>1</th>\n",
              "      <td>3850</td>\n",
              "      <td>https://www.airbnb.com/rooms/3850</td>\n",
              "      <td>2.019100e+13</td>\n",
              "      <td>10/14/19</td>\n",
              "      <td>Charming room for two</td>\n",
              "      <td>Your own private room plus access to a shared ...</td>\n",
              "      <td>This room can fit two people. Nobody else will...</td>\n",
              "      <td>Your own private room plus access to a shared ...</td>\n",
              "      <td>none</td>\n",
              "      <td>This is a quiet, safe neighborhood on a substa...</td>\n",
              "      <td>House Rule footnotes: 1.\\tI don’t allow check ...</td>\n",
              "      <td>Public transit service to my house is outstand...</td>\n",
              "      <td>During the hours of 7:00 to 22:00, your access...</td>\n",
              "      <td>I live at the house in my own bedroom, and I w...</td>\n",
              "      <td>Airbnb has no default house rules that hosts c...</td>\n",
              "      <td>NaN</td>\n",
              "      <td>NaN</td>\n",
              "      <td>https://a0.muscache.com/im/pictures/b6e97d2a-1...</td>\n",
              "      <td>NaN</td>\n",
              "      <td>4921</td>\n",
              "      <td>https://www.airbnb.com/users/show/4921</td>\n",
              "      <td>Kevin</td>\n",
              "      <td>12/8/08</td>\n",
              "      <td>San Francisco, California, United States</td>\n",
              "      <td>I am a retired software developer now raising ...</td>\n",
              "      <td>within an hour</td>\n",
              "      <td>100%</td>\n",
              "      <td>NaN</td>\n",
              "      <td>t</td>\n",
              "      <td>https://a0.muscache.com/im/pictures/97d29791-d...</td>\n",
              "      <td>https://a0.muscache.com/im/pictures/97d29791-d...</td>\n",
              "      <td>Inner Sunset</td>\n",
              "      <td>2.0</td>\n",
              "      <td>2.0</td>\n",
              "      <td>['email', 'phone', 'reviews', 'jumio', 'govern...</td>\n",
              "      <td>t</td>\n",
              "      <td>t</td>\n",
              "      <td>San Francisco, CA, United States</td>\n",
              "      <td>Inner Sunset</td>\n",
              "      <td>Inner Sunset</td>\n",
              "      <td>...</td>\n",
              "      <td>$20.00</td>\n",
              "      <td>1</td>\n",
              "      <td>5</td>\n",
              "      <td>1</td>\n",
              "      <td>1</td>\n",
              "      <td>5</td>\n",
              "      <td>5</td>\n",
              "      <td>1.0</td>\n",
              "      <td>5.0</td>\n",
              "      <td>3 days ago</td>\n",
              "      <td>t</td>\n",
              "      <td>5</td>\n",
              "      <td>32</td>\n",
              "      <td>62</td>\n",
              "      <td>62</td>\n",
              "      <td>10/14/19</td>\n",
              "      <td>160</td>\n",
              "      <td>36</td>\n",
              "      <td>7/16/09</td>\n",
              "      <td>9/30/19</td>\n",
              "      <td>94.0</td>\n",
              "      <td>10.0</td>\n",
              "      <td>10.0</td>\n",
              "      <td>10.0</td>\n",
              "      <td>10.0</td>\n",
              "      <td>10.0</td>\n",
              "      <td>10.0</td>\n",
              "      <td>t</td>\n",
              "      <td>STR-0000346</td>\n",
              "      <td>{\"SAN FRANCISCO\"}</td>\n",
              "      <td>f</td>\n",
              "      <td>f</td>\n",
              "      <td>strict_14_with_grace_period</td>\n",
              "      <td>f</td>\n",
              "      <td>f</td>\n",
              "      <td>3</td>\n",
              "      <td>0</td>\n",
              "      <td>3</td>\n",
              "      <td>0</td>\n",
              "      <td>1.28</td>\n",
              "    </tr>\n",
              "    <tr>\n",
              "      <th>2</th>\n",
              "      <td>5858</td>\n",
              "      <td>https://www.airbnb.com/rooms/5858</td>\n",
              "      <td>2.019100e+13</td>\n",
              "      <td>10/14/19</td>\n",
              "      <td>Creative Sanctuary</td>\n",
              "      <td>NaN</td>\n",
              "      <td>We live in a large Victorian house on a quiet ...</td>\n",
              "      <td>We live in a large Victorian house on a quiet ...</td>\n",
              "      <td>none</td>\n",
              "      <td>I love how our neighborhood feels quiet but is...</td>\n",
              "      <td>All the furniture in the house was handmade so...</td>\n",
              "      <td>The train is two blocks away and you can stop ...</td>\n",
              "      <td>Our deck, garden, gourmet kitchen and extensiv...</td>\n",
              "      <td>NaN</td>\n",
              "      <td>Please respect the house, the art work, the fu...</td>\n",
              "      <td>NaN</td>\n",
              "      <td>NaN</td>\n",
              "      <td>https://a0.muscache.com/im/pictures/17714/3a7a...</td>\n",
              "      <td>NaN</td>\n",
              "      <td>8904</td>\n",
              "      <td>https://www.airbnb.com/users/show/8904</td>\n",
              "      <td>Philip And Tania</td>\n",
              "      <td>3/2/09</td>\n",
              "      <td>San Francisco, California, United States</td>\n",
              "      <td>Philip: English transplant to the Bay Area and...</td>\n",
              "      <td>within a day</td>\n",
              "      <td>80%</td>\n",
              "      <td>NaN</td>\n",
              "      <td>f</td>\n",
              "      <td>https://a0.muscache.com/im/users/8904/profile_...</td>\n",
              "      <td>https://a0.muscache.com/im/users/8904/profile_...</td>\n",
              "      <td>Bernal Heights</td>\n",
              "      <td>2.0</td>\n",
              "      <td>2.0</td>\n",
              "      <td>['email', 'phone', 'reviews', 'kba', 'work_ema...</td>\n",
              "      <td>t</td>\n",
              "      <td>t</td>\n",
              "      <td>San Francisco, CA, United States</td>\n",
              "      <td>Bernal Heights</td>\n",
              "      <td>Bernal Heights</td>\n",
              "      <td>...</td>\n",
              "      <td>$0.00</td>\n",
              "      <td>30</td>\n",
              "      <td>60</td>\n",
              "      <td>30</td>\n",
              "      <td>30</td>\n",
              "      <td>60</td>\n",
              "      <td>60</td>\n",
              "      <td>30.0</td>\n",
              "      <td>60.0</td>\n",
              "      <td>3 weeks ago</td>\n",
              "      <td>t</td>\n",
              "      <td>0</td>\n",
              "      <td>0</td>\n",
              "      <td>0</td>\n",
              "      <td>0</td>\n",
              "      <td>10/14/19</td>\n",
              "      <td>111</td>\n",
              "      <td>0</td>\n",
              "      <td>5/3/09</td>\n",
              "      <td>8/6/17</td>\n",
              "      <td>98.0</td>\n",
              "      <td>10.0</td>\n",
              "      <td>10.0</td>\n",
              "      <td>10.0</td>\n",
              "      <td>10.0</td>\n",
              "      <td>10.0</td>\n",
              "      <td>9.0</td>\n",
              "      <td>t</td>\n",
              "      <td>NaN</td>\n",
              "      <td>{\"SAN FRANCISCO\"}</td>\n",
              "      <td>f</td>\n",
              "      <td>f</td>\n",
              "      <td>strict_14_with_grace_period</td>\n",
              "      <td>f</td>\n",
              "      <td>f</td>\n",
              "      <td>1</td>\n",
              "      <td>1</td>\n",
              "      <td>0</td>\n",
              "      <td>0</td>\n",
              "      <td>0.87</td>\n",
              "    </tr>\n",
              "    <tr>\n",
              "      <th>3</th>\n",
              "      <td>7918</td>\n",
              "      <td>https://www.airbnb.com/rooms/7918</td>\n",
              "      <td>2.019100e+13</td>\n",
              "      <td>10/14/19</td>\n",
              "      <td>A Friendly Room - UCSF/USF - San Francisco</td>\n",
              "      <td>Nice and good public transportation.  7 minute...</td>\n",
              "      <td>Settle down, S.F. resident, student, hospital,...</td>\n",
              "      <td>Nice and good public transportation.  7 minute...</td>\n",
              "      <td>none</td>\n",
              "      <td>Shopping old town, restaurants, McDonald, Whol...</td>\n",
              "      <td>Wi-Fi signal in common areas.   Large eat in k...</td>\n",
              "      <td>N Juda Muni and bus stop.  Street parking.</td>\n",
              "      <td>NaN</td>\n",
              "      <td>NaN</td>\n",
              "      <td>No party, No smoking, not for any kinds of smo...</td>\n",
              "      <td>NaN</td>\n",
              "      <td>NaN</td>\n",
              "      <td>https://a0.muscache.com/im/pictures/26356/8030...</td>\n",
              "      <td>NaN</td>\n",
              "      <td>21994</td>\n",
              "      <td>https://www.airbnb.com/users/show/21994</td>\n",
              "      <td>Aaron</td>\n",
              "      <td>6/17/09</td>\n",
              "      <td>San Francisco, California, United States</td>\n",
              "      <td>7 minutes walk to UCSF hospital &amp; school campu...</td>\n",
              "      <td>within an hour</td>\n",
              "      <td>86%</td>\n",
              "      <td>NaN</td>\n",
              "      <td>t</td>\n",
              "      <td>https://a0.muscache.com/im/users/21994/profile...</td>\n",
              "      <td>https://a0.muscache.com/im/users/21994/profile...</td>\n",
              "      <td>Cole Valley</td>\n",
              "      <td>10.0</td>\n",
              "      <td>10.0</td>\n",
              "      <td>['email', 'phone', 'reviews', 'jumio', 'govern...</td>\n",
              "      <td>t</td>\n",
              "      <td>t</td>\n",
              "      <td>San Francisco, CA, United States</td>\n",
              "      <td>Cole Valley</td>\n",
              "      <td>Haight Ashbury</td>\n",
              "      <td>...</td>\n",
              "      <td>$12.00</td>\n",
              "      <td>32</td>\n",
              "      <td>60</td>\n",
              "      <td>32</td>\n",
              "      <td>32</td>\n",
              "      <td>60</td>\n",
              "      <td>60</td>\n",
              "      <td>32.0</td>\n",
              "      <td>60.0</td>\n",
              "      <td>3 months ago</td>\n",
              "      <td>t</td>\n",
              "      <td>30</td>\n",
              "      <td>60</td>\n",
              "      <td>90</td>\n",
              "      <td>365</td>\n",
              "      <td>10/14/19</td>\n",
              "      <td>18</td>\n",
              "      <td>1</td>\n",
              "      <td>8/31/09</td>\n",
              "      <td>9/10/19</td>\n",
              "      <td>86.0</td>\n",
              "      <td>8.0</td>\n",
              "      <td>8.0</td>\n",
              "      <td>9.0</td>\n",
              "      <td>9.0</td>\n",
              "      <td>9.0</td>\n",
              "      <td>8.0</td>\n",
              "      <td>t</td>\n",
              "      <td>NaN</td>\n",
              "      <td>{\"SAN FRANCISCO\"}</td>\n",
              "      <td>f</td>\n",
              "      <td>f</td>\n",
              "      <td>strict_14_with_grace_period</td>\n",
              "      <td>f</td>\n",
              "      <td>f</td>\n",
              "      <td>9</td>\n",
              "      <td>0</td>\n",
              "      <td>9</td>\n",
              "      <td>0</td>\n",
              "      <td>0.15</td>\n",
              "    </tr>\n",
              "    <tr>\n",
              "      <th>4</th>\n",
              "      <td>8142</td>\n",
              "      <td>https://www.airbnb.com/rooms/8142</td>\n",
              "      <td>2.019100e+13</td>\n",
              "      <td>10/14/19</td>\n",
              "      <td>Friendly Room Apt. Style -UCSF/USF - San Franc...</td>\n",
              "      <td>Nice and good public transportation.  7 minute...</td>\n",
              "      <td>Settle down, S.F. resident, student, hospital,...</td>\n",
              "      <td>Nice and good public transportation.  7 minute...</td>\n",
              "      <td>none</td>\n",
              "      <td>NaN</td>\n",
              "      <td>Wi-Fi signal in common areas.   Large eat in k...</td>\n",
              "      <td>N Juda Muni, Bus and UCSF Shuttle. small shopp...</td>\n",
              "      <td>NaN</td>\n",
              "      <td>NaN</td>\n",
              "      <td>no pet no smoke no party inside the building</td>\n",
              "      <td>NaN</td>\n",
              "      <td>NaN</td>\n",
              "      <td>https://a0.muscache.com/im/pictures/27832/3b1f...</td>\n",
              "      <td>NaN</td>\n",
              "      <td>21994</td>\n",
              "      <td>https://www.airbnb.com/users/show/21994</td>\n",
              "      <td>Aaron</td>\n",
              "      <td>6/17/09</td>\n",
              "      <td>San Francisco, California, United States</td>\n",
              "      <td>7 minutes walk to UCSF hospital &amp; school campu...</td>\n",
              "      <td>within an hour</td>\n",
              "      <td>86%</td>\n",
              "      <td>NaN</td>\n",
              "      <td>t</td>\n",
              "      <td>https://a0.muscache.com/im/users/21994/profile...</td>\n",
              "      <td>https://a0.muscache.com/im/users/21994/profile...</td>\n",
              "      <td>Cole Valley</td>\n",
              "      <td>10.0</td>\n",
              "      <td>10.0</td>\n",
              "      <td>['email', 'phone', 'reviews', 'jumio', 'govern...</td>\n",
              "      <td>t</td>\n",
              "      <td>t</td>\n",
              "      <td>San Francisco, CA, United States</td>\n",
              "      <td>Cole Valley</td>\n",
              "      <td>Haight Ashbury</td>\n",
              "      <td>...</td>\n",
              "      <td>$12.00</td>\n",
              "      <td>32</td>\n",
              "      <td>90</td>\n",
              "      <td>32</td>\n",
              "      <td>32</td>\n",
              "      <td>90</td>\n",
              "      <td>90</td>\n",
              "      <td>32.0</td>\n",
              "      <td>90.0</td>\n",
              "      <td>3 months ago</td>\n",
              "      <td>t</td>\n",
              "      <td>30</td>\n",
              "      <td>60</td>\n",
              "      <td>90</td>\n",
              "      <td>365</td>\n",
              "      <td>10/14/19</td>\n",
              "      <td>8</td>\n",
              "      <td>0</td>\n",
              "      <td>9/8/14</td>\n",
              "      <td>9/12/18</td>\n",
              "      <td>93.0</td>\n",
              "      <td>9.0</td>\n",
              "      <td>9.0</td>\n",
              "      <td>10.0</td>\n",
              "      <td>10.0</td>\n",
              "      <td>9.0</td>\n",
              "      <td>9.0</td>\n",
              "      <td>t</td>\n",
              "      <td>NaN</td>\n",
              "      <td>{\"SAN FRANCISCO\"}</td>\n",
              "      <td>f</td>\n",
              "      <td>f</td>\n",
              "      <td>strict_14_with_grace_period</td>\n",
              "      <td>f</td>\n",
              "      <td>f</td>\n",
              "      <td>9</td>\n",
              "      <td>0</td>\n",
              "      <td>9</td>\n",
              "      <td>0</td>\n",
              "      <td>0.13</td>\n",
              "    </tr>\n",
              "  </tbody>\n",
              "</table>\n",
              "<p>5 rows × 106 columns</p>\n",
              "</div>"
            ],
            "text/plain": [
              "     id  ... reviews_per_month\n",
              "0   958  ...              1.74\n",
              "1  3850  ...              1.28\n",
              "2  5858  ...              0.87\n",
              "3  7918  ...              0.15\n",
              "4  8142  ...              0.13\n",
              "\n",
              "[5 rows x 106 columns]"
            ]
          },
          "metadata": {
            "tags": []
          },
          "execution_count": 3
        }
      ]
    },
    {
      "cell_type": "code",
      "metadata": {
        "id": "5WT4gJfPEiOy",
        "outputId": "f9cd50bf-0310-44f5-9909-8770f2c46c21",
        "colab": {
          "base_uri": "https://localhost:8080/",
          "height": 101
        }
      },
      "source": [
        "sfbnb_df.info()"
      ],
      "execution_count": 4,
      "outputs": [
        {
          "output_type": "stream",
          "text": [
            "<class 'pandas.core.frame.DataFrame'>\n",
            "RangeIndex: 8111 entries, 0 to 8110\n",
            "Columns: 106 entries, id to reviews_per_month\n",
            "dtypes: float64(24), int64(20), object(62)\n",
            "memory usage: 6.6+ MB\n"
          ],
          "name": "stdout"
        }
      ]
    },
    {
      "cell_type": "code",
      "metadata": {
        "id": "HwIfj_s3E2VP",
        "outputId": "d55532af-0b4c-479c-a6d3-445062c7dafa",
        "colab": {
          "base_uri": "https://localhost:8080/",
          "height": 34
        }
      },
      "source": [
        "sfbnb_df.shape"
      ],
      "execution_count": 5,
      "outputs": [
        {
          "output_type": "execute_result",
          "data": {
            "text/plain": [
              "(8111, 106)"
            ]
          },
          "metadata": {
            "tags": []
          },
          "execution_count": 5
        }
      ]
    },
    {
      "cell_type": "code",
      "metadata": {
        "id": "CzOzUkVkE3_H",
        "outputId": "23e4dd23-eaac-4bd0-cd99-ddfa0119643d",
        "colab": {
          "base_uri": "https://localhost:8080/",
          "height": 304
        }
      },
      "source": [
        "sfbnb_df.describe()"
      ],
      "execution_count": 6,
      "outputs": [
        {
          "output_type": "execute_result",
          "data": {
            "text/html": [
              "<div>\n",
              "<style scoped>\n",
              "    .dataframe tbody tr th:only-of-type {\n",
              "        vertical-align: middle;\n",
              "    }\n",
              "\n",
              "    .dataframe tbody tr th {\n",
              "        vertical-align: top;\n",
              "    }\n",
              "\n",
              "    .dataframe thead th {\n",
              "        text-align: right;\n",
              "    }\n",
              "</style>\n",
              "<table border=\"1\" class=\"dataframe\">\n",
              "  <thead>\n",
              "    <tr style=\"text-align: right;\">\n",
              "      <th></th>\n",
              "      <th>id</th>\n",
              "      <th>scrape_id</th>\n",
              "      <th>thumbnail_url</th>\n",
              "      <th>medium_url</th>\n",
              "      <th>xl_picture_url</th>\n",
              "      <th>host_id</th>\n",
              "      <th>host_acceptance_rate</th>\n",
              "      <th>host_listings_count</th>\n",
              "      <th>host_total_listings_count</th>\n",
              "      <th>neighbourhood_group_cleansed</th>\n",
              "      <th>latitude</th>\n",
              "      <th>longitude</th>\n",
              "      <th>accommodates</th>\n",
              "      <th>bathrooms</th>\n",
              "      <th>bedrooms</th>\n",
              "      <th>beds</th>\n",
              "      <th>square_feet</th>\n",
              "      <th>guests_included</th>\n",
              "      <th>minimum_nights</th>\n",
              "      <th>maximum_nights</th>\n",
              "      <th>minimum_minimum_nights</th>\n",
              "      <th>maximum_minimum_nights</th>\n",
              "      <th>minimum_maximum_nights</th>\n",
              "      <th>maximum_maximum_nights</th>\n",
              "      <th>minimum_nights_avg_ntm</th>\n",
              "      <th>maximum_nights_avg_ntm</th>\n",
              "      <th>availability_30</th>\n",
              "      <th>availability_60</th>\n",
              "      <th>availability_90</th>\n",
              "      <th>availability_365</th>\n",
              "      <th>number_of_reviews</th>\n",
              "      <th>number_of_reviews_ltm</th>\n",
              "      <th>review_scores_rating</th>\n",
              "      <th>review_scores_accuracy</th>\n",
              "      <th>review_scores_cleanliness</th>\n",
              "      <th>review_scores_checkin</th>\n",
              "      <th>review_scores_communication</th>\n",
              "      <th>review_scores_location</th>\n",
              "      <th>review_scores_value</th>\n",
              "      <th>calculated_host_listings_count</th>\n",
              "      <th>calculated_host_listings_count_entire_homes</th>\n",
              "      <th>calculated_host_listings_count_private_rooms</th>\n",
              "      <th>calculated_host_listings_count_shared_rooms</th>\n",
              "      <th>reviews_per_month</th>\n",
              "    </tr>\n",
              "  </thead>\n",
              "  <tbody>\n",
              "    <tr>\n",
              "      <th>count</th>\n",
              "      <td>8.111000e+03</td>\n",
              "      <td>8.111000e+03</td>\n",
              "      <td>0.0</td>\n",
              "      <td>0.0</td>\n",
              "      <td>0.0</td>\n",
              "      <td>8.111000e+03</td>\n",
              "      <td>0.0</td>\n",
              "      <td>8103.000000</td>\n",
              "      <td>8103.000000</td>\n",
              "      <td>0.0</td>\n",
              "      <td>8111.000000</td>\n",
              "      <td>8111.000000</td>\n",
              "      <td>8111.000000</td>\n",
              "      <td>8099.000000</td>\n",
              "      <td>8107.000000</td>\n",
              "      <td>8102.000000</td>\n",
              "      <td>124.000000</td>\n",
              "      <td>8111.000000</td>\n",
              "      <td>8.111000e+03</td>\n",
              "      <td>8.111000e+03</td>\n",
              "      <td>8.111000e+03</td>\n",
              "      <td>8.111000e+03</td>\n",
              "      <td>8.111000e+03</td>\n",
              "      <td>8.111000e+03</td>\n",
              "      <td>8.111000e+03</td>\n",
              "      <td>8.111000e+03</td>\n",
              "      <td>8111.000000</td>\n",
              "      <td>8111.000000</td>\n",
              "      <td>8111.000000</td>\n",
              "      <td>8111.000000</td>\n",
              "      <td>8111.000000</td>\n",
              "      <td>8111.000000</td>\n",
              "      <td>6460.000000</td>\n",
              "      <td>6457.000000</td>\n",
              "      <td>6457.000000</td>\n",
              "      <td>6456.000000</td>\n",
              "      <td>6458.000000</td>\n",
              "      <td>6456.000000</td>\n",
              "      <td>6456.000000</td>\n",
              "      <td>8111.000000</td>\n",
              "      <td>8111.000000</td>\n",
              "      <td>8111.000000</td>\n",
              "      <td>8111.000000</td>\n",
              "      <td>6506.000000</td>\n",
              "    </tr>\n",
              "    <tr>\n",
              "      <th>mean</th>\n",
              "      <td>2.024561e+07</td>\n",
              "      <td>2.019100e+13</td>\n",
              "      <td>NaN</td>\n",
              "      <td>NaN</td>\n",
              "      <td>NaN</td>\n",
              "      <td>6.159690e+07</td>\n",
              "      <td>NaN</td>\n",
              "      <td>90.421079</td>\n",
              "      <td>90.421079</td>\n",
              "      <td>NaN</td>\n",
              "      <td>37.766054</td>\n",
              "      <td>-122.430107</td>\n",
              "      <td>3.160769</td>\n",
              "      <td>1.395975</td>\n",
              "      <td>1.345874</td>\n",
              "      <td>1.744754</td>\n",
              "      <td>1046.177419</td>\n",
              "      <td>1.718407</td>\n",
              "      <td>1.234526e+04</td>\n",
              "      <td>1.284597e+04</td>\n",
              "      <td>1.234509e+04</td>\n",
              "      <td>1.235125e+04</td>\n",
              "      <td>2.775902e+05</td>\n",
              "      <td>2.775928e+05</td>\n",
              "      <td>1.235001e+04</td>\n",
              "      <td>2.775923e+05</td>\n",
              "      <td>9.255825</td>\n",
              "      <td>22.885341</td>\n",
              "      <td>39.619529</td>\n",
              "      <td>159.278881</td>\n",
              "      <td>45.203181</td>\n",
              "      <td>13.712736</td>\n",
              "      <td>95.421517</td>\n",
              "      <td>9.752207</td>\n",
              "      <td>9.603686</td>\n",
              "      <td>9.847584</td>\n",
              "      <td>9.817745</td>\n",
              "      <td>9.682776</td>\n",
              "      <td>9.375155</td>\n",
              "      <td>22.329799</td>\n",
              "      <td>18.201085</td>\n",
              "      <td>2.910985</td>\n",
              "      <td>0.496979</td>\n",
              "      <td>1.873298</td>\n",
              "    </tr>\n",
              "    <tr>\n",
              "      <th>std</th>\n",
              "      <td>1.228565e+07</td>\n",
              "      <td>0.000000e+00</td>\n",
              "      <td>NaN</td>\n",
              "      <td>NaN</td>\n",
              "      <td>NaN</td>\n",
              "      <td>8.017417e+07</td>\n",
              "      <td>NaN</td>\n",
              "      <td>324.526784</td>\n",
              "      <td>324.526784</td>\n",
              "      <td>NaN</td>\n",
              "      <td>0.022937</td>\n",
              "      <td>0.026967</td>\n",
              "      <td>1.896988</td>\n",
              "      <td>0.923213</td>\n",
              "      <td>0.925298</td>\n",
              "      <td>1.158799</td>\n",
              "      <td>827.297727</td>\n",
              "      <td>1.334492</td>\n",
              "      <td>1.110357e+06</td>\n",
              "      <td>1.110352e+06</td>\n",
              "      <td>1.110357e+06</td>\n",
              "      <td>1.110357e+06</td>\n",
              "      <td>2.387044e+07</td>\n",
              "      <td>2.387044e+07</td>\n",
              "      <td>1.110357e+06</td>\n",
              "      <td>2.387044e+07</td>\n",
              "      <td>10.586687</td>\n",
              "      <td>21.459500</td>\n",
              "      <td>32.125850</td>\n",
              "      <td>134.093744</td>\n",
              "      <td>78.437987</td>\n",
              "      <td>22.523539</td>\n",
              "      <td>7.571031</td>\n",
              "      <td>0.732872</td>\n",
              "      <td>0.839768</td>\n",
              "      <td>0.593539</td>\n",
              "      <td>0.659274</td>\n",
              "      <td>0.715906</td>\n",
              "      <td>0.879174</td>\n",
              "      <td>54.369225</td>\n",
              "      <td>53.333669</td>\n",
              "      <td>6.807334</td>\n",
              "      <td>2.669129</td>\n",
              "      <td>2.096730</td>\n",
              "    </tr>\n",
              "    <tr>\n",
              "      <th>min</th>\n",
              "      <td>9.580000e+02</td>\n",
              "      <td>2.019100e+13</td>\n",
              "      <td>NaN</td>\n",
              "      <td>NaN</td>\n",
              "      <td>NaN</td>\n",
              "      <td>2.800000e+01</td>\n",
              "      <td>NaN</td>\n",
              "      <td>0.000000</td>\n",
              "      <td>0.000000</td>\n",
              "      <td>NaN</td>\n",
              "      <td>37.704630</td>\n",
              "      <td>-122.513060</td>\n",
              "      <td>1.000000</td>\n",
              "      <td>0.000000</td>\n",
              "      <td>0.000000</td>\n",
              "      <td>0.000000</td>\n",
              "      <td>0.000000</td>\n",
              "      <td>1.000000</td>\n",
              "      <td>1.000000e+00</td>\n",
              "      <td>1.000000e+00</td>\n",
              "      <td>1.000000e+00</td>\n",
              "      <td>1.000000e+00</td>\n",
              "      <td>1.000000e+00</td>\n",
              "      <td>1.000000e+00</td>\n",
              "      <td>1.000000e+00</td>\n",
              "      <td>1.000000e+00</td>\n",
              "      <td>0.000000</td>\n",
              "      <td>0.000000</td>\n",
              "      <td>0.000000</td>\n",
              "      <td>0.000000</td>\n",
              "      <td>0.000000</td>\n",
              "      <td>0.000000</td>\n",
              "      <td>20.000000</td>\n",
              "      <td>2.000000</td>\n",
              "      <td>2.000000</td>\n",
              "      <td>2.000000</td>\n",
              "      <td>2.000000</td>\n",
              "      <td>2.000000</td>\n",
              "      <td>2.000000</td>\n",
              "      <td>1.000000</td>\n",
              "      <td>0.000000</td>\n",
              "      <td>0.000000</td>\n",
              "      <td>0.000000</td>\n",
              "      <td>0.010000</td>\n",
              "    </tr>\n",
              "    <tr>\n",
              "      <th>25%</th>\n",
              "      <td>8.905668e+06</td>\n",
              "      <td>2.019100e+13</td>\n",
              "      <td>NaN</td>\n",
              "      <td>NaN</td>\n",
              "      <td>NaN</td>\n",
              "      <td>4.386571e+06</td>\n",
              "      <td>NaN</td>\n",
              "      <td>1.000000</td>\n",
              "      <td>1.000000</td>\n",
              "      <td>NaN</td>\n",
              "      <td>37.751450</td>\n",
              "      <td>-122.442830</td>\n",
              "      <td>2.000000</td>\n",
              "      <td>1.000000</td>\n",
              "      <td>1.000000</td>\n",
              "      <td>1.000000</td>\n",
              "      <td>500.000000</td>\n",
              "      <td>1.000000</td>\n",
              "      <td>2.000000e+00</td>\n",
              "      <td>2.900000e+01</td>\n",
              "      <td>2.000000e+00</td>\n",
              "      <td>2.000000e+00</td>\n",
              "      <td>2.900000e+01</td>\n",
              "      <td>2.900000e+01</td>\n",
              "      <td>2.000000e+00</td>\n",
              "      <td>2.900000e+01</td>\n",
              "      <td>0.000000</td>\n",
              "      <td>0.000000</td>\n",
              "      <td>6.000000</td>\n",
              "      <td>28.000000</td>\n",
              "      <td>1.000000</td>\n",
              "      <td>0.000000</td>\n",
              "      <td>95.000000</td>\n",
              "      <td>10.000000</td>\n",
              "      <td>9.000000</td>\n",
              "      <td>10.000000</td>\n",
              "      <td>10.000000</td>\n",
              "      <td>10.000000</td>\n",
              "      <td>9.000000</td>\n",
              "      <td>1.000000</td>\n",
              "      <td>0.000000</td>\n",
              "      <td>0.000000</td>\n",
              "      <td>0.000000</td>\n",
              "      <td>0.300000</td>\n",
              "    </tr>\n",
              "    <tr>\n",
              "      <th>50%</th>\n",
              "      <td>2.161057e+07</td>\n",
              "      <td>2.019100e+13</td>\n",
              "      <td>NaN</td>\n",
              "      <td>NaN</td>\n",
              "      <td>NaN</td>\n",
              "      <td>2.178983e+07</td>\n",
              "      <td>NaN</td>\n",
              "      <td>2.000000</td>\n",
              "      <td>2.000000</td>\n",
              "      <td>NaN</td>\n",
              "      <td>37.769150</td>\n",
              "      <td>-122.424650</td>\n",
              "      <td>2.000000</td>\n",
              "      <td>1.000000</td>\n",
              "      <td>1.000000</td>\n",
              "      <td>1.000000</td>\n",
              "      <td>851.000000</td>\n",
              "      <td>1.000000</td>\n",
              "      <td>4.000000e+00</td>\n",
              "      <td>1.800000e+02</td>\n",
              "      <td>4.000000e+00</td>\n",
              "      <td>5.000000e+00</td>\n",
              "      <td>1.800000e+02</td>\n",
              "      <td>1.800000e+02</td>\n",
              "      <td>4.000000e+00</td>\n",
              "      <td>1.800000e+02</td>\n",
              "      <td>5.000000</td>\n",
              "      <td>19.000000</td>\n",
              "      <td>38.000000</td>\n",
              "      <td>133.000000</td>\n",
              "      <td>10.000000</td>\n",
              "      <td>2.000000</td>\n",
              "      <td>98.000000</td>\n",
              "      <td>10.000000</td>\n",
              "      <td>10.000000</td>\n",
              "      <td>10.000000</td>\n",
              "      <td>10.000000</td>\n",
              "      <td>10.000000</td>\n",
              "      <td>10.000000</td>\n",
              "      <td>2.000000</td>\n",
              "      <td>1.000000</td>\n",
              "      <td>0.000000</td>\n",
              "      <td>0.000000</td>\n",
              "      <td>1.010000</td>\n",
              "    </tr>\n",
              "    <tr>\n",
              "      <th>75%</th>\n",
              "      <td>3.120025e+07</td>\n",
              "      <td>2.019100e+13</td>\n",
              "      <td>NaN</td>\n",
              "      <td>NaN</td>\n",
              "      <td>NaN</td>\n",
              "      <td>1.000763e+08</td>\n",
              "      <td>NaN</td>\n",
              "      <td>12.000000</td>\n",
              "      <td>12.000000</td>\n",
              "      <td>NaN</td>\n",
              "      <td>37.785670</td>\n",
              "      <td>-122.410615</td>\n",
              "      <td>4.000000</td>\n",
              "      <td>1.500000</td>\n",
              "      <td>2.000000</td>\n",
              "      <td>2.000000</td>\n",
              "      <td>1492.500000</td>\n",
              "      <td>2.000000</td>\n",
              "      <td>3.000000e+01</td>\n",
              "      <td>1.125000e+03</td>\n",
              "      <td>3.000000e+01</td>\n",
              "      <td>3.000000e+01</td>\n",
              "      <td>1.125000e+03</td>\n",
              "      <td>1.125000e+03</td>\n",
              "      <td>3.000000e+01</td>\n",
              "      <td>1.125000e+03</td>\n",
              "      <td>17.000000</td>\n",
              "      <td>42.000000</td>\n",
              "      <td>69.500000</td>\n",
              "      <td>300.000000</td>\n",
              "      <td>54.000000</td>\n",
              "      <td>18.000000</td>\n",
              "      <td>100.000000</td>\n",
              "      <td>10.000000</td>\n",
              "      <td>10.000000</td>\n",
              "      <td>10.000000</td>\n",
              "      <td>10.000000</td>\n",
              "      <td>10.000000</td>\n",
              "      <td>10.000000</td>\n",
              "      <td>10.000000</td>\n",
              "      <td>2.000000</td>\n",
              "      <td>2.000000</td>\n",
              "      <td>0.000000</td>\n",
              "      <td>2.840000</td>\n",
              "    </tr>\n",
              "    <tr>\n",
              "      <th>max</th>\n",
              "      <td>3.935418e+07</td>\n",
              "      <td>2.019100e+13</td>\n",
              "      <td>NaN</td>\n",
              "      <td>NaN</td>\n",
              "      <td>NaN</td>\n",
              "      <td>3.016759e+08</td>\n",
              "      <td>NaN</td>\n",
              "      <td>1735.000000</td>\n",
              "      <td>1735.000000</td>\n",
              "      <td>NaN</td>\n",
              "      <td>37.828790</td>\n",
              "      <td>-122.368570</td>\n",
              "      <td>16.000000</td>\n",
              "      <td>14.000000</td>\n",
              "      <td>14.000000</td>\n",
              "      <td>14.000000</td>\n",
              "      <td>5500.000000</td>\n",
              "      <td>16.000000</td>\n",
              "      <td>1.000000e+08</td>\n",
              "      <td>1.000000e+08</td>\n",
              "      <td>1.000000e+08</td>\n",
              "      <td>1.000000e+08</td>\n",
              "      <td>2.147484e+09</td>\n",
              "      <td>2.147484e+09</td>\n",
              "      <td>1.000000e+08</td>\n",
              "      <td>2.147484e+09</td>\n",
              "      <td>30.000000</td>\n",
              "      <td>60.000000</td>\n",
              "      <td>90.000000</td>\n",
              "      <td>365.000000</td>\n",
              "      <td>757.000000</td>\n",
              "      <td>258.000000</td>\n",
              "      <td>100.000000</td>\n",
              "      <td>10.000000</td>\n",
              "      <td>10.000000</td>\n",
              "      <td>10.000000</td>\n",
              "      <td>10.000000</td>\n",
              "      <td>10.000000</td>\n",
              "      <td>10.000000</td>\n",
              "      <td>248.000000</td>\n",
              "      <td>248.000000</td>\n",
              "      <td>39.000000</td>\n",
              "      <td>26.000000</td>\n",
              "      <td>21.190000</td>\n",
              "    </tr>\n",
              "  </tbody>\n",
              "</table>\n",
              "</div>"
            ],
            "text/plain": [
              "                 id  ...  reviews_per_month\n",
              "count  8.111000e+03  ...        6506.000000\n",
              "mean   2.024561e+07  ...           1.873298\n",
              "std    1.228565e+07  ...           2.096730\n",
              "min    9.580000e+02  ...           0.010000\n",
              "25%    8.905668e+06  ...           0.300000\n",
              "50%    2.161057e+07  ...           1.010000\n",
              "75%    3.120025e+07  ...           2.840000\n",
              "max    3.935418e+07  ...          21.190000\n",
              "\n",
              "[8 rows x 44 columns]"
            ]
          },
          "metadata": {
            "tags": []
          },
          "execution_count": 6
        }
      ]
    },
    {
      "cell_type": "code",
      "metadata": {
        "id": "DL03c4szF6Ba"
      },
      "source": [
        "# get rid of normal col, row, list truncation\n",
        "\n",
        "pd.set_option('max_columns', None)\n",
        "pd.set_option(\"max_rows\", None)\n",
        "pd.set_option(\"max_seq_item\", None)"
      ],
      "execution_count": 7,
      "outputs": []
    },
    {
      "cell_type": "code",
      "metadata": {
        "id": "BXzfhr1XE-fF",
        "outputId": "e679c762-5a17-4253-db88-8d7b0ea1cda9",
        "colab": {
          "base_uri": "https://localhost:8080/",
          "height": 588
        }
      },
      "source": [
        "sfbnb_df.columns"
      ],
      "execution_count": 8,
      "outputs": [
        {
          "output_type": "execute_result",
          "data": {
            "text/plain": [
              "Index(['id', 'listing_url', 'scrape_id', 'last_scraped', 'name', 'summary',\n",
              "       'space', 'description', 'experiences_offered', 'neighborhood_overview',\n",
              "       'notes', 'transit', 'access', 'interaction', 'house_rules',\n",
              "       'thumbnail_url', 'medium_url', 'picture_url', 'xl_picture_url',\n",
              "       'host_id', 'host_url', 'host_name', 'host_since', 'host_location',\n",
              "       'host_about', 'host_response_time', 'host_response_rate',\n",
              "       'host_acceptance_rate', 'host_is_superhost', 'host_thumbnail_url',\n",
              "       'host_picture_url', 'host_neighbourhood', 'host_listings_count',\n",
              "       'host_total_listings_count', 'host_verifications',\n",
              "       'host_has_profile_pic', 'host_identity_verified', 'street',\n",
              "       'neighbourhood', 'neighbourhood_cleansed',\n",
              "       'neighbourhood_group_cleansed', 'city', 'state', 'zipcode', 'market',\n",
              "       'smart_location', 'country_code', 'country', 'latitude', 'longitude',\n",
              "       'is_location_exact', 'property_type', 'room_type', 'accommodates',\n",
              "       'bathrooms', 'bedrooms', 'beds', 'bed_type', 'amenities', 'square_feet',\n",
              "       'price', 'weekly_price', 'monthly_price', 'security_deposit',\n",
              "       'cleaning_fee', 'guests_included', 'extra_people', 'minimum_nights',\n",
              "       'maximum_nights', 'minimum_minimum_nights', 'maximum_minimum_nights',\n",
              "       'minimum_maximum_nights', 'maximum_maximum_nights',\n",
              "       'minimum_nights_avg_ntm', 'maximum_nights_avg_ntm', 'calendar_updated',\n",
              "       'has_availability', 'availability_30', 'availability_60',\n",
              "       'availability_90', 'availability_365', 'calendar_last_scraped',\n",
              "       'number_of_reviews', 'number_of_reviews_ltm', 'first_review',\n",
              "       'last_review', 'review_scores_rating', 'review_scores_accuracy',\n",
              "       'review_scores_cleanliness', 'review_scores_checkin',\n",
              "       'review_scores_communication', 'review_scores_location',\n",
              "       'review_scores_value', 'requires_license', 'license',\n",
              "       'jurisdiction_names', 'instant_bookable', 'is_business_travel_ready',\n",
              "       'cancellation_policy', 'require_guest_profile_picture',\n",
              "       'require_guest_phone_verification', 'calculated_host_listings_count',\n",
              "       'calculated_host_listings_count_entire_homes',\n",
              "       'calculated_host_listings_count_private_rooms',\n",
              "       'calculated_host_listings_count_shared_rooms', 'reviews_per_month'],\n",
              "      dtype='object')"
            ]
          },
          "metadata": {
            "tags": []
          },
          "execution_count": 8
        }
      ]
    },
    {
      "cell_type": "markdown",
      "metadata": {
        "id": "jV4IdK5wG585"
      },
      "source": [
        " ### looks like Price stuff is: \n",
        " #### 'price', 'weekly_price', 'monthly_price'\n",
        "\n",
        " #### First Question:  Which to use as target?  \n",
        " #### Maybe check the amount of nulls.\n",
        " "
      ]
    },
    {
      "cell_type": "code",
      "metadata": {
        "id": "lJ0c3XHeJ7f-",
        "outputId": "55ce54f0-4352-4256-f9ae-d8cd5be21fcb",
        "colab": {
          "base_uri": "https://localhost:8080/",
          "height": 34
        }
      },
      "source": [
        "# check to make sure each listing is unique\n",
        "sfbnb_df[\"id\"].nunique()"
      ],
      "execution_count": 9,
      "outputs": [
        {
          "output_type": "execute_result",
          "data": {
            "text/plain": [
              "8111"
            ]
          },
          "metadata": {
            "tags": []
          },
          "execution_count": 9
        }
      ]
    },
    {
      "cell_type": "code",
      "metadata": {
        "id": "JweDrK_WKHmJ"
      },
      "source": [
        ""
      ],
      "execution_count": 9,
      "outputs": []
    },
    {
      "cell_type": "code",
      "metadata": {
        "id": "eYICSjv0GAPr",
        "outputId": "4aa16ef5-e75e-41c3-8753-9e37407e5aac",
        "colab": {
          "base_uri": "https://localhost:8080/",
          "height": 370
        }
      },
      "source": [
        "sfbnb_df[\"price\"].head(20)"
      ],
      "execution_count": 10,
      "outputs": [
        {
          "output_type": "execute_result",
          "data": {
            "text/plain": [
              "0     $170.00 \n",
              "1      $99.00 \n",
              "2     $235.00 \n",
              "3      $65.00 \n",
              "4      $65.00 \n",
              "5     $875.00 \n",
              "6     $139.00 \n",
              "7     $135.00 \n",
              "8     $225.00 \n",
              "9     $120.00 \n",
              "10    $177.00 \n",
              "11    $194.00 \n",
              "12    $139.00 \n",
              "13     $85.00 \n",
              "14     $85.00 \n",
              "15     $79.00 \n",
              "16    $122.00 \n",
              "17    $215.00 \n",
              "18    $450.00 \n",
              "19    $107.00 \n",
              "Name: price, dtype: object"
            ]
          },
          "metadata": {
            "tags": []
          },
          "execution_count": 10
        }
      ]
    },
    {
      "cell_type": "code",
      "metadata": {
        "id": "dLokmBT-H5ea",
        "outputId": "e550a060-62b9-48a0-9840-0ca4a03764a9",
        "colab": {
          "base_uri": "https://localhost:8080/",
          "height": 34
        }
      },
      "source": [
        "sfbnb_df[\"price\"].isnull().sum()"
      ],
      "execution_count": 11,
      "outputs": [
        {
          "output_type": "execute_result",
          "data": {
            "text/plain": [
              "0"
            ]
          },
          "metadata": {
            "tags": []
          },
          "execution_count": 11
        }
      ]
    },
    {
      "cell_type": "code",
      "metadata": {
        "id": "gcvVVor_H_Pa"
      },
      "source": [
        ""
      ],
      "execution_count": 11,
      "outputs": []
    },
    {
      "cell_type": "code",
      "metadata": {
        "id": "JJRYO0NnFVQJ",
        "outputId": "51d3c2a5-361a-4f08-d063-181104c68c17",
        "colab": {
          "base_uri": "https://localhost:8080/",
          "height": 370
        }
      },
      "source": [
        "sfbnb_df['weekly_price'].head(20)"
      ],
      "execution_count": 12,
      "outputs": [
        {
          "output_type": "execute_result",
          "data": {
            "text/plain": [
              "0     $1,120.00 \n",
              "1            NaN\n",
              "2     $1,600.00 \n",
              "3       $485.00 \n",
              "4       $490.00 \n",
              "5            NaN\n",
              "6            NaN\n",
              "7     $1,000.00 \n",
              "8     $1,540.00 \n",
              "9     $1,150.00 \n",
              "10           NaN\n",
              "11           NaN\n",
              "12           NaN\n",
              "13      $630.00 \n",
              "14      $630.00 \n",
              "15           NaN\n",
              "16    $1,600.00 \n",
              "17           NaN\n",
              "18    $2,300.00 \n",
              "19           NaN\n",
              "Name: weekly_price, dtype: object"
            ]
          },
          "metadata": {
            "tags": []
          },
          "execution_count": 12
        }
      ]
    },
    {
      "cell_type": "code",
      "metadata": {
        "id": "Cec8AOZoIEr3",
        "outputId": "e7b01efe-f3f6-4d5c-afd9-a72be9f4f26a",
        "colab": {
          "base_uri": "https://localhost:8080/",
          "height": 34
        }
      },
      "source": [
        "sfbnb_df['weekly_price'].isnull().sum()"
      ],
      "execution_count": 13,
      "outputs": [
        {
          "output_type": "execute_result",
          "data": {
            "text/plain": [
              "7042"
            ]
          },
          "metadata": {
            "tags": []
          },
          "execution_count": 13
        }
      ]
    },
    {
      "cell_type": "code",
      "metadata": {
        "id": "hjc55Pc6IHLp"
      },
      "source": [
        ""
      ],
      "execution_count": 13,
      "outputs": []
    },
    {
      "cell_type": "code",
      "metadata": {
        "id": "k9jPmhhTFT6x",
        "outputId": "dfa765b8-ac03-4f8d-cc63-5e8d4f748d76",
        "colab": {
          "base_uri": "https://localhost:8080/",
          "height": 370
        }
      },
      "source": [
        "sfbnb_df['monthly_price'].head(20)"
      ],
      "execution_count": 14,
      "outputs": [
        {
          "output_type": "execute_result",
          "data": {
            "text/plain": [
              "0     $4,200.00 \n",
              "1            NaN\n",
              "2     $5,500.00 \n",
              "3     $1,685.00 \n",
              "4     $1,685.00 \n",
              "5            NaN\n",
              "6     $9,999.00 \n",
              "7     $4,000.00 \n",
              "8     $5,400.00 \n",
              "9     $2,875.00 \n",
              "10           NaN\n",
              "11           NaN\n",
              "12    $4,800.00 \n",
              "13    $1,995.00 \n",
              "14    $1,995.00 \n",
              "15           NaN\n",
              "16    $4,600.00 \n",
              "17    $5,500.00 \n",
              "18    $6,600.00 \n",
              "19    $3,200.00 \n",
              "Name: monthly_price, dtype: object"
            ]
          },
          "metadata": {
            "tags": []
          },
          "execution_count": 14
        }
      ]
    },
    {
      "cell_type": "code",
      "metadata": {
        "id": "M9_fD2lyFHPj",
        "outputId": "9cbbc7c6-d14c-4b0d-d90a-eb9dcce4a20b",
        "colab": {
          "base_uri": "https://localhost:8080/",
          "height": 34
        }
      },
      "source": [
        "sfbnb_df['monthly_price'].isnull().sum()"
      ],
      "execution_count": 15,
      "outputs": [
        {
          "output_type": "execute_result",
          "data": {
            "text/plain": [
              "7067"
            ]
          },
          "metadata": {
            "tags": []
          },
          "execution_count": 15
        }
      ]
    },
    {
      "cell_type": "code",
      "metadata": {
        "id": "ywzLs1q-J8Dv"
      },
      "source": [
        "# change the price from string to float\n",
        "sfbnb_df[\"price\"] = sfbnb_df[\"price\"].str.replace('$', '')\n",
        "sfbnb_df[\"price\"] = sfbnb_df[\"price\"].str.replace(',', '')\n",
        "sfbnb_df[\"price\"] = sfbnb_df[\"price\"].astype(\"float\")"
      ],
      "execution_count": 16,
      "outputs": []
    },
    {
      "cell_type": "code",
      "metadata": {
        "id": "0sh40DTdKMp9",
        "outputId": "c75476cc-0b67-4a86-ffa2-6166bbfb77e9",
        "colab": {
          "base_uri": "https://localhost:8080/",
          "height": 34
        }
      },
      "source": [
        "type(sfbnb_df[\"price\"][0])\n"
      ],
      "execution_count": 17,
      "outputs": [
        {
          "output_type": "execute_result",
          "data": {
            "text/plain": [
              "numpy.float64"
            ]
          },
          "metadata": {
            "tags": []
          },
          "execution_count": 17
        }
      ]
    },
    {
      "cell_type": "code",
      "metadata": {
        "id": "L_oiQkLjKViP"
      },
      "source": [
        ""
      ],
      "execution_count": null,
      "outputs": []
    },
    {
      "cell_type": "code",
      "metadata": {
        "id": "Z0DlNcACKO2H"
      },
      "source": [
        ""
      ],
      "execution_count": null,
      "outputs": []
    },
    {
      "cell_type": "markdown",
      "metadata": {
        "id": "LPTY6w2SIS9k"
      },
      "source": [
        "### Ok based on the amount of nulls I can use the price and drop weekly and monthly.  They have too many nulls."
      ]
    },
    {
      "cell_type": "markdown",
      "metadata": {
        "id": "hPwhkAWFIeY3"
      },
      "source": [
        "### Next Question:  Model!\n",
        "#### 1. NLP Bad of Words type\n",
        "#### 2. Vanilla Linear Regression\n",
        "#### 3. Some kinda fancy Regression Model\n",
        "#### 4. ANN?? (only if we turn it into a classification problem which doesn't see to fit the requirements.)\n"
      ]
    },
    {
      "cell_type": "code",
      "metadata": {
        "id": "GBJcymNBmrEp",
        "outputId": "6777a359-5d14-4dd3-d13e-e6c983e7ed58",
        "colab": {
          "base_uri": "https://localhost:8080/",
          "height": 328
        }
      },
      "source": [
        "sfbnb_df.head(2)"
      ],
      "execution_count": 18,
      "outputs": [
        {
          "output_type": "execute_result",
          "data": {
            "text/html": [
              "<div>\n",
              "<style scoped>\n",
              "    .dataframe tbody tr th:only-of-type {\n",
              "        vertical-align: middle;\n",
              "    }\n",
              "\n",
              "    .dataframe tbody tr th {\n",
              "        vertical-align: top;\n",
              "    }\n",
              "\n",
              "    .dataframe thead th {\n",
              "        text-align: right;\n",
              "    }\n",
              "</style>\n",
              "<table border=\"1\" class=\"dataframe\">\n",
              "  <thead>\n",
              "    <tr style=\"text-align: right;\">\n",
              "      <th></th>\n",
              "      <th>id</th>\n",
              "      <th>listing_url</th>\n",
              "      <th>scrape_id</th>\n",
              "      <th>last_scraped</th>\n",
              "      <th>name</th>\n",
              "      <th>summary</th>\n",
              "      <th>space</th>\n",
              "      <th>description</th>\n",
              "      <th>experiences_offered</th>\n",
              "      <th>neighborhood_overview</th>\n",
              "      <th>notes</th>\n",
              "      <th>transit</th>\n",
              "      <th>access</th>\n",
              "      <th>interaction</th>\n",
              "      <th>house_rules</th>\n",
              "      <th>thumbnail_url</th>\n",
              "      <th>medium_url</th>\n",
              "      <th>picture_url</th>\n",
              "      <th>xl_picture_url</th>\n",
              "      <th>host_id</th>\n",
              "      <th>host_url</th>\n",
              "      <th>host_name</th>\n",
              "      <th>host_since</th>\n",
              "      <th>host_location</th>\n",
              "      <th>host_about</th>\n",
              "      <th>host_response_time</th>\n",
              "      <th>host_response_rate</th>\n",
              "      <th>host_acceptance_rate</th>\n",
              "      <th>host_is_superhost</th>\n",
              "      <th>host_thumbnail_url</th>\n",
              "      <th>host_picture_url</th>\n",
              "      <th>host_neighbourhood</th>\n",
              "      <th>host_listings_count</th>\n",
              "      <th>host_total_listings_count</th>\n",
              "      <th>host_verifications</th>\n",
              "      <th>host_has_profile_pic</th>\n",
              "      <th>host_identity_verified</th>\n",
              "      <th>street</th>\n",
              "      <th>neighbourhood</th>\n",
              "      <th>neighbourhood_cleansed</th>\n",
              "      <th>neighbourhood_group_cleansed</th>\n",
              "      <th>city</th>\n",
              "      <th>state</th>\n",
              "      <th>zipcode</th>\n",
              "      <th>market</th>\n",
              "      <th>smart_location</th>\n",
              "      <th>country_code</th>\n",
              "      <th>country</th>\n",
              "      <th>latitude</th>\n",
              "      <th>longitude</th>\n",
              "      <th>is_location_exact</th>\n",
              "      <th>property_type</th>\n",
              "      <th>room_type</th>\n",
              "      <th>accommodates</th>\n",
              "      <th>bathrooms</th>\n",
              "      <th>bedrooms</th>\n",
              "      <th>beds</th>\n",
              "      <th>bed_type</th>\n",
              "      <th>amenities</th>\n",
              "      <th>square_feet</th>\n",
              "      <th>price</th>\n",
              "      <th>weekly_price</th>\n",
              "      <th>monthly_price</th>\n",
              "      <th>security_deposit</th>\n",
              "      <th>cleaning_fee</th>\n",
              "      <th>guests_included</th>\n",
              "      <th>extra_people</th>\n",
              "      <th>minimum_nights</th>\n",
              "      <th>maximum_nights</th>\n",
              "      <th>minimum_minimum_nights</th>\n",
              "      <th>maximum_minimum_nights</th>\n",
              "      <th>minimum_maximum_nights</th>\n",
              "      <th>maximum_maximum_nights</th>\n",
              "      <th>minimum_nights_avg_ntm</th>\n",
              "      <th>maximum_nights_avg_ntm</th>\n",
              "      <th>calendar_updated</th>\n",
              "      <th>has_availability</th>\n",
              "      <th>availability_30</th>\n",
              "      <th>availability_60</th>\n",
              "      <th>availability_90</th>\n",
              "      <th>availability_365</th>\n",
              "      <th>calendar_last_scraped</th>\n",
              "      <th>number_of_reviews</th>\n",
              "      <th>number_of_reviews_ltm</th>\n",
              "      <th>first_review</th>\n",
              "      <th>last_review</th>\n",
              "      <th>review_scores_rating</th>\n",
              "      <th>review_scores_accuracy</th>\n",
              "      <th>review_scores_cleanliness</th>\n",
              "      <th>review_scores_checkin</th>\n",
              "      <th>review_scores_communication</th>\n",
              "      <th>review_scores_location</th>\n",
              "      <th>review_scores_value</th>\n",
              "      <th>requires_license</th>\n",
              "      <th>license</th>\n",
              "      <th>jurisdiction_names</th>\n",
              "      <th>instant_bookable</th>\n",
              "      <th>is_business_travel_ready</th>\n",
              "      <th>cancellation_policy</th>\n",
              "      <th>require_guest_profile_picture</th>\n",
              "      <th>require_guest_phone_verification</th>\n",
              "      <th>calculated_host_listings_count</th>\n",
              "      <th>calculated_host_listings_count_entire_homes</th>\n",
              "      <th>calculated_host_listings_count_private_rooms</th>\n",
              "      <th>calculated_host_listings_count_shared_rooms</th>\n",
              "      <th>reviews_per_month</th>\n",
              "    </tr>\n",
              "  </thead>\n",
              "  <tbody>\n",
              "    <tr>\n",
              "      <th>0</th>\n",
              "      <td>958</td>\n",
              "      <td>https://www.airbnb.com/rooms/958</td>\n",
              "      <td>2.019100e+13</td>\n",
              "      <td>10/14/19</td>\n",
              "      <td>Bright, Modern Garden Unit - 1BR/1B</td>\n",
              "      <td>New update: the house next door is under const...</td>\n",
              "      <td>Newly remodeled, modern, and bright garden uni...</td>\n",
              "      <td>New update: the house next door is under const...</td>\n",
              "      <td>none</td>\n",
              "      <td>*Quiet cul de sac in friendly neighborhood *St...</td>\n",
              "      <td>Due to the fact that we have children and a do...</td>\n",
              "      <td>*Public Transportation is 1/2 block away.  *Ce...</td>\n",
              "      <td>*Full access to patio and backyard (shared wit...</td>\n",
              "      <td>A family of 4 lives upstairs with their dog. N...</td>\n",
              "      <td>* No Pets - even visiting guests for a short t...</td>\n",
              "      <td>NaN</td>\n",
              "      <td>NaN</td>\n",
              "      <td>https://a0.muscache.com/im/pictures/b7c2a199-4...</td>\n",
              "      <td>NaN</td>\n",
              "      <td>1169</td>\n",
              "      <td>https://www.airbnb.com/users/show/1169</td>\n",
              "      <td>Holly</td>\n",
              "      <td>7/31/08</td>\n",
              "      <td>San Francisco, California, United States</td>\n",
              "      <td>We are a family with 2 boys born in 2009 and 2...</td>\n",
              "      <td>within a day</td>\n",
              "      <td>100%</td>\n",
              "      <td>NaN</td>\n",
              "      <td>t</td>\n",
              "      <td>https://a0.muscache.com/im/pictures/efdad96a-3...</td>\n",
              "      <td>https://a0.muscache.com/im/pictures/efdad96a-3...</td>\n",
              "      <td>Duboce Triangle</td>\n",
              "      <td>1.0</td>\n",
              "      <td>1.0</td>\n",
              "      <td>['email', 'phone', 'facebook', 'reviews', 'kba']</td>\n",
              "      <td>t</td>\n",
              "      <td>t</td>\n",
              "      <td>San Francisco, CA, United States</td>\n",
              "      <td>Duboce Triangle</td>\n",
              "      <td>Western Addition</td>\n",
              "      <td>NaN</td>\n",
              "      <td>San Francisco</td>\n",
              "      <td>CA</td>\n",
              "      <td>94117</td>\n",
              "      <td>San Francisco</td>\n",
              "      <td>San Francisco, CA</td>\n",
              "      <td>US</td>\n",
              "      <td>United States</td>\n",
              "      <td>37.76931</td>\n",
              "      <td>-122.43386</td>\n",
              "      <td>t</td>\n",
              "      <td>Apartment</td>\n",
              "      <td>Entire home/apt</td>\n",
              "      <td>3</td>\n",
              "      <td>1.0</td>\n",
              "      <td>1.0</td>\n",
              "      <td>2.0</td>\n",
              "      <td>Real Bed</td>\n",
              "      <td>{TV,\"Cable TV\",Internet,Wifi,Kitchen,\"Pets liv...</td>\n",
              "      <td>NaN</td>\n",
              "      <td>170.0</td>\n",
              "      <td>$1,120.00</td>\n",
              "      <td>$4,200.00</td>\n",
              "      <td>$100.00</td>\n",
              "      <td>$100.00</td>\n",
              "      <td>2</td>\n",
              "      <td>$25.00</td>\n",
              "      <td>1</td>\n",
              "      <td>30</td>\n",
              "      <td>1</td>\n",
              "      <td>1</td>\n",
              "      <td>30</td>\n",
              "      <td>30</td>\n",
              "      <td>1.0</td>\n",
              "      <td>30.0</td>\n",
              "      <td>2 months ago</td>\n",
              "      <td>t</td>\n",
              "      <td>3</td>\n",
              "      <td>8</td>\n",
              "      <td>16</td>\n",
              "      <td>85</td>\n",
              "      <td>10/14/19</td>\n",
              "      <td>217</td>\n",
              "      <td>52</td>\n",
              "      <td>7/23/09</td>\n",
              "      <td>9/21/19</td>\n",
              "      <td>97.0</td>\n",
              "      <td>10.0</td>\n",
              "      <td>10.0</td>\n",
              "      <td>10.0</td>\n",
              "      <td>10.0</td>\n",
              "      <td>10.0</td>\n",
              "      <td>9.0</td>\n",
              "      <td>t</td>\n",
              "      <td>STR-0001256</td>\n",
              "      <td>{\"SAN FRANCISCO\"}</td>\n",
              "      <td>f</td>\n",
              "      <td>f</td>\n",
              "      <td>moderate</td>\n",
              "      <td>f</td>\n",
              "      <td>f</td>\n",
              "      <td>1</td>\n",
              "      <td>1</td>\n",
              "      <td>0</td>\n",
              "      <td>0</td>\n",
              "      <td>1.74</td>\n",
              "    </tr>\n",
              "    <tr>\n",
              "      <th>1</th>\n",
              "      <td>3850</td>\n",
              "      <td>https://www.airbnb.com/rooms/3850</td>\n",
              "      <td>2.019100e+13</td>\n",
              "      <td>10/14/19</td>\n",
              "      <td>Charming room for two</td>\n",
              "      <td>Your own private room plus access to a shared ...</td>\n",
              "      <td>This room can fit two people. Nobody else will...</td>\n",
              "      <td>Your own private room plus access to a shared ...</td>\n",
              "      <td>none</td>\n",
              "      <td>This is a quiet, safe neighborhood on a substa...</td>\n",
              "      <td>House Rule footnotes: 1.\\tI don’t allow check ...</td>\n",
              "      <td>Public transit service to my house is outstand...</td>\n",
              "      <td>During the hours of 7:00 to 22:00, your access...</td>\n",
              "      <td>I live at the house in my own bedroom, and I w...</td>\n",
              "      <td>Airbnb has no default house rules that hosts c...</td>\n",
              "      <td>NaN</td>\n",
              "      <td>NaN</td>\n",
              "      <td>https://a0.muscache.com/im/pictures/b6e97d2a-1...</td>\n",
              "      <td>NaN</td>\n",
              "      <td>4921</td>\n",
              "      <td>https://www.airbnb.com/users/show/4921</td>\n",
              "      <td>Kevin</td>\n",
              "      <td>12/8/08</td>\n",
              "      <td>San Francisco, California, United States</td>\n",
              "      <td>I am a retired software developer now raising ...</td>\n",
              "      <td>within an hour</td>\n",
              "      <td>100%</td>\n",
              "      <td>NaN</td>\n",
              "      <td>t</td>\n",
              "      <td>https://a0.muscache.com/im/pictures/97d29791-d...</td>\n",
              "      <td>https://a0.muscache.com/im/pictures/97d29791-d...</td>\n",
              "      <td>Inner Sunset</td>\n",
              "      <td>2.0</td>\n",
              "      <td>2.0</td>\n",
              "      <td>['email', 'phone', 'reviews', 'jumio', 'govern...</td>\n",
              "      <td>t</td>\n",
              "      <td>t</td>\n",
              "      <td>San Francisco, CA, United States</td>\n",
              "      <td>Inner Sunset</td>\n",
              "      <td>Inner Sunset</td>\n",
              "      <td>NaN</td>\n",
              "      <td>San Francisco</td>\n",
              "      <td>CA</td>\n",
              "      <td>94131</td>\n",
              "      <td>San Francisco</td>\n",
              "      <td>San Francisco, CA</td>\n",
              "      <td>US</td>\n",
              "      <td>United States</td>\n",
              "      <td>37.75402</td>\n",
              "      <td>-122.45805</td>\n",
              "      <td>t</td>\n",
              "      <td>House</td>\n",
              "      <td>Private room</td>\n",
              "      <td>2</td>\n",
              "      <td>1.0</td>\n",
              "      <td>1.0</td>\n",
              "      <td>1.0</td>\n",
              "      <td>Real Bed</td>\n",
              "      <td>{Internet,Wifi,Kitchen,Breakfast,\"Free street ...</td>\n",
              "      <td>NaN</td>\n",
              "      <td>99.0</td>\n",
              "      <td>NaN</td>\n",
              "      <td>NaN</td>\n",
              "      <td>$0.00</td>\n",
              "      <td>$10.00</td>\n",
              "      <td>2</td>\n",
              "      <td>$20.00</td>\n",
              "      <td>1</td>\n",
              "      <td>5</td>\n",
              "      <td>1</td>\n",
              "      <td>1</td>\n",
              "      <td>5</td>\n",
              "      <td>5</td>\n",
              "      <td>1.0</td>\n",
              "      <td>5.0</td>\n",
              "      <td>3 days ago</td>\n",
              "      <td>t</td>\n",
              "      <td>5</td>\n",
              "      <td>32</td>\n",
              "      <td>62</td>\n",
              "      <td>62</td>\n",
              "      <td>10/14/19</td>\n",
              "      <td>160</td>\n",
              "      <td>36</td>\n",
              "      <td>7/16/09</td>\n",
              "      <td>9/30/19</td>\n",
              "      <td>94.0</td>\n",
              "      <td>10.0</td>\n",
              "      <td>10.0</td>\n",
              "      <td>10.0</td>\n",
              "      <td>10.0</td>\n",
              "      <td>10.0</td>\n",
              "      <td>10.0</td>\n",
              "      <td>t</td>\n",
              "      <td>STR-0000346</td>\n",
              "      <td>{\"SAN FRANCISCO\"}</td>\n",
              "      <td>f</td>\n",
              "      <td>f</td>\n",
              "      <td>strict_14_with_grace_period</td>\n",
              "      <td>f</td>\n",
              "      <td>f</td>\n",
              "      <td>3</td>\n",
              "      <td>0</td>\n",
              "      <td>3</td>\n",
              "      <td>0</td>\n",
              "      <td>1.28</td>\n",
              "    </tr>\n",
              "  </tbody>\n",
              "</table>\n",
              "</div>"
            ],
            "text/plain": [
              "     id                        listing_url     scrape_id last_scraped  \\\n",
              "0   958   https://www.airbnb.com/rooms/958  2.019100e+13     10/14/19   \n",
              "1  3850  https://www.airbnb.com/rooms/3850  2.019100e+13     10/14/19   \n",
              "\n",
              "                                  name  \\\n",
              "0  Bright, Modern Garden Unit - 1BR/1B   \n",
              "1                Charming room for two   \n",
              "\n",
              "                                             summary  \\\n",
              "0  New update: the house next door is under const...   \n",
              "1  Your own private room plus access to a shared ...   \n",
              "\n",
              "                                               space  \\\n",
              "0  Newly remodeled, modern, and bright garden uni...   \n",
              "1  This room can fit two people. Nobody else will...   \n",
              "\n",
              "                                         description experiences_offered  \\\n",
              "0  New update: the house next door is under const...                none   \n",
              "1  Your own private room plus access to a shared ...                none   \n",
              "\n",
              "                               neighborhood_overview  \\\n",
              "0  *Quiet cul de sac in friendly neighborhood *St...   \n",
              "1  This is a quiet, safe neighborhood on a substa...   \n",
              "\n",
              "                                               notes  \\\n",
              "0  Due to the fact that we have children and a do...   \n",
              "1  House Rule footnotes: 1.\\tI don’t allow check ...   \n",
              "\n",
              "                                             transit  \\\n",
              "0  *Public Transportation is 1/2 block away.  *Ce...   \n",
              "1  Public transit service to my house is outstand...   \n",
              "\n",
              "                                              access  \\\n",
              "0  *Full access to patio and backyard (shared wit...   \n",
              "1  During the hours of 7:00 to 22:00, your access...   \n",
              "\n",
              "                                         interaction  \\\n",
              "0  A family of 4 lives upstairs with their dog. N...   \n",
              "1  I live at the house in my own bedroom, and I w...   \n",
              "\n",
              "                                         house_rules  thumbnail_url  \\\n",
              "0  * No Pets - even visiting guests for a short t...            NaN   \n",
              "1  Airbnb has no default house rules that hosts c...            NaN   \n",
              "\n",
              "   medium_url                                        picture_url  \\\n",
              "0         NaN  https://a0.muscache.com/im/pictures/b7c2a199-4...   \n",
              "1         NaN  https://a0.muscache.com/im/pictures/b6e97d2a-1...   \n",
              "\n",
              "   xl_picture_url  host_id                                host_url host_name  \\\n",
              "0             NaN     1169  https://www.airbnb.com/users/show/1169     Holly   \n",
              "1             NaN     4921  https://www.airbnb.com/users/show/4921     Kevin   \n",
              "\n",
              "  host_since                             host_location  \\\n",
              "0    7/31/08  San Francisco, California, United States   \n",
              "1    12/8/08  San Francisco, California, United States   \n",
              "\n",
              "                                          host_about host_response_time  \\\n",
              "0  We are a family with 2 boys born in 2009 and 2...       within a day   \n",
              "1  I am a retired software developer now raising ...     within an hour   \n",
              "\n",
              "  host_response_rate  host_acceptance_rate host_is_superhost  \\\n",
              "0               100%                   NaN                 t   \n",
              "1               100%                   NaN                 t   \n",
              "\n",
              "                                  host_thumbnail_url  \\\n",
              "0  https://a0.muscache.com/im/pictures/efdad96a-3...   \n",
              "1  https://a0.muscache.com/im/pictures/97d29791-d...   \n",
              "\n",
              "                                    host_picture_url host_neighbourhood  \\\n",
              "0  https://a0.muscache.com/im/pictures/efdad96a-3...    Duboce Triangle   \n",
              "1  https://a0.muscache.com/im/pictures/97d29791-d...       Inner Sunset   \n",
              "\n",
              "   host_listings_count  host_total_listings_count  \\\n",
              "0                  1.0                        1.0   \n",
              "1                  2.0                        2.0   \n",
              "\n",
              "                                  host_verifications host_has_profile_pic  \\\n",
              "0   ['email', 'phone', 'facebook', 'reviews', 'kba']                    t   \n",
              "1  ['email', 'phone', 'reviews', 'jumio', 'govern...                    t   \n",
              "\n",
              "  host_identity_verified                            street    neighbourhood  \\\n",
              "0                      t  San Francisco, CA, United States  Duboce Triangle   \n",
              "1                      t  San Francisco, CA, United States     Inner Sunset   \n",
              "\n",
              "  neighbourhood_cleansed  neighbourhood_group_cleansed           city state  \\\n",
              "0       Western Addition                           NaN  San Francisco    CA   \n",
              "1           Inner Sunset                           NaN  San Francisco    CA   \n",
              "\n",
              "  zipcode         market     smart_location country_code        country  \\\n",
              "0   94117  San Francisco  San Francisco, CA           US  United States   \n",
              "1   94131  San Francisco  San Francisco, CA           US  United States   \n",
              "\n",
              "   latitude  longitude is_location_exact property_type        room_type  \\\n",
              "0  37.76931 -122.43386                 t     Apartment  Entire home/apt   \n",
              "1  37.75402 -122.45805                 t         House     Private room   \n",
              "\n",
              "   accommodates  bathrooms  bedrooms  beds  bed_type  \\\n",
              "0             3        1.0       1.0   2.0  Real Bed   \n",
              "1             2        1.0       1.0   1.0  Real Bed   \n",
              "\n",
              "                                           amenities  square_feet  price  \\\n",
              "0  {TV,\"Cable TV\",Internet,Wifi,Kitchen,\"Pets liv...          NaN  170.0   \n",
              "1  {Internet,Wifi,Kitchen,Breakfast,\"Free street ...          NaN   99.0   \n",
              "\n",
              "  weekly_price monthly_price security_deposit cleaning_fee  guests_included  \\\n",
              "0   $1,120.00     $4,200.00          $100.00      $100.00                 2   \n",
              "1          NaN           NaN           $0.00       $10.00                 2   \n",
              "\n",
              "  extra_people  minimum_nights  maximum_nights  minimum_minimum_nights  \\\n",
              "0      $25.00                1              30                       1   \n",
              "1      $20.00                1               5                       1   \n",
              "\n",
              "   maximum_minimum_nights  minimum_maximum_nights  maximum_maximum_nights  \\\n",
              "0                       1                      30                      30   \n",
              "1                       1                       5                       5   \n",
              "\n",
              "   minimum_nights_avg_ntm  maximum_nights_avg_ntm calendar_updated  \\\n",
              "0                     1.0                    30.0     2 months ago   \n",
              "1                     1.0                     5.0       3 days ago   \n",
              "\n",
              "  has_availability  availability_30  availability_60  availability_90  \\\n",
              "0                t                3                8               16   \n",
              "1                t                5               32               62   \n",
              "\n",
              "   availability_365 calendar_last_scraped  number_of_reviews  \\\n",
              "0                85              10/14/19                217   \n",
              "1                62              10/14/19                160   \n",
              "\n",
              "   number_of_reviews_ltm first_review last_review  review_scores_rating  \\\n",
              "0                     52      7/23/09     9/21/19                  97.0   \n",
              "1                     36      7/16/09     9/30/19                  94.0   \n",
              "\n",
              "   review_scores_accuracy  review_scores_cleanliness  review_scores_checkin  \\\n",
              "0                    10.0                       10.0                   10.0   \n",
              "1                    10.0                       10.0                   10.0   \n",
              "\n",
              "   review_scores_communication  review_scores_location  review_scores_value  \\\n",
              "0                         10.0                    10.0                  9.0   \n",
              "1                         10.0                    10.0                 10.0   \n",
              "\n",
              "  requires_license      license jurisdiction_names instant_bookable  \\\n",
              "0                t  STR-0001256  {\"SAN FRANCISCO\"}                f   \n",
              "1                t  STR-0000346  {\"SAN FRANCISCO\"}                f   \n",
              "\n",
              "  is_business_travel_ready          cancellation_policy  \\\n",
              "0                        f                     moderate   \n",
              "1                        f  strict_14_with_grace_period   \n",
              "\n",
              "  require_guest_profile_picture require_guest_phone_verification  \\\n",
              "0                             f                                f   \n",
              "1                             f                                f   \n",
              "\n",
              "   calculated_host_listings_count  \\\n",
              "0                               1   \n",
              "1                               3   \n",
              "\n",
              "   calculated_host_listings_count_entire_homes  \\\n",
              "0                                            1   \n",
              "1                                            0   \n",
              "\n",
              "   calculated_host_listings_count_private_rooms  \\\n",
              "0                                             0   \n",
              "1                                             3   \n",
              "\n",
              "   calculated_host_listings_count_shared_rooms  reviews_per_month  \n",
              "0                                            0               1.74  \n",
              "1                                            0               1.28  "
            ]
          },
          "metadata": {
            "tags": []
          },
          "execution_count": 18
        }
      ]
    },
    {
      "cell_type": "code",
      "metadata": {
        "id": "kTtYuyyCsO5O",
        "outputId": "3624425d-30c3-40f6-ac06-6df065059e17",
        "colab": {
          "base_uri": "https://localhost:8080/",
          "height": 134
        }
      },
      "source": [
        "sfbnb_df['cancellation_policy'].value_counts()"
      ],
      "execution_count": 19,
      "outputs": [
        {
          "output_type": "execute_result",
          "data": {
            "text/plain": [
              "strict_14_with_grace_period    3601\n",
              "moderate                       2605\n",
              "flexible                       1735\n",
              "strict                          106\n",
              "super_strict_30                  45\n",
              "super_strict_60                  19\n",
              "Name: cancellation_policy, dtype: int64"
            ]
          },
          "metadata": {
            "tags": []
          },
          "execution_count": 19
        }
      ]
    },
    {
      "cell_type": "code",
      "metadata": {
        "id": "FyEI6OpTsd6Q"
      },
      "source": [
        ""
      ],
      "execution_count": 17,
      "outputs": []
    },
    {
      "cell_type": "code",
      "metadata": {
        "id": "VE88Barhmufy",
        "outputId": "50624265-d89a-4ce3-9c3a-76c8df984278",
        "colab": {
          "base_uri": "https://localhost:8080/",
          "height": 34
        }
      },
      "source": [
        "# check the experiences feature\n",
        "print(sfbnb_df['experiences_offered'][0])"
      ],
      "execution_count": 20,
      "outputs": [
        {
          "output_type": "stream",
          "text": [
            "none\n"
          ],
          "name": "stdout"
        }
      ]
    },
    {
      "cell_type": "code",
      "metadata": {
        "id": "_shdhJmQnbmm"
      },
      "source": [
        "cond_exper = sfbnb_df['experiences_offered'] != \"none\"\n",
        "no_exper = sfbnb_df[cond_exper]"
      ],
      "execution_count": 21,
      "outputs": []
    },
    {
      "cell_type": "code",
      "metadata": {
        "id": "dL1e23efn8q5",
        "outputId": "88e1f008-b24e-4505-cbf8-9279e349da1d",
        "colab": {
          "base_uri": "https://localhost:8080/",
          "height": 34
        }
      },
      "source": [
        "no_exper.shape"
      ],
      "execution_count": 21,
      "outputs": [
        {
          "output_type": "execute_result",
          "data": {
            "text/plain": [
              "(0, 106)"
            ]
          },
          "metadata": {
            "tags": []
          },
          "execution_count": 21
        }
      ]
    },
    {
      "cell_type": "code",
      "metadata": {
        "id": "JfvU_PJkoEHG"
      },
      "source": [
        "# drop the experiences column for sure.  They are all none.  "
      ],
      "execution_count": null,
      "outputs": []
    },
    {
      "cell_type": "code",
      "metadata": {
        "id": "MrFlnFTdrM2y",
        "outputId": "fbcc16c7-a17b-4a3e-c00b-43ce8512e6fd",
        "colab": {
          "base_uri": "https://localhost:8080/",
          "height": 655
        }
      },
      "source": [
        "sfbnb_df['neighbourhood_cleansed'].value_counts()"
      ],
      "execution_count": 22,
      "outputs": [
        {
          "output_type": "execute_result",
          "data": {
            "text/plain": [
              "Mission                  756\n",
              "Downtown/Civic Center    686\n",
              "South of Market          680\n",
              "Western Addition         632\n",
              "Castro/Upper Market      434\n",
              "Haight Ashbury           398\n",
              "Bernal Heights           390\n",
              "Noe Valley               334\n",
              "Nob Hill                 315\n",
              "Outer Sunset             298\n",
              "Potrero Hill             248\n",
              "Inner Richmond           213\n",
              "Bayview                  205\n",
              "Marina                   198\n",
              "Outer Richmond           184\n",
              "Financial District       183\n",
              "Outer Mission            182\n",
              "Excelsior                179\n",
              "Russian Hill             177\n",
              "North Beach              173\n",
              "Inner Sunset             173\n",
              "Pacific Heights          157\n",
              "West of Twin Peaks       136\n",
              "Ocean View               135\n",
              "Parkside                 132\n",
              "Chinatown                119\n",
              "Visitacion Valley         79\n",
              "Twin Peaks                68\n",
              "Lakeshore                 66\n",
              "Glen Park                 65\n",
              "Crocker Amazon            50\n",
              "Seacliff                  22\n",
              "Presidio Heights          21\n",
              "Diamond Heights           17\n",
              "Golden Gate Park           4\n",
              "Presidio                   1\n",
              "Treasure Island/YBI        1\n",
              "Name: neighbourhood_cleansed, dtype: int64"
            ]
          },
          "metadata": {
            "tags": []
          },
          "execution_count": 22
        }
      ]
    },
    {
      "cell_type": "code",
      "metadata": {
        "id": "P6GX88ETrbJD",
        "outputId": "50acebf6-5f6b-400e-86e8-b5b9e006e13b",
        "colab": {
          "base_uri": "https://localhost:8080/",
          "height": 54
        }
      },
      "source": [
        "print(sfbnb_df['amenities'][0]) # amentities is crazy, but text hero might take care of it."
      ],
      "execution_count": 23,
      "outputs": [
        {
          "output_type": "stream",
          "text": [
            "{TV,\"Cable TV\",Internet,Wifi,Kitchen,\"Pets live on this property\",Dog(s),Heating,\"Family/kid friendly\",Washer,Dryer,\"Smoke detector\",\"Carbon monoxide detector\",\"First aid kit\",Essentials,Shampoo,\"24-hour check-in\",Hangers,\"Hair dryer\",Iron,\"Laptop friendly workspace\",\"Self check-in\",Keypad,\"Private entrance\",\"Pack ’n Play/travel crib\",\"Room-darkening shades\",\"Hot water\",Microwave,\"Coffee maker\",Refrigerator,\"Dishes and silverware\",Oven}\n"
          ],
          "name": "stdout"
        }
      ]
    },
    {
      "cell_type": "code",
      "metadata": {
        "id": "hPpwrr1UIRN_"
      },
      "source": [
        "# For a bag of words model I would need to: \n",
        "# let's list all the features with words\n",
        "\n",
        "words_features = ['name', 'summary',\n",
        "       'space', 'description', 'neighborhood_overview',\n",
        "       'notes', 'transit', 'access', 'interaction', 'house_rules',\n",
        "       'neighbourhood_cleansed', 'cancellation_policy']"
      ],
      "execution_count": 22,
      "outputs": []
    },
    {
      "cell_type": "markdown",
      "metadata": {
        "id": "U4pyVDK3q6tD"
      },
      "source": [
        "#### What to do with amenities?  It seems strange to dump into bag of words..."
      ]
    },
    {
      "cell_type": "markdown",
      "metadata": {
        "id": "2EDqc9yOzwdt"
      },
      "source": [
        "### Looks like I have have to eliminate the NaN's before I add all these text features.  What I could do is run them through Text Hero first...."
      ]
    },
    {
      "cell_type": "code",
      "metadata": {
        "id": "OkH31cGyEl1x",
        "outputId": "eb283f02-4f61-42d2-bd85-802bb1cb844c",
        "colab": {
          "base_uri": "https://localhost:8080/",
          "height": 118
        }
      },
      "source": [
        "sfbnb_df[\"test\"] = sfbnb_df[\"name\"]+ \" \" + sfbnb_df[\"summary\"]\n",
        "sfbnb_df[\"test\"].iloc[:5]"
      ],
      "execution_count": 25,
      "outputs": [
        {
          "output_type": "execute_result",
          "data": {
            "text/plain": [
              "0    Bright, Modern Garden Unit - 1BR/1B New update...\n",
              "1    Charming room for two Your own private room pl...\n",
              "2                                                  NaN\n",
              "3    A Friendly Room - UCSF/USF - San Francisco Nic...\n",
              "4    Friendly Room Apt. Style -UCSF/USF - San Franc...\n",
              "Name: test, dtype: object"
            ]
          },
          "metadata": {
            "tags": []
          },
          "execution_count": 25
        }
      ]
    },
    {
      "cell_type": "code",
      "metadata": {
        "id": "0W3Jy-kbzaOF",
        "outputId": "650a3e2f-36ed-4084-bb25-1b5e27424c4a",
        "colab": {
          "base_uri": "https://localhost:8080/",
          "height": 50
        }
      },
      "source": [
        "print(sfbnb_df[\"name\"][2])\n",
        "print(sfbnb_df[\"summary\"][2])"
      ],
      "execution_count": 26,
      "outputs": [
        {
          "output_type": "stream",
          "text": [
            "Creative Sanctuary\n",
            "nan\n"
          ],
          "name": "stdout"
        }
      ]
    },
    {
      "cell_type": "code",
      "metadata": {
        "id": "QahE5SPMzhqr"
      },
      "source": [
        "# print(sfbnb_df[\"name\"][2]+ \" \" + sfbnb_df[\"summary\"][2])\n",
        "# produces error - TypeError: must be str, not float"
      ],
      "execution_count": null,
      "outputs": []
    },
    {
      "cell_type": "code",
      "metadata": {
        "id": "24XPP5YlzNkU"
      },
      "source": [
        "# each row goes through hero.clean(df[\"feature\"])\n",
        "# then add all the cleaned rows.\n",
        "# then I have the option to tf-idf them..."
      ],
      "execution_count": null,
      "outputs": []
    },
    {
      "cell_type": "code",
      "metadata": {
        "id": "HrO5VzfV2cEI",
        "outputId": "988f1f8f-4009-4ac7-899d-54cca81966ba",
        "colab": {
          "base_uri": "https://localhost:8080/",
          "height": 994
        }
      },
      "source": [
        "!pip install texthero"
      ],
      "execution_count": 23,
      "outputs": [
        {
          "output_type": "stream",
          "text": [
            "Collecting texthero\n",
            "  Downloading https://files.pythonhosted.org/packages/1f/5a/a9d33b799fe53011de79d140ad6d86c440a2da1ae8a7b24e851ee2f8bde8/texthero-1.0.9-py3-none-any.whl\n",
            "Requirement already satisfied: wordcloud>=1.5.0 in /usr/local/lib/python3.6/dist-packages (from texthero) (1.5.0)\n",
            "Requirement already satisfied: plotly>=4.2.0 in /usr/local/lib/python3.6/dist-packages (from texthero) (4.4.1)\n",
            "Requirement already satisfied: scikit-learn>=0.22 in /usr/local/lib/python3.6/dist-packages (from texthero) (0.22.2.post1)\n",
            "Requirement already satisfied: spacy>=2.2.2 in /usr/local/lib/python3.6/dist-packages (from texthero) (2.2.4)\n",
            "Requirement already satisfied: matplotlib>=3.1.0 in /usr/local/lib/python3.6/dist-packages (from texthero) (3.2.2)\n",
            "Requirement already satisfied: tqdm>=4.3 in /usr/local/lib/python3.6/dist-packages (from texthero) (4.41.1)\n",
            "Collecting unidecode>=1.1.1\n",
            "\u001b[?25l  Downloading https://files.pythonhosted.org/packages/d0/42/d9edfed04228bacea2d824904cae367ee9efd05e6cce7ceaaedd0b0ad964/Unidecode-1.1.1-py2.py3-none-any.whl (238kB)\n",
            "\u001b[K     |████████████████████████████████| 245kB 6.8MB/s \n",
            "\u001b[?25hRequirement already satisfied: gensim>=3.6.0 in /usr/local/lib/python3.6/dist-packages (from texthero) (3.6.0)\n",
            "Requirement already satisfied: numpy>=1.17 in /usr/local/lib/python3.6/dist-packages (from texthero) (1.18.5)\n",
            "Requirement already satisfied: pandas>=1.0.2 in /usr/local/lib/python3.6/dist-packages (from texthero) (1.1.2)\n",
            "Collecting nltk>=3.3\n",
            "\u001b[?25l  Downloading https://files.pythonhosted.org/packages/92/75/ce35194d8e3022203cca0d2f896dbb88689f9b3fce8e9f9cff942913519d/nltk-3.5.zip (1.4MB)\n",
            "\u001b[K     |████████████████████████████████| 1.4MB 12.1MB/s \n",
            "\u001b[?25hRequirement already satisfied: pillow in /usr/local/lib/python3.6/dist-packages (from wordcloud>=1.5.0->texthero) (7.0.0)\n",
            "Requirement already satisfied: retrying>=1.3.3 in /usr/local/lib/python3.6/dist-packages (from plotly>=4.2.0->texthero) (1.3.3)\n",
            "Requirement already satisfied: six in /usr/local/lib/python3.6/dist-packages (from plotly>=4.2.0->texthero) (1.15.0)\n",
            "Requirement already satisfied: scipy>=0.17.0 in /usr/local/lib/python3.6/dist-packages (from scikit-learn>=0.22->texthero) (1.4.1)\n",
            "Requirement already satisfied: joblib>=0.11 in /usr/local/lib/python3.6/dist-packages (from scikit-learn>=0.22->texthero) (0.16.0)\n",
            "Requirement already satisfied: plac<1.2.0,>=0.9.6 in /usr/local/lib/python3.6/dist-packages (from spacy>=2.2.2->texthero) (1.1.3)\n",
            "Requirement already satisfied: catalogue<1.1.0,>=0.0.7 in /usr/local/lib/python3.6/dist-packages (from spacy>=2.2.2->texthero) (1.0.0)\n",
            "Requirement already satisfied: preshed<3.1.0,>=3.0.2 in /usr/local/lib/python3.6/dist-packages (from spacy>=2.2.2->texthero) (3.0.2)\n",
            "Requirement already satisfied: wasabi<1.1.0,>=0.4.0 in /usr/local/lib/python3.6/dist-packages (from spacy>=2.2.2->texthero) (0.8.0)\n",
            "Requirement already satisfied: murmurhash<1.1.0,>=0.28.0 in /usr/local/lib/python3.6/dist-packages (from spacy>=2.2.2->texthero) (1.0.2)\n",
            "Requirement already satisfied: cymem<2.1.0,>=2.0.2 in /usr/local/lib/python3.6/dist-packages (from spacy>=2.2.2->texthero) (2.0.3)\n",
            "Requirement already satisfied: srsly<1.1.0,>=1.0.2 in /usr/local/lib/python3.6/dist-packages (from spacy>=2.2.2->texthero) (1.0.2)\n",
            "Requirement already satisfied: requests<3.0.0,>=2.13.0 in /usr/local/lib/python3.6/dist-packages (from spacy>=2.2.2->texthero) (2.23.0)\n",
            "Requirement already satisfied: blis<0.5.0,>=0.4.0 in /usr/local/lib/python3.6/dist-packages (from spacy>=2.2.2->texthero) (0.4.1)\n",
            "Requirement already satisfied: thinc==7.4.0 in /usr/local/lib/python3.6/dist-packages (from spacy>=2.2.2->texthero) (7.4.0)\n",
            "Requirement already satisfied: setuptools in /usr/local/lib/python3.6/dist-packages (from spacy>=2.2.2->texthero) (50.3.0)\n",
            "Requirement already satisfied: pyparsing!=2.0.4,!=2.1.2,!=2.1.6,>=2.0.1 in /usr/local/lib/python3.6/dist-packages (from matplotlib>=3.1.0->texthero) (2.4.7)\n",
            "Requirement already satisfied: cycler>=0.10 in /usr/local/lib/python3.6/dist-packages (from matplotlib>=3.1.0->texthero) (0.10.0)\n",
            "Requirement already satisfied: python-dateutil>=2.1 in /usr/local/lib/python3.6/dist-packages (from matplotlib>=3.1.0->texthero) (2.8.1)\n",
            "Requirement already satisfied: kiwisolver>=1.0.1 in /usr/local/lib/python3.6/dist-packages (from matplotlib>=3.1.0->texthero) (1.2.0)\n",
            "Requirement already satisfied: smart-open>=1.2.1 in /usr/local/lib/python3.6/dist-packages (from gensim>=3.6.0->texthero) (2.2.0)\n",
            "Requirement already satisfied: pytz>=2017.2 in /usr/local/lib/python3.6/dist-packages (from pandas>=1.0.2->texthero) (2018.9)\n",
            "Requirement already satisfied: click in /usr/local/lib/python3.6/dist-packages (from nltk>=3.3->texthero) (7.1.2)\n",
            "Requirement already satisfied: regex in /usr/local/lib/python3.6/dist-packages (from nltk>=3.3->texthero) (2019.12.20)\n",
            "Requirement already satisfied: importlib-metadata>=0.20; python_version < \"3.8\" in /usr/local/lib/python3.6/dist-packages (from catalogue<1.1.0,>=0.0.7->spacy>=2.2.2->texthero) (2.0.0)\n",
            "Requirement already satisfied: urllib3!=1.25.0,!=1.25.1,<1.26,>=1.21.1 in /usr/local/lib/python3.6/dist-packages (from requests<3.0.0,>=2.13.0->spacy>=2.2.2->texthero) (1.24.3)\n",
            "Requirement already satisfied: idna<3,>=2.5 in /usr/local/lib/python3.6/dist-packages (from requests<3.0.0,>=2.13.0->spacy>=2.2.2->texthero) (2.10)\n",
            "Requirement already satisfied: chardet<4,>=3.0.2 in /usr/local/lib/python3.6/dist-packages (from requests<3.0.0,>=2.13.0->spacy>=2.2.2->texthero) (3.0.4)\n",
            "Requirement already satisfied: certifi>=2017.4.17 in /usr/local/lib/python3.6/dist-packages (from requests<3.0.0,>=2.13.0->spacy>=2.2.2->texthero) (2020.6.20)\n",
            "Requirement already satisfied: zipp>=0.5 in /usr/local/lib/python3.6/dist-packages (from importlib-metadata>=0.20; python_version < \"3.8\"->catalogue<1.1.0,>=0.0.7->spacy>=2.2.2->texthero) (3.2.0)\n",
            "Building wheels for collected packages: nltk\n",
            "  Building wheel for nltk (setup.py) ... \u001b[?25l\u001b[?25hdone\n",
            "  Created wheel for nltk: filename=nltk-3.5-cp36-none-any.whl size=1434676 sha256=d9e865b3c58b9a6d5481638c3ef68c23c89ae6ac21f429862c889f5062ed5f0c\n",
            "  Stored in directory: /root/.cache/pip/wheels/ae/8c/3f/b1fe0ba04555b08b57ab52ab7f86023639a526d8bc8d384306\n",
            "Successfully built nltk\n",
            "Installing collected packages: unidecode, nltk, texthero\n",
            "  Found existing installation: nltk 3.2.5\n",
            "    Uninstalling nltk-3.2.5:\n",
            "      Successfully uninstalled nltk-3.2.5\n",
            "Successfully installed nltk-3.5 texthero-1.0.9 unidecode-1.1.1\n"
          ],
          "name": "stdout"
        }
      ]
    },
    {
      "cell_type": "code",
      "metadata": {
        "id": "AdQo1ujJ50qj",
        "outputId": "cf245173-fa17-4fe5-e30e-e640858f966b",
        "colab": {
          "base_uri": "https://localhost:8080/",
          "height": 50
        }
      },
      "source": [
        "import texthero as hero"
      ],
      "execution_count": 24,
      "outputs": [
        {
          "output_type": "stream",
          "text": [
            "[nltk_data] Downloading package stopwords to /root/nltk_data...\n",
            "[nltk_data]   Unzipping corpora/stopwords.zip.\n"
          ],
          "name": "stderr"
        }
      ]
    },
    {
      "cell_type": "code",
      "metadata": {
        "id": "vEkGaPoO5Qyy"
      },
      "source": [
        "# test the cleaning for one feature\n",
        "# df['text'] = hero.clean(df['text'])\n",
        "\n",
        "sfbnb_df[\"test\"] = hero.clean(sfbnb_df[\"name\"])\n",
        "sfbnb_df[\"test\"].head()"
      ],
      "execution_count": null,
      "outputs": []
    },
    {
      "cell_type": "code",
      "metadata": {
        "id": "RKouGfS06Clv"
      },
      "source": [
        "# then clean summary and add it to name"
      ],
      "execution_count": null,
      "outputs": []
    },
    {
      "cell_type": "code",
      "metadata": {
        "id": "KD33RJhq5wQg"
      },
      "source": [
        "temp = []\n",
        "temp = hero.clean(sfbnb_df[\"summary\"])\n",
        "sfbnb_df[\"test\"] = sfbnb_df[\"test\"] + \" \" + temp\n",
        "sfbnb_df[\"test\"].head()"
      ],
      "execution_count": null,
      "outputs": []
    },
    {
      "cell_type": "code",
      "metadata": {
        "id": "ye8ZLTkaEwqN"
      },
      "source": [
        "type(list(sfbnb_df[\"summary\"]))"
      ],
      "execution_count": null,
      "outputs": []
    },
    {
      "cell_type": "markdown",
      "metadata": {
        "id": "HRWpSrpvJpJz"
      },
      "source": [
        "## Cleans the text and creates a combined feature ready for vectorizing.  "
      ]
    },
    {
      "cell_type": "code",
      "metadata": {
        "id": "qnJNkCO66n2y"
      },
      "source": [
        "# it worked so write a function to do it. \n",
        "temp = sfbnb_df[\"name\"]\n",
        "for feature in words_features:\n",
        "  sfbnb_df[feature+\"_clean\"] = hero.clean(sfbnb_df[feature])\n",
        "    # df['period'] = df[['Year', 'quarter', ...]].agg('-'.join, axis=1)\n",
        "    \n",
        "sfbnb_df[\"text_combined\"] = sfbnb_df[['name_clean', 'summary_clean', 'space_clean', 'description_clean',\n",
        "       'neighborhood_overview_clean', 'notes_clean', 'transit_clean',\n",
        "       'access_clean', 'interaction_clean', 'house_rules_clean',\n",
        "       'neighbourhood_cleansed_clean', 'cancellation_policy_clean']].agg(' '.join, axis=1)\n"
      ],
      "execution_count": 25,
      "outputs": []
    },
    {
      "cell_type": "code",
      "metadata": {
        "id": "lQdxlMOUHtmw"
      },
      "source": [
        "sfbnb_df.columns"
      ],
      "execution_count": null,
      "outputs": []
    },
    {
      "cell_type": "code",
      "metadata": {
        "id": "boLcI7RBHvuf",
        "outputId": "817cef0b-2c00-4b00-e443-5f9bfc77fa0f",
        "colab": {
          "base_uri": "https://localhost:8080/",
          "height": 118
        }
      },
      "source": [
        "sfbnb_df[\"text_combined\"].head()"
      ],
      "execution_count": 27,
      "outputs": [
        {
          "output_type": "execute_result",
          "data": {
            "text/plain": [
              "0    bright modern garden unit 1br 1b new update ho...\n",
              "1    charming room two private room plus access sha...\n",
              "2    creative sanctuary  live large victorian house...\n",
              "3    friendly room ucsf usf san francisco nice good...\n",
              "4    friendly room apt style ucsf usf san francisco...\n",
              "Name: text_combined, dtype: object"
            ]
          },
          "metadata": {
            "tags": []
          },
          "execution_count": 27
        }
      ]
    },
    {
      "cell_type": "code",
      "metadata": {
        "id": "SeMaeJFRI8CV",
        "outputId": "dc4bc26a-fcd1-46bc-8b67-afea3b342942",
        "colab": {
          "base_uri": "https://localhost:8080/",
          "height": 305
        }
      },
      "source": [
        "sfbnb_df[\"text_combined\"][0]"
      ],
      "execution_count": 28,
      "outputs": [
        {
          "output_type": "execute_result",
          "data": {
            "application/vnd.google.colaboratory.intrinsic+json": {
              "type": "string"
            },
            "text/plain": [
              "'bright modern garden unit 1br 1b new update house next door construction possibility noise 7am 5pm rates discounted time period bright garden unit overlooks grassy backyard area fruit trees native plants oasis big city apartment comfortably fits couple small family located cul de sac street ends lovely duboce park newly remodeled modern bright garden unit historic victorian home new fixtures finishes organic cotton sheets towels zero voc non toxic yolo paint organic fair trade teas fresh local ground coffee local art walls sofa bed queen bed room petite apartment separate room dining kitchen new update house next door construction possibility noise 7am 5pm rates discounted time period bright garden unit overlooks grassy backyard area fruit trees native plants oasis big city apartment comfortably fits couple small family located cul de sac street ends lovely duboce park newly remodeled modern bright garden unit historic victorian home new fixtures finishes organic cotton sheets towels zero voc non toxic yolo paint organic fair trade teas fresh local ground coffee local art walls sofa bed queen bed room petite apartment separate room dining kitchen full access patio backyard shared us dog live upstairs beautiful garden fruit trees native plants lawn washer dryer children toys charcoal grill family lives upstairs quiet cul de sac friendly neighborhood steps away grassy park playgrounds recreational center family friendly neighborhood quaint shops grocery stores restaurants within minute walk due fact children dog early 8am footsteps paws heard apartment place ideal early risers hard sleepers appreciate quiet evenings late mornings public transportation block away centrally located easy access major lines public transportation n judah haight j church fillmore bart parking offered street parking unmetered 9am 8pm restricted two hours per space case residential street parking city wide overnight weekend parking street unrestricted street cleaning happens least times week streets taxis suggested airport trips full access patio backyard shared us dog live upstairs beautiful garden fruit trees native plants lawn washer dryer children toys charcoal grill family lives upstairs dog normally able meet guests like give people privacy mostly leave alone always available anything needed questions need answered pets even visiting guests short time period smokers allowed even smoking premises western addition moderate'"
            ]
          },
          "metadata": {
            "tags": []
          },
          "execution_count": 28
        }
      ]
    },
    {
      "cell_type": "code",
      "metadata": {
        "id": "1QjtUQT0JkXZ"
      },
      "source": [
        ""
      ],
      "execution_count": null,
      "outputs": []
    },
    {
      "cell_type": "markdown",
      "metadata": {
        "id": "tVPqbVzWGItX"
      },
      "source": [
        "### Train/Test Split - using slicing\n",
        "\n",
        "\n",
        "### We should do a shuffle or stratify if we want a more accurate model.\n",
        "### (we should check the mean of the Train and test sets)"
      ]
    },
    {
      "cell_type": "code",
      "metadata": {
        "id": "tR6Vxp5t7d1B"
      },
      "source": [
        "X_train = sfbnb_df[\"text_combined\"][:6000]\n",
        "y_train = sfbnb_df[\"price\"][:6000]\n",
        "X_test = sfbnb_df[\"text_combined\"][6000:]\n",
        "y_test = sfbnb_df[\"price\"][6000:]"
      ],
      "execution_count": 29,
      "outputs": []
    },
    {
      "cell_type": "code",
      "metadata": {
        "id": "Z89kHNA0LiR7"
      },
      "source": [
        "from sklearn.model_selection import GridSearchCV"
      ],
      "execution_count": 36,
      "outputs": []
    },
    {
      "cell_type": "code",
      "metadata": {
        "id": "0ljISW8ql8Ax"
      },
      "source": [
        "# import and instantiate count vectorizer\n",
        "\n",
        "from sklearn.feature_extraction.text import TfidfVectorizer\n",
        "from sklearn.pipeline import Pipeline\n",
        "# from sklearn.pipeline import make_pipeline\n",
        "\n",
        "from sklearn.tree import DecisionTreeRegressor # decision Tree for regression problems\n",
        "\n",
        "# cvect = CountVectorizer()\n",
        "vect = TfidfVectorizer(stop_words='english', ngram_range=(1,2))\n",
        "dtr = DecisionTreeRegressor(criterion=\"mse\", random_state=42)"
      ],
      "execution_count": 33,
      "outputs": []
    },
    {
      "cell_type": "code",
      "metadata": {
        "id": "9XTbchDwlh_G"
      },
      "source": [
        "# Define the Pipeline\n",
        "\n",
        "pipe = Pipeline([\n",
        "                 #Vectorizer\n",
        "                #  (\"cvect\", cvect),\n",
        "                 (\"vect\", vect),\n",
        "                 # Classifier\n",
        "                 (\"dtree\", dtr)\n",
        "])"
      ],
      "execution_count": 34,
      "outputs": []
    },
    {
      "cell_type": "code",
      "metadata": {
        "id": "NAl9ebvjm0GG",
        "outputId": "f4b1df1f-e31e-4a24-f618-6ae7c794e9a1",
        "colab": {
          "base_uri": "https://localhost:8080/",
          "height": 638
        }
      },
      "source": [
        "parameters = {\n",
        "    # 'vect__max_df': ( 0.75, 1.0),\n",
        "    # 'vect__min_df': (.02, .05),\n",
        "    # 'vect__max_features': (500,1000),\n",
        "    # 'clf__n_estimators':(10, 50, 200,),\n",
        "    # 'clf__max_depth':(15,20),\n",
        "    # 'nb__alpha':(0.01, .02),\n",
        "    # \"dtree__max_depth\" : [8, 12, 15],\n",
        "    # \"dtree__min_samples_split\" : [2, 4, 6, 10, 15]\n",
        "}\n",
        "\n",
        "grid_search = GridSearchCV(pipe,parameters, cv=2, n_jobs=-1, verbose=1)\n",
        "grid_search.fit(X_train, y_train) # set this to a variable"
      ],
      "execution_count": 40,
      "outputs": [
        {
          "output_type": "stream",
          "text": [
            "Fitting 2 folds for each of 1 candidates, totalling 2 fits\n"
          ],
          "name": "stdout"
        },
        {
          "output_type": "stream",
          "text": [
            "[Parallel(n_jobs=-1)]: Using backend LokyBackend with 2 concurrent workers.\n",
            "[Parallel(n_jobs=-1)]: Done   2 out of   2 | elapsed:   48.5s remaining:    0.0s\n",
            "[Parallel(n_jobs=-1)]: Done   2 out of   2 | elapsed:   48.5s finished\n"
          ],
          "name": "stderr"
        },
        {
          "output_type": "execute_result",
          "data": {
            "text/plain": [
              "GridSearchCV(cv=2, error_score=nan,\n",
              "             estimator=Pipeline(memory=None,\n",
              "                                steps=[('vect',\n",
              "                                        TfidfVectorizer(analyzer='word',\n",
              "                                                        binary=False,\n",
              "                                                        decode_error='strict',\n",
              "                                                        dtype=<class 'numpy.float64'>,\n",
              "                                                        encoding='utf-8',\n",
              "                                                        input='content',\n",
              "                                                        lowercase=True,\n",
              "                                                        max_df=1.0,\n",
              "                                                        max_features=None,\n",
              "                                                        min_df=1,\n",
              "                                                        ngram_range=(1, 2),\n",
              "                                                        norm='l2',\n",
              "                                                        preprocessor=None,\n",
              "                                                        smooth_idf=True,\n",
              "                                                        stop_words='english',\n",
              "                                                        strip...\n",
              "                                                              max_features=None,\n",
              "                                                              max_leaf_nodes=None,\n",
              "                                                              min_impurity_decrease=0.0,\n",
              "                                                              min_impurity_split=None,\n",
              "                                                              min_samples_leaf=1,\n",
              "                                                              min_samples_split=2,\n",
              "                                                              min_weight_fraction_leaf=0.0,\n",
              "                                                              presort='deprecated',\n",
              "                                                              random_state=42,\n",
              "                                                              splitter='best'))],\n",
              "                                verbose=False),\n",
              "             iid='deprecated', n_jobs=-1, param_grid={},\n",
              "             pre_dispatch='2*n_jobs', refit=True, return_train_score=False,\n",
              "             scoring=None, verbose=1)"
            ]
          },
          "metadata": {
            "tags": []
          },
          "execution_count": 40
        }
      ]
    },
    {
      "cell_type": "code",
      "metadata": {
        "id": "ASjDgfMHn7mr",
        "outputId": "57b303b8-cfa0-4a7b-d702-113acbed6ee6",
        "colab": {
          "base_uri": "https://localhost:8080/",
          "height": 34
        }
      },
      "source": [
        "grid_search.best_params_"
      ],
      "execution_count": 53,
      "outputs": [
        {
          "output_type": "execute_result",
          "data": {
            "text/plain": [
              "{}"
            ]
          },
          "metadata": {
            "tags": []
          },
          "execution_count": 53
        }
      ]
    },
    {
      "cell_type": "code",
      "metadata": {
        "id": "PBcqtMivoEEa"
      },
      "source": [
        ""
      ],
      "execution_count": null,
      "outputs": []
    },
    {
      "cell_type": "markdown",
      "metadata": {
        "id": "vHUnZAa2MuYx"
      },
      "source": [
        "## Dummy text to test prediction:\n",
        "\n",
        "\n",
        "\"Alamo Square is an oasis of sunlight and tranquility in one of San Francisco's most desirable neighborhoods. The apartment is one block off of Alamo Square park featuring a view into the rich cityscape. Centrally located between the shopping and dining areas of Hayes Valley, Divisadero and Lower Haight. The location of the property is located just blocks away from Duboce Park and public transportation\""
      ]
    },
    {
      "cell_type": "code",
      "metadata": {
        "id": "XqnyVtpwNNMc"
      },
      "source": [
        "test_text = \"Alamo Square is an oasis of sunlight and tranquility in one of San Francisco's most desirable neighborhoods. The apartment is one block off of Alamo Square park featuring a view into the rich cityscape. Centrally located between the shopping and dining areas of Hayes Valley, Divisadero and Lower Haight. The location of the property is located just blocks away from Duboce Park and public transportation\""
      ],
      "execution_count": 41,
      "outputs": []
    },
    {
      "cell_type": "code",
      "metadata": {
        "id": "ez-POgtvigb7"
      },
      "source": [
        "test_text02 = \"Bryce and Erle make a model\""
      ],
      "execution_count": 49,
      "outputs": []
    },
    {
      "cell_type": "code",
      "metadata": {
        "id": "lWTDYnp7MzdO"
      },
      "source": [
        "# make class predictions for X_test_dtm\n",
        "# y_pred02 = grid_search.predict(whisk_review_test[\"description\"])\n",
        "\n",
        "y_pred = grid_search.predict([test_text])"
      ],
      "execution_count": 47,
      "outputs": []
    },
    {
      "cell_type": "code",
      "metadata": {
        "id": "QSAmPu1GiojA"
      },
      "source": [
        "y_pred02 = grid_search.predict([test_text02])"
      ],
      "execution_count": 50,
      "outputs": []
    },
    {
      "cell_type": "code",
      "metadata": {
        "id": "fKS0nax8NimO",
        "outputId": "fce28e46-7f51-4d55-d5fd-abc0575e6db7",
        "colab": {
          "base_uri": "https://localhost:8080/",
          "height": 34
        }
      },
      "source": [
        "print(y_pred)"
      ],
      "execution_count": 45,
      "outputs": [
        {
          "output_type": "stream",
          "text": [
            "[125.]\n"
          ],
          "name": "stdout"
        }
      ]
    },
    {
      "cell_type": "code",
      "metadata": {
        "id": "p--S2XRUitYi",
        "outputId": "0d9fdf35-c913-4407-d30b-402bb9da09c4",
        "colab": {
          "base_uri": "https://localhost:8080/",
          "height": 34
        }
      },
      "source": [
        "print(y_pred02)"
      ],
      "execution_count": 51,
      "outputs": [
        {
          "output_type": "stream",
          "text": [
            "[110.]\n"
          ],
          "name": "stdout"
        }
      ]
    },
    {
      "cell_type": "markdown",
      "metadata": {
        "id": "hij6B5jFgam_"
      },
      "source": [
        "## Serialize the Model\n"
      ]
    },
    {
      "cell_type": "code",
      "metadata": {
        "id": "pzXOkyrgcl4E"
      },
      "source": [
        "# import the serializing and loading library\n",
        "from joblib import dump, load"
      ],
      "execution_count": 52,
      "outputs": []
    },
    {
      "cell_type": "code",
      "metadata": {
        "id": "WUAfCodbcuEz",
        "outputId": "4cbf8495-9fb8-4f24-8155-a8477391e8a4",
        "colab": {
          "base_uri": "https://localhost:8080/",
          "height": 34
        }
      },
      "source": [
        "# serialize the file, with parameter compress\n",
        "dump(grid_search, \"erg_bryce_model01.joblib\", compress=True)"
      ],
      "execution_count": 54,
      "outputs": [
        {
          "output_type": "execute_result",
          "data": {
            "text/plain": [
              "['erg_bryce_model01.joblib']"
            ]
          },
          "metadata": {
            "tags": []
          },
          "execution_count": 54
        }
      ]
    },
    {
      "cell_type": "code",
      "metadata": {
        "id": "E17QOkaiNkRC"
      },
      "source": [
        ""
      ],
      "execution_count": null,
      "outputs": []
    },
    {
      "cell_type": "markdown",
      "metadata": {
        "id": "Q_5JkV6qLBpO"
      },
      "source": [
        "#### Model 2 - stuff we need; user variables.  "
      ]
    },
    {
      "cell_type": "code",
      "metadata": {
        "id": "xv9nPudwLOy5",
        "outputId": "97887d93-31cd-428b-f3e3-72017c3fb9d8",
        "colab": {
          "base_uri": "https://localhost:8080/",
          "height": 691
        }
      },
      "source": [
        "sfbnb_df.columns\n"
      ],
      "execution_count": null,
      "outputs": [
        {
          "output_type": "execute_result",
          "data": {
            "text/plain": [
              "Index(['id', 'listing_url', 'scrape_id', 'last_scraped', 'name', 'summary',\n",
              "       'space', 'description', 'experiences_offered', 'neighborhood_overview',\n",
              "       'notes', 'transit', 'access', 'interaction', 'house_rules',\n",
              "       'thumbnail_url', 'medium_url', 'picture_url', 'xl_picture_url',\n",
              "       'host_id', 'host_url', 'host_name', 'host_since', 'host_location',\n",
              "       'host_about', 'host_response_time', 'host_response_rate',\n",
              "       'host_acceptance_rate', 'host_is_superhost', 'host_thumbnail_url',\n",
              "       'host_picture_url', 'host_neighbourhood', 'host_listings_count',\n",
              "       'host_total_listings_count', 'host_verifications',\n",
              "       'host_has_profile_pic', 'host_identity_verified', 'street',\n",
              "       'neighbourhood', 'neighbourhood_cleansed',\n",
              "       'neighbourhood_group_cleansed', 'city', 'state', 'zipcode', 'market',\n",
              "       'smart_location', 'country_code', 'country', 'latitude', 'longitude',\n",
              "       'is_location_exact', 'property_type', 'room_type', 'accommodates',\n",
              "       'bathrooms', 'bedrooms', 'beds', 'bed_type', 'amenities', 'square_feet',\n",
              "       'price', 'weekly_price', 'monthly_price', 'security_deposit',\n",
              "       'cleaning_fee', 'guests_included', 'extra_people', 'minimum_nights',\n",
              "       'maximum_nights', 'minimum_minimum_nights', 'maximum_minimum_nights',\n",
              "       'minimum_maximum_nights', 'maximum_maximum_nights',\n",
              "       'minimum_nights_avg_ntm', 'maximum_nights_avg_ntm', 'calendar_updated',\n",
              "       'has_availability', 'availability_30', 'availability_60',\n",
              "       'availability_90', 'availability_365', 'calendar_last_scraped',\n",
              "       'number_of_reviews', 'number_of_reviews_ltm', 'first_review',\n",
              "       'last_review', 'review_scores_rating', 'review_scores_accuracy',\n",
              "       'review_scores_cleanliness', 'review_scores_checkin',\n",
              "       'review_scores_communication', 'review_scores_location',\n",
              "       'review_scores_value', 'requires_license', 'license',\n",
              "       'jurisdiction_names', 'instant_bookable', 'is_business_travel_ready',\n",
              "       'cancellation_policy', 'require_guest_profile_picture',\n",
              "       'require_guest_phone_verification', 'calculated_host_listings_count',\n",
              "       'calculated_host_listings_count_entire_homes',\n",
              "       'calculated_host_listings_count_private_rooms',\n",
              "       'calculated_host_listings_count_shared_rooms', 'reviews_per_month',\n",
              "       'name_clean', 'summary_clean', 'space_clean', 'description_clean',\n",
              "       'neighborhood_overview_clean', 'notes_clean', 'transit_clean',\n",
              "       'access_clean', 'interaction_clean', 'house_rules_clean',\n",
              "       'neighbourhood_cleansed_clean', 'cancellation_policy_clean',\n",
              "       'text_combined'],\n",
              "      dtype='object')"
            ]
          },
          "metadata": {
            "tags": []
          },
          "execution_count": 107
        }
      ]
    },
    {
      "cell_type": "code",
      "metadata": {
        "id": "yFYx6VrRLZCs",
        "outputId": "28428c2d-c2e0-4705-dffc-02df2c64426d",
        "colab": {
          "base_uri": "https://localhost:8080/",
          "height": 121
        }
      },
      "source": [
        "sfbnb_df['experiences_offered'].head()"
      ],
      "execution_count": null,
      "outputs": [
        {
          "output_type": "execute_result",
          "data": {
            "text/plain": [
              "0    none\n",
              "1    none\n",
              "2    none\n",
              "3    none\n",
              "4    none\n",
              "Name: experiences_offered, dtype: object"
            ]
          },
          "metadata": {
            "tags": []
          },
          "execution_count": 34
        }
      ]
    },
    {
      "cell_type": "code",
      "metadata": {
        "id": "2UAEkiSfLfY0"
      },
      "source": [
        ""
      ],
      "execution_count": null,
      "outputs": []
    }
  ]
}